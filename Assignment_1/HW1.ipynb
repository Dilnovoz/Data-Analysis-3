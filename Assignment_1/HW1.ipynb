{
 "cells": [
  {
   "cell_type": "markdown",
   "metadata": {},
   "source": [
    "# Assignment 1"
   ]
  },
  {
   "cell_type": "markdown",
   "metadata": {},
   "source": [
    "##### Dilnovoz Abdurazzakova"
   ]
  },
  {
   "cell_type": "code",
   "execution_count": 1,
   "metadata": {},
   "outputs": [],
   "source": [
    "# Importing relevant libraries to use\n",
    "import warnings\n",
    "import numpy  as np\n",
    "import pandas as pd\n",
    "import statsmodels.formula.api as smf\n",
    "from statsmodels.tools.eval_measures import mse,rmse\n",
    "from plotnine import *\n",
    "from skimpy import skim\n",
    "import statsmodels\n",
    "from stargazer.stargazer import Stargazer\n",
    "import seaborn as sns\n",
    "from sklearn.model_selection import KFold\n",
    "from sklearn.model_selection import train_test_split\n",
    "from sklearn.linear_model import LinearRegression, Ridge, Lasso\n",
    "%matplotlib inline\n",
    "warnings.filterwarnings(\"ignore\")"
   ]
  },
  {
   "cell_type": "code",
   "execution_count": 2,
   "metadata": {},
   "outputs": [],
   "source": [
    "# Opening the dataset to use\n",
    "Income_data=pd.read_csv(\"morg-2014-emp.csv\")"
   ]
  },
  {
   "cell_type": "code",
   "execution_count": 3,
   "metadata": {},
   "outputs": [
    {
     "data": {
      "text/plain": [
       "(149316, 23)"
      ]
     },
     "execution_count": 3,
     "metadata": {},
     "output_type": "execute_result"
    }
   ],
   "source": [
    "Income_data.shape"
   ]
  },
  {
   "cell_type": "markdown",
   "metadata": {},
   "source": [
    "### Choosing the Occupation \n",
    "\n",
    "For the purpose of this assignment I choose Econonomists and 4 types of finance-specialized occupations: Accountants and auditors, Appraisers and assessors of real estate, Budget analysts, Credit analysts and Financial analysts."
   ]
  },
  {
   "cell_type": "code",
   "execution_count": 4,
   "metadata": {},
   "outputs": [],
   "source": [
    "Income_data.loc[Income_data[\"occ2012\"] == 1800, \"sample\"] = 1\n",
    "\n",
    "Income_data.loc[\n",
    "    ((Income_data[\"occ2012\"] >= 800)& (Income_data[\"occ2012\"] <= 840)), \"sample\"] = 1\n",
    "Income_data.loc[Income_data[\"sample\"].isna(), \"sample\"] = 0\n",
    "Income_data = Income_data.loc[\n",
    "    (Income_data[\"sample\"] == 1), :\n",
    "].reset_index(drop=True)"
   ]
  },
  {
   "cell_type": "code",
   "execution_count": 5,
   "metadata": {},
   "outputs": [
    {
     "data": {
      "text/plain": [
       "(2329, 24)"
      ]
     },
     "execution_count": 5,
     "metadata": {},
     "output_type": "execute_result"
    }
   ],
   "source": [
    "Income_data.shape"
   ]
  },
  {
   "cell_type": "markdown",
   "metadata": {},
   "source": [
    "## Task 1 \n",
    "Models: the target variable is earnings per hour, all others would be predictors."
   ]
  },
  {
   "cell_type": "code",
   "execution_count": 6,
   "metadata": {},
   "outputs": [
    {
     "data": {
      "text/plain": [
       "Index(['Unnamed: 0', 'hhid', 'intmonth', 'stfips', 'weight', 'earnwke',\n",
       "       'uhours', 'grade92', 'race', 'ethnic', 'age', 'sex', 'marital',\n",
       "       'ownchild', 'chldpres', 'prcitshp', 'state', 'ind02', 'occ2012',\n",
       "       'class', 'unionmme', 'unioncov', 'lfsr94', 'sample'],\n",
       "      dtype='object')"
      ]
     },
     "execution_count": 6,
     "metadata": {},
     "output_type": "execute_result"
    }
   ],
   "source": [
    "Income_data.columns"
   ]
  },
  {
   "cell_type": "code",
   "execution_count": 7,
   "metadata": {},
   "outputs": [],
   "source": [
    "### Creating target variable - Log_wage per hour\n",
    "Income_data[\"w\"] = Income_data[\"earnwke\"] / Income_data[\"uhours\"]\n",
    "Income_data[\"lnw\"] = np.log(Income_data[\"w\"])"
   ]
  },
  {
   "cell_type": "markdown",
   "metadata": {},
   "source": [
    "### Feature engineering"
   ]
  },
  {
   "cell_type": "code",
   "execution_count": 8,
   "metadata": {},
   "outputs": [],
   "source": [
    "# Marital status\n",
    "Income_data[\"Married\"] = (Income_data[\"marital\"].isin([1, 2, 3])).astype(int)"
   ]
  },
  {
   "cell_type": "code",
   "execution_count": 9,
   "metadata": {},
   "outputs": [],
   "source": [
    "# Categorize Education\n",
    "Income_data[\"ed_BA\"] = (Income_data[\"grade92\"] == 43).astype(int)\n",
    "Income_data[\"ed_Advanced\"] = (Income_data[\"grade92\"] > 43).astype(int)"
   ]
  },
  {
   "cell_type": "code",
   "execution_count": 10,
   "metadata": {},
   "outputs": [],
   "source": [
    "# Categorize race\n",
    "Income_data[\"race\"] = np.where(\n",
    "    Income_data[\"race\"] == 1,\n",
    "    \"white\",\n",
    "        np.where(Income_data[\"race\"] == 2, \"black\", \"other\"),\n",
    ")"
   ]
  },
  {
   "cell_type": "code",
   "execution_count": 11,
   "metadata": {},
   "outputs": [],
   "source": [
    "# Gender\n",
    "Income_data[\"female\"] = (Income_data.sex == 2).astype(int)"
   ]
  },
  {
   "cell_type": "code",
   "execution_count": 12,
   "metadata": {},
   "outputs": [],
   "source": [
    "# Age \n",
    "Income_data[\"agesq\"] = np.power(Income_data[\"age\"], 2)\n",
    "Income_data[\"agec\"] = np.power(Income_data[\"age\"], 3)"
   ]
  },
  {
   "cell_type": "code",
   "execution_count": 13,
   "metadata": {},
   "outputs": [],
   "source": [
    "# Native and Private dummy\n",
    "Income_data[\"Native\"] =  np.where(Income_data[\"prcitshp\"] == \"Native, Born In US\", 1, 0)\n",
    "Income_data[\"Private_profit\"] =  np.where(Income_data[\"class\"] == \"Private, For Profit\", 1, 0)"
   ]
  },
  {
   "cell_type": "code",
   "execution_count": 14,
   "metadata": {},
   "outputs": [
    {
     "data": {
      "text/html": [
       "<div>\n",
       "<style scoped>\n",
       "    .dataframe tbody tr th:only-of-type {\n",
       "        vertical-align: middle;\n",
       "    }\n",
       "\n",
       "    .dataframe tbody tr th {\n",
       "        vertical-align: top;\n",
       "    }\n",
       "\n",
       "    .dataframe thead th {\n",
       "        text-align: right;\n",
       "    }\n",
       "</style>\n",
       "<table border=\"1\" class=\"dataframe\">\n",
       "  <thead>\n",
       "    <tr style=\"text-align: right;\">\n",
       "      <th></th>\n",
       "      <th>Unnamed: 0</th>\n",
       "      <th>hhid</th>\n",
       "      <th>intmonth</th>\n",
       "      <th>stfips</th>\n",
       "      <th>weight</th>\n",
       "      <th>earnwke</th>\n",
       "      <th>uhours</th>\n",
       "      <th>grade92</th>\n",
       "      <th>race</th>\n",
       "      <th>ethnic</th>\n",
       "      <th>...</th>\n",
       "      <th>w</th>\n",
       "      <th>lnw</th>\n",
       "      <th>Married</th>\n",
       "      <th>ed_BA</th>\n",
       "      <th>ed_Advanced</th>\n",
       "      <th>female</th>\n",
       "      <th>agesq</th>\n",
       "      <th>agec</th>\n",
       "      <th>Native</th>\n",
       "      <th>Private_profit</th>\n",
       "    </tr>\n",
       "  </thead>\n",
       "  <tbody>\n",
       "    <tr>\n",
       "      <th>0</th>\n",
       "      <td>44</td>\n",
       "      <td>954001919079770</td>\n",
       "      <td>January</td>\n",
       "      <td>AL</td>\n",
       "      <td>3677.7816</td>\n",
       "      <td>680.00</td>\n",
       "      <td>40</td>\n",
       "      <td>43</td>\n",
       "      <td>white</td>\n",
       "      <td>NaN</td>\n",
       "      <td>...</td>\n",
       "      <td>17.00000</td>\n",
       "      <td>2.833213</td>\n",
       "      <td>0</td>\n",
       "      <td>1</td>\n",
       "      <td>0</td>\n",
       "      <td>0</td>\n",
       "      <td>729</td>\n",
       "      <td>19683</td>\n",
       "      <td>1</td>\n",
       "      <td>1</td>\n",
       "    </tr>\n",
       "    <tr>\n",
       "      <th>1</th>\n",
       "      <td>125</td>\n",
       "      <td>507001320102921</td>\n",
       "      <td>January</td>\n",
       "      <td>AL</td>\n",
       "      <td>3296.7986</td>\n",
       "      <td>2000.00</td>\n",
       "      <td>50</td>\n",
       "      <td>44</td>\n",
       "      <td>white</td>\n",
       "      <td>NaN</td>\n",
       "      <td>...</td>\n",
       "      <td>40.00000</td>\n",
       "      <td>3.688879</td>\n",
       "      <td>1</td>\n",
       "      <td>0</td>\n",
       "      <td>1</td>\n",
       "      <td>0</td>\n",
       "      <td>2304</td>\n",
       "      <td>110592</td>\n",
       "      <td>1</td>\n",
       "      <td>1</td>\n",
       "    </tr>\n",
       "    <tr>\n",
       "      <th>2</th>\n",
       "      <td>187</td>\n",
       "      <td>210033043908195</td>\n",
       "      <td>January</td>\n",
       "      <td>AL</td>\n",
       "      <td>4563.6243</td>\n",
       "      <td>280.00</td>\n",
       "      <td>32</td>\n",
       "      <td>42</td>\n",
       "      <td>white</td>\n",
       "      <td>NaN</td>\n",
       "      <td>...</td>\n",
       "      <td>8.75000</td>\n",
       "      <td>2.169054</td>\n",
       "      <td>0</td>\n",
       "      <td>0</td>\n",
       "      <td>0</td>\n",
       "      <td>0</td>\n",
       "      <td>576</td>\n",
       "      <td>13824</td>\n",
       "      <td>1</td>\n",
       "      <td>1</td>\n",
       "    </tr>\n",
       "    <tr>\n",
       "      <th>3</th>\n",
       "      <td>353</td>\n",
       "      <td>700206992564793</td>\n",
       "      <td>January</td>\n",
       "      <td>AK</td>\n",
       "      <td>369.9124</td>\n",
       "      <td>1346.15</td>\n",
       "      <td>40</td>\n",
       "      <td>43</td>\n",
       "      <td>white</td>\n",
       "      <td>NaN</td>\n",
       "      <td>...</td>\n",
       "      <td>33.65375</td>\n",
       "      <td>3.516124</td>\n",
       "      <td>0</td>\n",
       "      <td>1</td>\n",
       "      <td>0</td>\n",
       "      <td>1</td>\n",
       "      <td>3600</td>\n",
       "      <td>216000</td>\n",
       "      <td>1</td>\n",
       "      <td>0</td>\n",
       "    </tr>\n",
       "    <tr>\n",
       "      <th>4</th>\n",
       "      <td>430</td>\n",
       "      <td>75933206026296</td>\n",
       "      <td>January</td>\n",
       "      <td>AK</td>\n",
       "      <td>531.2968</td>\n",
       "      <td>680.00</td>\n",
       "      <td>40</td>\n",
       "      <td>43</td>\n",
       "      <td>white</td>\n",
       "      <td>NaN</td>\n",
       "      <td>...</td>\n",
       "      <td>17.00000</td>\n",
       "      <td>2.833213</td>\n",
       "      <td>1</td>\n",
       "      <td>1</td>\n",
       "      <td>0</td>\n",
       "      <td>0</td>\n",
       "      <td>900</td>\n",
       "      <td>27000</td>\n",
       "      <td>0</td>\n",
       "      <td>1</td>\n",
       "    </tr>\n",
       "  </tbody>\n",
       "</table>\n",
       "<p>5 rows × 34 columns</p>\n",
       "</div>"
      ],
      "text/plain": [
       "   Unnamed: 0             hhid intmonth stfips     weight  earnwke  uhours  \\\n",
       "0          44  954001919079770  January     AL  3677.7816   680.00      40   \n",
       "1         125  507001320102921  January     AL  3296.7986  2000.00      50   \n",
       "2         187  210033043908195  January     AL  4563.6243   280.00      32   \n",
       "3         353  700206992564793  January     AK   369.9124  1346.15      40   \n",
       "4         430   75933206026296  January     AK   531.2968   680.00      40   \n",
       "\n",
       "   grade92   race  ethnic  ...         w       lnw  Married  ed_BA  \\\n",
       "0       43  white     NaN  ...  17.00000  2.833213        0      1   \n",
       "1       44  white     NaN  ...  40.00000  3.688879        1      0   \n",
       "2       42  white     NaN  ...   8.75000  2.169054        0      0   \n",
       "3       43  white     NaN  ...  33.65375  3.516124        0      1   \n",
       "4       43  white     NaN  ...  17.00000  2.833213        1      1   \n",
       "\n",
       "   ed_Advanced female agesq    agec  Native Private_profit  \n",
       "0            0      0   729   19683       1              1  \n",
       "1            1      0  2304  110592       1              1  \n",
       "2            0      0   576   13824       1              1  \n",
       "3            0      1  3600  216000       1              0  \n",
       "4            0      0   900   27000       0              1  \n",
       "\n",
       "[5 rows x 34 columns]"
      ]
     },
     "execution_count": 14,
     "metadata": {},
     "output_type": "execute_result"
    }
   ],
   "source": [
    "Income_data.head()"
   ]
  },
  {
   "cell_type": "markdown",
   "metadata": {},
   "source": [
    "## Task 2 \n",
    "Shall be the simplest, model 4 the more complex. It shall be OLS. You shall explain your choice of predictors."
   ]
  },
  {
   "cell_type": "code",
   "execution_count": 15,
   "metadata": {},
   "outputs": [
    {
     "data": {
      "text/plain": [
       "<AxesSubplot:>"
      ]
     },
     "execution_count": 15,
     "metadata": {},
     "output_type": "execute_result"
    },
    {
     "data": {
      "image/png": "[encoded data removed]",
      "text/plain": [
       "<Figure size 640x480 with 1 Axes>"
      ]
     },
     "metadata": {},
     "output_type": "display_data"
    }
   ],
   "source": [
    "Income_data.w.hist(bins=100)"
   ]
  },
  {
   "cell_type": "code",
   "execution_count": 16,
   "metadata": {},
   "outputs": [
    {
     "data": {
      "text/plain": [
       "<AxesSubplot:>"
      ]
     },
     "execution_count": 16,
     "metadata": {},
     "output_type": "execute_result"
    },
    {
     "data": {
      "image/png": "[encoded data removed]",
      "text/plain": [
       "<Figure size 640x480 with 1 Axes>"
      ]
     },
     "metadata": {},
     "output_type": "display_data"
    }
   ],
   "source": [
    "Income_data.lnw.hist(bins=100)"
   ]
  },
  {
   "cell_type": "code",
   "execution_count": 17,
   "metadata": {},
   "outputs": [],
   "source": [
    "# use robust std\n",
    "reg1 = smf.ols(formula=\"lnw~female+age+Native+C(race)+ownchild+Married\", data=Income_data).fit(cov_type=\"HC1\")\n",
    "reg2 = smf.ols(formula=\"lnw~female+age+Native+C(race)+ownchild+Married+agesq+agec+Married*female\", data=Income_data).fit(cov_type=\"HC1\")\n",
    "reg3 = smf.ols(formula=\"lnw~ed_BA+ed_Advanced+Private_profit\", data=Income_data).fit(cov_type=\"HC1\")\n",
    "reg4 = smf.ols(formula=\"lnw~female+age+Native+C(race)+ownchild+Married+agesq+agec+Married*female+ed_BA+ed_Advanced+Private_profit+ed_Advanced*female+ed_BA*female\", data=Income_data).fit(cov_type=\"HC1\")\n",
    "reg5 = smf.ols(formula=\"w~female+age+Native+C(race)+ownchild+Married\", data=Income_data).fit(cov_type=\"HC1\")\n",
    "reg6 = smf.ols(formula=\"w~female+age+Native+C(race)+ownchild+Married+agesq+agec+Married*female\", data=Income_data).fit(cov_type=\"HC1\")\n",
    "reg7 = smf.ols(formula=\"w~ed_BA+ed_Advanced+Private_profit\", data=Income_data).fit(cov_type=\"HC1\")\n",
    "reg8 = smf.ols(formula=\"w~female+age+Native+C(race)+ownchild+Married+agesq+agec+Married*female+ed_BA+ed_Advanced+Private_profit+ed_Advanced*female+ed_BA*female\", data=Income_data).fit(cov_type=\"HC1\")\n"
   ]
  },
  {
   "cell_type": "code",
   "execution_count": 18,
   "metadata": {},
   "outputs": [
    {
     "data": {
      "text/html": [
       "<table style=\"text-align:center\"><tr><td colspan=\"9\" style=\"border-bottom: 1px solid black\"></td></tr><tr><td style=\"text-align:left\"></td><tr><td></td><td colspan=\"1\">ln wage</td><td colspan=\"1\">ln wage</td><td colspan=\"1\">ln wage</td><td colspan=\"1\">ln wage</td><td colspan=\"1\">wage</td><td colspan=\"1\">wage</td><td colspan=\"1\">wage</td><td colspan=\"1\">wage</td></tr><tr><td style=\"text-align:left\"></td><td>(1)</td><td>(2)</td><td>(3)</td><td>(4)</td><td>(5)</td><td>(6)</td><td>(7)</td><td>(8)</td></tr><tr><td colspan=\"9\" style=\"border-bottom: 1px solid black\"></td></tr><tr><td style=\"text-align:left\">C(race)[T.other]</td><td>0.149<sup>***</sup></td><td>0.164<sup>***</sup></td><td></td><td>0.141<sup>***</sup></td><td>5.511<sup>***</sup></td><td>5.863<sup>***</sup></td><td></td><td>5.174<sup>***</sup></td></tr><tr><td style=\"text-align:left\"></td><td>(0.051)</td><td>(0.051)</td><td></td><td>(0.048)</td><td>(1.773)</td><td>(1.775)</td><td></td><td>(1.688)</td></tr><tr><td style=\"text-align:left\">C(race)[T.white]</td><td>0.077<sup>*</sup></td><td>0.097<sup>**</sup></td><td></td><td>0.094<sup>**</sup></td><td>2.718<sup>**</sup></td><td>3.183<sup>***</sup></td><td></td><td>3.001<sup>***</sup></td></tr><tr><td style=\"text-align:left\"></td><td>(0.041)</td><td>(0.042)</td><td></td><td>(0.038)</td><td>(1.174)</td><td>(1.197)</td><td></td><td>(1.098)</td></tr><tr><td style=\"text-align:left\">Constant</td><td>3.040<sup>***</sup></td><td>0.060<sup></sup></td><td>3.012<sup>***</sup></td><td>0.365<sup></sup></td><td>20.917<sup>***</sup></td><td>-37.758<sup>**</sup></td><td>22.596<sup>***</sup></td><td>-30.528<sup>*</sup></td></tr><tr><td style=\"text-align:left\"></td><td>(0.071)</td><td>(0.779)</td><td>(0.030)</td><td>(0.740)</td><td>(1.769)</td><td>(19.222)</td><td>(0.655)</td><td>(18.238)</td></tr><tr><td style=\"text-align:left\">Married</td><td>0.049<sup>*</sup></td><td>0.115<sup>***</sup></td><td></td><td>0.075<sup>*</sup></td><td>1.487<sup>**</sup></td><td>3.343<sup>***</sup></td><td></td><td>2.202<sup>*</sup></td></tr><tr><td style=\"text-align:left\"></td><td>(0.030)</td><td>(0.043)</td><td></td><td>(0.041)</td><td>(0.744)</td><td>(1.200)</td><td></td><td>(1.140)</td></tr><tr><td style=\"text-align:left\">Married:female</td><td></td><td>-0.119<sup>**</sup></td><td></td><td>-0.080<sup></sup></td><td></td><td>-3.223<sup>**</sup></td><td></td><td>-2.036<sup></sup></td></tr><tr><td style=\"text-align:left\"></td><td></td><td>(0.052)</td><td></td><td>(0.051)</td><td></td><td>(1.365)</td><td></td><td>(1.315)</td></tr><tr><td style=\"text-align:left\">Native</td><td>-0.068<sup>**</sup></td><td>-0.047<sup></sup></td><td></td><td>-0.007<sup></sup></td><td>-2.100<sup>**</sup></td><td>-1.631<sup></sup></td><td></td><td>-0.399<sup></sup></td></tr><tr><td style=\"text-align:left\"></td><td>(0.031)</td><td>(0.031)</td><td></td><td>(0.029)</td><td>(1.016)</td><td>(1.023)</td><td></td><td>(0.925)</td></tr><tr><td style=\"text-align:left\">Private_profit</td><td></td><td></td><td>-0.050<sup>**</sup></td><td>-0.034<sup></sup></td><td></td><td></td><td>-0.499<sup></sup></td><td>0.067<sup></sup></td></tr><tr><td style=\"text-align:left\"></td><td></td><td></td><td>(0.025)</td><td>(0.025)</td><td></td><td></td><td>(0.710)</td><td>(0.709)</td></tr><tr><td style=\"text-align:left\">age</td><td>0.007<sup>***</sup></td><td>0.213<sup>***</sup></td><td></td><td>0.164<sup>***</sup></td><td>0.265<sup>***</sup></td><td>4.183<sup>***</sup></td><td></td><td>2.770<sup>**</sup></td></tr><tr><td style=\"text-align:left\"></td><td>(0.001)</td><td>(0.057)</td><td></td><td>(0.055)</td><td>(0.030)</td><td>(1.460)</td><td></td><td>(1.408)</td></tr><tr><td style=\"text-align:left\">agec</td><td></td><td>0.000<sup>***</sup></td><td></td><td>0.000<sup>**</sup></td><td></td><td>0.001<sup>*</sup></td><td></td><td>0.000<sup></sup></td></tr><tr><td style=\"text-align:left\"></td><td></td><td>(0.000)</td><td></td><td>(0.000)</td><td></td><td>(0.000)</td><td></td><td>(0.000)</td></tr><tr><td style=\"text-align:left\">agesq</td><td></td><td>-0.004<sup>***</sup></td><td></td><td>-0.003<sup>**</sup></td><td></td><td>-0.082<sup>**</sup></td><td></td><td>-0.048<sup></sup></td></tr><tr><td style=\"text-align:left\"></td><td></td><td>(0.001)</td><td></td><td>(0.001)</td><td></td><td>(0.036)</td><td></td><td>(0.034)</td></tr><tr><td style=\"text-align:left\">ed_Advanced</td><td></td><td></td><td>0.504<sup>***</sup></td><td>0.494<sup>***</sup></td><td></td><td></td><td>14.659<sup>***</sup></td><td>14.694<sup>***</sup></td></tr><tr><td style=\"text-align:left\"></td><td></td><td></td><td>(0.039)</td><td>(0.048)</td><td></td><td></td><td>(1.029)</td><td>(1.376)</td></tr><tr><td style=\"text-align:left\">ed_Advanced:female</td><td></td><td></td><td></td><td>-0.055<sup></sup></td><td></td><td></td><td></td><td>-1.146<sup></sup></td></tr><tr><td style=\"text-align:left\"></td><td></td><td></td><td></td><td>(0.073)</td><td></td><td></td><td></td><td>(2.135)</td></tr><tr><td style=\"text-align:left\">ed_BA</td><td></td><td></td><td>0.341<sup>***</sup></td><td>0.310<sup>***</sup></td><td></td><td></td><td>8.978<sup>***</sup></td><td>9.647<sup>***</sup></td></tr><tr><td style=\"text-align:left\"></td><td></td><td></td><td>(0.035)</td><td>(0.051)</td><td></td><td></td><td>(0.612)</td><td>(1.235)</td></tr><tr><td style=\"text-align:left\">ed_BA:female</td><td></td><td></td><td></td><td>0.039<sup></sup></td><td></td><td></td><td></td><td>-0.843<sup></sup></td></tr><tr><td style=\"text-align:left\"></td><td></td><td></td><td></td><td>(0.063)</td><td></td><td></td><td></td><td>(1.402)</td></tr><tr><td style=\"text-align:left\">female</td><td>-0.224<sup>***</sup></td><td>-0.154<sup>***</sup></td><td></td><td>-0.119<sup>**</sup></td><td>-7.165<sup>***</sup></td><td>-5.272<sup>***</sup></td><td></td><td>-3.229<sup>**</sup></td></tr><tr><td style=\"text-align:left\"></td><td>(0.026)</td><td>(0.039)</td><td></td><td>(0.059)</td><td>(0.662)</td><td>(1.032)</td><td></td><td>(1.341)</td></tr><tr><td style=\"text-align:left\">ownchild</td><td>0.042<sup>***</sup></td><td>0.004<sup></sup></td><td></td><td>0.011<sup></sup></td><td>1.036<sup>***</sup></td><td>0.137<sup></sup></td><td></td><td>0.308<sup></sup></td></tr><tr><td style=\"text-align:left\"></td><td>(0.012)</td><td>(0.013)</td><td></td><td>(0.012)</td><td>(0.349)</td><td>(0.363)</td><td></td><td>(0.348)</td></tr><td colspan=\"9\" style=\"border-bottom: 1px solid black\"></td></tr><tr><td style=\"text-align: left\">Observations</td><td>2,329</td><td>2,329</td><td>2,329</td><td>2,329</td><td>2,329</td><td>2,329</td><td>2,329</td><td>2,329</td></tr><tr><td style=\"text-align: left\">R<sup>2</sup></td><td>0.052</td><td>0.067</td><td>0.078</td><td>0.131</td><td>0.087</td><td>0.098</td><td>0.092</td><td>0.175</td></tr><tr><td style=\"text-align: left\">Adjusted R<sup>2</sup></td><td>0.050</td><td>0.063</td><td>0.076</td><td>0.125</td><td>0.084</td><td>0.094</td><td>0.091</td><td>0.170</td></tr><tr><td style=\"text-align: left\">Residual Std. Error</td><td>0.622 (df=2321)</td><td>0.617 (df=2318)</td><td>0.613 (df=2325)</td><td>0.597 (df=2313)</td><td>15.845 (df=2321)</td><td>15.754 (df=2318)</td><td>15.781 (df=2325)</td><td>15.084 (df=2313)</td></tr><tr><td style=\"text-align: left\">F Statistic</td><td>24.874<sup>***</sup> (df=7; 2321)</td><td>18.118<sup>***</sup> (df=10; 2318)</td><td>56.009<sup>***</sup> (df=3; 2325)</td><td>31.141<sup>***</sup> (df=15; 2313)</td><td>33.000<sup>***</sup> (df=7; 2321)</td><td>28.714<sup>***</sup> (df=10; 2318)</td><td>109.070<sup>***</sup> (df=3; 2325)</td><td>43.270<sup>***</sup> (df=15; 2313)</td></tr><tr><td colspan=\"9\" style=\"border-bottom: 1px solid black\"></td></tr><tr><td style=\"text-align: left\">Note:</td>\n",
       " <td colspan=\"8\" style=\"text-align: right\">\n",
       "  <sup>*</sup>p&lt;0.1;\n",
       "  <sup>**</sup>p&lt;0.05;\n",
       "  <sup>***</sup>p&lt;0.01\n",
       " </td></tr></table>"
      ],
      "text/plain": [
       "<stargazer.stargazer.Stargazer at 0x2830c150b80>"
      ]
     },
     "execution_count": 18,
     "metadata": {},
     "output_type": "execute_result"
    }
   ],
   "source": [
    "stargazer = Stargazer([reg1, reg2, reg3, reg4, reg5, reg6, reg7, reg8])\n",
    "stargazer.custom_columns([\"ln wage\", \"ln wage\", \"ln wage\", \"ln wage\", \"wage\", \"wage\", \"wage\", \"wage\"], [1, 1, 1, 1, 1, 1, 1, 1])\n",
    "stargazer.rename_covariates({\"Intercept\": \"Constant\"})\n",
    "stargazer"
   ]
  },
  {
   "cell_type": "markdown",
   "metadata": {},
   "source": [
    "## Task 3\n",
    "Compare model performance of these models (a) RMSE in the full sample, (2) cross-validated RMSE and (c) BIC in the full sample. "
   ]
  },
  {
   "cell_type": "code",
   "execution_count": 19,
   "metadata": {},
   "outputs": [],
   "source": [
    "reg_fits = [reg5, reg6, reg7, reg8]"
   ]
  },
  {
   "cell_type": "code",
   "execution_count": 20,
   "metadata": {},
   "outputs": [],
   "source": [
    "reg_bics = [reg_fit.bic for reg_fit in reg_fits]\n",
    "reg_rmses = [\n",
    "    rmse(reg_fit.predict(Income_data), Income_data[\"w\"]) for reg_fit in reg_fits\n",
    "]"
   ]
  },
  {
   "cell_type": "code",
   "execution_count": 21,
   "metadata": {},
   "outputs": [
    {
     "data": {
      "text/plain": [
       "[15.817484282366081,\n",
       " 15.716813851443074,\n",
       " 15.767024757852855,\n",
       " 15.031901414695243]"
      ]
     },
     "execution_count": 21,
     "metadata": {},
     "output_type": "execute_result"
    }
   ],
   "source": [
    "reg_rmses"
   ]
  },
  {
   "cell_type": "code",
   "execution_count": 22,
   "metadata": {},
   "outputs": [
    {
     "data": {
      "text/html": [
       "<div>\n",
       "<style scoped>\n",
       "    .dataframe tbody tr th:only-of-type {\n",
       "        vertical-align: middle;\n",
       "    }\n",
       "\n",
       "    .dataframe tbody tr th {\n",
       "        vertical-align: top;\n",
       "    }\n",
       "\n",
       "    .dataframe thead th {\n",
       "        text-align: right;\n",
       "    }\n",
       "</style>\n",
       "<table border=\"1\" class=\"dataframe\">\n",
       "  <thead>\n",
       "    <tr style=\"text-align: right;\">\n",
       "      <th></th>\n",
       "      <th>Model1</th>\n",
       "      <th>Model2</th>\n",
       "      <th>Model3</th>\n",
       "      <th>Model4</th>\n",
       "    </tr>\n",
       "  </thead>\n",
       "  <tbody>\n",
       "    <tr>\n",
       "      <th>RMSE on full sample</th>\n",
       "      <td>15.82</td>\n",
       "      <td>15.72</td>\n",
       "      <td>15.77</td>\n",
       "      <td>15.03</td>\n",
       "    </tr>\n",
       "    <tr>\n",
       "      <th>BIC on full sample</th>\n",
       "      <td>19532.72</td>\n",
       "      <td>19526.24</td>\n",
       "      <td>19486.82</td>\n",
       "      <td>19357.46</td>\n",
       "    </tr>\n",
       "  </tbody>\n",
       "</table>\n",
       "</div>"
      ],
      "text/plain": [
       "                       Model1    Model2    Model3    Model4\n",
       "RMSE on full sample     15.82     15.72     15.77     15.03\n",
       "BIC on full sample   19532.72  19526.24  19486.82  19357.46"
      ]
     },
     "execution_count": 22,
     "metadata": {},
     "output_type": "execute_result"
    }
   ],
   "source": [
    "results = pd.concat(\n",
    "    [\n",
    "        pd.DataFrame(\n",
    "            data=[reg_rmses, reg_bics],\n",
    "            columns=[\"Model\" + str(i + 1) for i in range(len(reg_fits))],\n",
    "        ).rename({0: \"RMSE on full sample\", 1: \"BIC on full sample\"}, axis=0)\n",
    "    ]\n",
    ").round(2)\n",
    "results"
   ]
  },
  {
   "cell_type": "code",
   "execution_count": 23,
   "metadata": {},
   "outputs": [],
   "source": [
    "formula1=\"w~female+age+Native+C(race)+ownchild+Married\"\n",
    "formula2=\"w~female+age+Native+C(race)+ownchild+Married+agesq+agec+Married*female\"\n",
    "formula3=\"w~ed_BA+ed_Advanced+Private_profit\"\n",
    "formula4=\"w~female+age+Native+C(race)+ownchild+Married+agesq+agec+Married*female+ed_BA+ed_Advanced+Private_profit+ed_Advanced*female+ed_BA*female\"\n",
    "model_equations = [formula1, formula2, formula3, formula4]"
   ]
  },
  {
   "cell_type": "code",
   "execution_count": 24,
   "metadata": {},
   "outputs": [],
   "source": [
    "def ols_crossvalidator(\n",
    "    formula: str, data: pd.DataFrame, n_folds=5, average_rmse=True\n",
    ") -> dict:\n",
    "    y = formula.split(\"~\")[0].strip()\n",
    "\n",
    "    # Get statistics on the whole work data\n",
    "\n",
    "    model = smf.ols(formula, data=data).fit()\n",
    "\n",
    "    rsquared = model.rsquared\n",
    "    # n_coefficients = model.params.shape[0]\n",
    "    n_coefficients = (\n",
    "        model.df_model + 1\n",
    "    )  # This might differ from model.params.shape[0], because of collinear predictors\n",
    "    bic = model.bic\n",
    "    rmse_alldata = rmse(model.predict(), data[y])\n",
    "\n",
    "    # Calculating test and train RMSE-s for each fold\n",
    "\n",
    "    k = KFold(n_splits=n_folds, shuffle=False, random_state=None)\n",
    "\n",
    "    rmse_train = []\n",
    "    rmse_test = []\n",
    "\n",
    "    for train_index, test_index in k.split(data):\n",
    "\n",
    "        data_train, data_test = data.iloc[train_index, :], data.iloc[test_index, :]\n",
    "\n",
    "        model = smf.ols(formula, data=data_train).fit()\n",
    "\n",
    "        rmse_train.append(rmse(data_train[y], model.predict(data_train)))\n",
    "        rmse_test.append(rmse(data_test[y], model.predict(data_test)))\n",
    "\n",
    "    if average_rmse:\n",
    "        rmse_train = np.mean(rmse_train)\n",
    "        rmse_test = np.mean(rmse_test)\n",
    "\n",
    "    return {\n",
    "        \"RMSE\": rmse_alldata,\n",
    "        \"R-squared\": rsquared,\n",
    "        \"BIC\": bic,\n",
    "        \"Coefficients\": n_coefficients,\n",
    "        \"Training RMSE\": rmse_train,\n",
    "        \"Test RMSE\": rmse_test,\n",
    "    }"
   ]
  },
  {
   "cell_type": "code",
   "execution_count": 25,
   "metadata": {},
   "outputs": [],
   "source": [
    "cv_list = []\n",
    "for equation in model_equations:\n",
    "    cv_list.append(ols_crossvalidator(equation, Income_data, 5, average_rmse=False))"
   ]
  },
  {
   "cell_type": "code",
   "execution_count": 26,
   "metadata": {},
   "outputs": [
    {
     "data": {
      "text/html": [
       "<div>\n",
       "<style scoped>\n",
       "    .dataframe tbody tr th:only-of-type {\n",
       "        vertical-align: middle;\n",
       "    }\n",
       "\n",
       "    .dataframe tbody tr th {\n",
       "        vertical-align: top;\n",
       "    }\n",
       "\n",
       "    .dataframe thead th {\n",
       "        text-align: right;\n",
       "    }\n",
       "</style>\n",
       "<table border=\"1\" class=\"dataframe\">\n",
       "  <thead>\n",
       "    <tr style=\"text-align: right;\">\n",
       "      <th></th>\n",
       "      <th>Model1</th>\n",
       "      <th>Model2</th>\n",
       "      <th>Model3</th>\n",
       "      <th>Model4</th>\n",
       "    </tr>\n",
       "  </thead>\n",
       "  <tbody>\n",
       "    <tr>\n",
       "      <th>Fold1</th>\n",
       "      <td>13.50</td>\n",
       "      <td>13.31</td>\n",
       "      <td>13.13</td>\n",
       "      <td>12.56</td>\n",
       "    </tr>\n",
       "    <tr>\n",
       "      <th>Fold2</th>\n",
       "      <td>14.08</td>\n",
       "      <td>13.90</td>\n",
       "      <td>14.12</td>\n",
       "      <td>13.42</td>\n",
       "    </tr>\n",
       "    <tr>\n",
       "      <th>Fold3</th>\n",
       "      <td>20.84</td>\n",
       "      <td>20.87</td>\n",
       "      <td>20.53</td>\n",
       "      <td>20.01</td>\n",
       "    </tr>\n",
       "    <tr>\n",
       "      <th>Fold4</th>\n",
       "      <td>14.15</td>\n",
       "      <td>13.98</td>\n",
       "      <td>14.59</td>\n",
       "      <td>13.60</td>\n",
       "    </tr>\n",
       "    <tr>\n",
       "      <th>Fold5</th>\n",
       "      <td>15.68</td>\n",
       "      <td>15.68</td>\n",
       "      <td>15.54</td>\n",
       "      <td>15.09</td>\n",
       "    </tr>\n",
       "    <tr>\n",
       "      <th>Average</th>\n",
       "      <td>15.65</td>\n",
       "      <td>15.55</td>\n",
       "      <td>15.58</td>\n",
       "      <td>14.93</td>\n",
       "    </tr>\n",
       "    <tr>\n",
       "      <th>RMSE on full sample</th>\n",
       "      <td>15.82</td>\n",
       "      <td>15.72</td>\n",
       "      <td>15.77</td>\n",
       "      <td>15.03</td>\n",
       "    </tr>\n",
       "    <tr>\n",
       "      <th>BIC on full sample</th>\n",
       "      <td>19532.72</td>\n",
       "      <td>19526.24</td>\n",
       "      <td>19486.82</td>\n",
       "      <td>19357.46</td>\n",
       "    </tr>\n",
       "  </tbody>\n",
       "</table>\n",
       "</div>"
      ],
      "text/plain": [
       "                       Model1    Model2    Model3    Model4\n",
       "Fold1                   13.50     13.31     13.13     12.56\n",
       "Fold2                   14.08     13.90     14.12     13.42\n",
       "Fold3                   20.84     20.87     20.53     20.01\n",
       "Fold4                   14.15     13.98     14.59     13.60\n",
       "Fold5                   15.68     15.68     15.54     15.09\n",
       "Average                 15.65     15.55     15.58     14.93\n",
       "RMSE on full sample     15.82     15.72     15.77     15.03\n",
       "BIC on full sample   19532.72  19526.24  19486.82  19357.46"
      ]
     },
     "execution_count": 26,
     "metadata": {},
     "output_type": "execute_result"
    }
   ],
   "source": [
    "rmse_test_folds = pd.DataFrame(\n",
    "    [cv[\"Test RMSE\"] for cv in cv_list],\n",
    "    index=[\"Model\" + str(i + 1) for i in range(len(cv_list))],\n",
    "    columns=[\"Fold\" + str(i + 1) for i in range(len(cv_list[0][\"Test RMSE\"]))],\n",
    ").assign(Average=lambda x: x.mean(axis=1)).T.round(2)\n",
    "total = rmse_test_folds.append(results)\n",
    "total"
   ]
  },
  {
   "cell_type": "markdown",
   "metadata": {},
   "source": [
    "## Task 4\n",
    "Discuss the relationship between model complexity and performance. You may use visual aids"
   ]
  },
  {
   "cell_type": "code",
   "execution_count": 27,
   "metadata": {},
   "outputs": [],
   "source": [
    "regression_fits = []\n",
    "for equation in model_equations:\n",
    "    regression_fits.append(smf.ols(equation, Income_data).fit(cov_type=\"HC1\"))"
   ]
  },
  {
   "cell_type": "code",
   "execution_count": 28,
   "metadata": {},
   "outputs": [],
   "source": [
    "def extract_regression_statistics(\n",
    "    reg: statsmodels.regression.linear_model.RegressionResultsWrapper,\n",
    ") -> dict:\n",
    "    \"\"\"\n",
    "    Quick function to extract statistics (eg. AIC, BIC, RMSE) for statsmodels' fitted regressions.\n",
    "    \"\"\"\n",
    "\n",
    "    return {\n",
    "        \"AIC\": reg.aic,\n",
    "        \"BIC\": reg.bic,\n",
    "        \"RMSE\": np.sqrt(reg.mse_resid),\n",
    "        \"No. Variables\": reg.df_model,\n",
    "    }"
   ]
  },
  {
   "cell_type": "code",
   "execution_count": 29,
   "metadata": {},
   "outputs": [],
   "source": [
    "regression_statistics = pd.DataFrame(\n",
    "    [extract_regression_statistics(reg) for reg in regression_fits]\n",
    ").round(2)"
   ]
  },
  {
   "cell_type": "code",
   "execution_count": 30,
   "metadata": {},
   "outputs": [],
   "source": [
    "complexity_plotdata = (\n",
    "    regression_statistics.filter([\"No. Variables\", \"RMSE\"])\n",
    "    .merge(\n",
    "        rmse_test_folds.T.filter([\"Average\"]).reset_index(drop=True),\n",
    "        left_index=True,\n",
    "        right_index=True,\n",
    "    )\n",
    "    .rename(columns={\"RMSE\": \"in-sample RMSE\", \"Average\": \"out-of-sample RMSE\"})\n",
    "    .melt(id_vars=[\"No. Variables\"])\n",
    ")"
   ]
  },
  {
   "cell_type": "code",
   "execution_count": 34,
   "metadata": {},
   "outputs": [
    {
     "data": {
      "image/png": "[encoded data removed]",
      "text/plain": [
       "<Figure size 640x480 with 1 Axes>"
      ]
     },
     "metadata": {},
     "output_type": "display_data"
    },
    {
     "data": {
      "text/plain": [
       "<ggplot: (172616929250)>"
      ]
     },
     "execution_count": 34,
     "metadata": {},
     "output_type": "execute_result"
    }
   ],
   "source": [
    "(\n",
    "   ggplot(\n",
    "        complexity_plotdata,\n",
    "        aes(x=\"No. Variables\", y=\"value\", color=\"variable\", fill=\"variable\"),\n",
    "    )\n",
    "    + geom_point(size=2)\n",
    "    + geom_line(size=0.5)\n",
    "    + scale_y_continuous()\n",
    "    + scale_color_manual(name=\" \", values=(\"blue\", \"red\"))\n",
    "    + scale_fill_manual(name=\" \", values=(\"blue\", \"red\"))\n",
    "    + labs(\n",
    "        x=\"Number of explanatory variables\",\n",
    "        y=\"Averaged RMSE\",\n",
    "        title=\"Prediction performance and model compexity\",\n",
    "    )\n",
    "    + theme_bw()\n",
    ")"
   ]
  }
 ],
 "metadata": {
  "kernelspec": {
   "display_name": "Python 3 (ipykernel)",
   "language": "python",
   "name": "python3"
  },
  "language_info": {
   "codemirror_mode": {
    "name": "ipython",
    "version": 3
   },
   "file_extension": ".py",
   "mimetype": "text/x-python",
   "name": "python",
   "nbconvert_exporter": "python",
   "pygments_lexer": "ipython3",
   "version": "3.9.13"
  }
 },
 "nbformat": 4,
 "nbformat_minor": 4
}
