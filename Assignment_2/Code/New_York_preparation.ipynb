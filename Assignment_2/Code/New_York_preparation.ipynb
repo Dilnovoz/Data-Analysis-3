{
 "cells": [
  {
   "cell_type": "markdown",
   "id": "09bd0843-8ba2-4269-a09f-5a191c7a5d05",
   "metadata": {},
   "source": [
    "# Assignment 2 \n",
    "\n",
    "Prediction of Airbnb apartments prices in New York city "
   ]
  },
  {
   "cell_type": "markdown",
   "id": "b7ece361-d8e6-4941-b845-cb22c34df0ab",
   "metadata": {},
   "source": [
    "### Getting the dataset"
   ]
  },
  {
   "cell_type": "code",
   "execution_count": 1,
   "id": "ea2fd798-3bf0-4d54-9429-13e58b79758f",
   "metadata": {},
   "outputs": [],
   "source": [
    "import os\n",
    "import sys\n",
    "import warnings\n",
    "from datetime import datetime\n",
    "import numpy as np\n",
    "import pandas as pd\n",
    "import regex as re\n",
    "import statsmodels.api as sm\n",
    "import statsmodels.formula.api as smf\n",
    "from mizani.formatters import percent_format\n",
    "from plotnine import *\n",
    "\n",
    "warnings.filterwarnings(\"ignore\")"
   ]
  },
  {
   "cell_type": "code",
   "execution_count": 2,
   "id": "743b16ce-d9d2-42c2-b8ff-ff0ddf3dedfe",
   "metadata": {},
   "outputs": [],
   "source": [
    "current_path = os.getcwd()\n",
    "dirname = current_path.split(\"Code\")[0]\n",
    "Data = dirname + \"Data\"\n",
    "output = dirname + \"Output\""
   ]
  },
  {
   "cell_type": "code",
   "execution_count": 3,
   "id": "ddc2696b-a1fd-4b5d-b931-045e45dce396",
   "metadata": {},
   "outputs": [],
   "source": [
    "# Import data\n",
    "data = pd.read_csv(Data + \"\\\\listings.csv\", index_col=0)"
   ]
  },
  {
   "cell_type": "code",
   "execution_count": 4,
   "id": "bd68bdad-5ef6-41d9-af72-115ea892ffdb",
   "metadata": {},
   "outputs": [
    {
     "data": {
      "text/plain": [
       "(41533, 74)"
      ]
     },
     "execution_count": 4,
     "metadata": {},
     "output_type": "execute_result"
    }
   ],
   "source": [
    "data.shape"
   ]
  },
  {
   "cell_type": "markdown",
   "id": "0db7b9b7-5802-4ba4-8bf9-09204a64fbd8",
   "metadata": {},
   "source": [
    "### Preparing the data"
   ]
  },
  {
   "cell_type": "code",
   "execution_count": 5,
   "id": "599e4735-3895-45c9-b810-9a26cd4a3201",
   "metadata": {},
   "outputs": [
    {
     "data": {
      "text/plain": [
       "Index(['listing_url', 'scrape_id', 'last_scraped', 'source', 'name',\n",
       "       'description', 'neighborhood_overview', 'picture_url', 'host_id',\n",
       "       'host_url', 'host_name', 'host_since', 'host_location', 'host_about',\n",
       "       'host_response_time', 'host_response_rate', 'host_acceptance_rate',\n",
       "       'host_is_superhost', 'host_thumbnail_url', 'host_picture_url',\n",
       "       'host_neighbourhood', 'host_listings_count',\n",
       "       'host_total_listings_count', 'host_verifications',\n",
       "       'host_has_profile_pic', 'host_identity_verified', 'neighbourhood',\n",
       "       'neighbourhood_cleansed', 'neighbourhood_group_cleansed', 'latitude',\n",
       "       'longitude', 'property_type', 'room_type', 'accommodates', 'bathrooms',\n",
       "       'bathrooms_text', 'bedrooms', 'beds', 'amenities', 'price',\n",
       "       'minimum_nights', 'maximum_nights', 'minimum_minimum_nights',\n",
       "       'maximum_minimum_nights', 'minimum_maximum_nights',\n",
       "       'maximum_maximum_nights', 'minimum_nights_avg_ntm',\n",
       "       'maximum_nights_avg_ntm', 'calendar_updated', 'has_availability',\n",
       "       'availability_30', 'availability_60', 'availability_90',\n",
       "       'availability_365', 'calendar_last_scraped', 'number_of_reviews',\n",
       "       'number_of_reviews_ltm', 'number_of_reviews_l30d', 'first_review',\n",
       "       'last_review', 'review_scores_rating', 'review_scores_accuracy',\n",
       "       'review_scores_cleanliness', 'review_scores_checkin',\n",
       "       'review_scores_communication', 'review_scores_location',\n",
       "       'review_scores_value', 'license', 'instant_bookable',\n",
       "       'calculated_host_listings_count',\n",
       "       'calculated_host_listings_count_entire_homes',\n",
       "       'calculated_host_listings_count_private_rooms',\n",
       "       'calculated_host_listings_count_shared_rooms', 'reviews_per_month'],\n",
       "      dtype='object')"
      ]
     },
     "execution_count": 5,
     "metadata": {},
     "output_type": "execute_result"
    }
   ],
   "source": [
    "data.columns"
   ]
  },
  {
   "cell_type": "code",
   "execution_count": 6,
   "id": "197c418d-3027-487d-99b1-9296b9358d65",
   "metadata": {},
   "outputs": [],
   "source": [
    "data[\"n_days_since\"] = (\n",
    "    data.calendar_last_scraped.apply(lambda x: datetime.strptime(x, \"%Y-%m-%d\"))\n",
    "    - data.first_review.fillna(\"1950-01-01\").apply(\n",
    "        lambda x: datetime.strptime(x, \"%Y-%m-%d\")\n",
    "    )\n",
    ").dt.days\n",
    "\n",
    "data[\"n_days_since\"] = np.where(data.first_review.isnull(), np.nan, data.n_days_since)"
   ]
  },
  {
   "cell_type": "code",
   "execution_count": 7,
   "id": "b39d609c-8ec9-4ea6-a5d5-d861d206929b",
   "metadata": {},
   "outputs": [],
   "source": [
    "# Outcome variable\n",
    "data[\"price\"] = data.price.str.replace(\"\\\\$\", \"\").str.replace(\",\",\"\").astype(float)"
   ]
  },
  {
   "cell_type": "code",
   "execution_count": 8,
   "id": "ed826b55-2aca-4bd0-a80c-63789b4204a8",
   "metadata": {},
   "outputs": [],
   "source": [
    "# Restriction based on assignment - small apartments with accommodating 2-6 people \n",
    "data = data[ (data['accommodates'] >=2) & (data['accommodates'] <=6)]"
   ]
  },
  {
   "cell_type": "code",
   "execution_count": 9,
   "id": "4db0e12a-46f0-4f1c-a7c4-9a99b1494440",
   "metadata": {},
   "outputs": [],
   "source": [
    "data[\"host_response_time\"] = data[\"host_response_time\"].astype(\"category\")"
   ]
  },
  {
   "cell_type": "code",
   "execution_count": 10,
   "id": "56d6e053-12c4-434a-8338-ad1f33eccaf8",
   "metadata": {},
   "outputs": [],
   "source": [
    "data[\"neighbourhood_cleansed\"] = np.where(\n",
    "    data[\"neighbourhood_cleansed\"].isin(\n",
    "        data[\"neighbourhood_cleansed\"]\n",
    "        .value_counts()\n",
    "        .loc[lambda x: x < 75]\n",
    "        .index.tolist()\n",
    "    ),\n",
    "    \"Other\",\n",
    "    data[\"neighbourhood_cleansed\"],\n",
    ")\n",
    "data[\"neighbourhood_cleansed\"] = data[\"neighbourhood_cleansed\"].astype(\"category\")\n",
    "data[\"neighbourhood_group_cleansed\"] = data[\"neighbourhood_group_cleansed\"].astype(\"category\")"
   ]
  },
  {
   "cell_type": "code",
   "execution_count": 11,
   "id": "c0490385-054e-43c1-9cef-20b9c5a439de",
   "metadata": {},
   "outputs": [],
   "source": [
    "data[\"property_type\"] = data.property_type.str.lower().str.replace(\"room \", \"\")\n",
    "data[\"property_type\"] = data.property_type.str.replace(\"shared \", \"\").str.replace(\"in \",\"\")\n",
    "data[\"property_type\"] = data.property_type.str.replace(\"entire \", \"\").str.replace(\"private \",\"\")\n",
    "data['property_type'] = data['property_type'].str.replace(r'(^.*home.*$)', 'home')\n",
    "data['property_type'] = data['property_type'].str.replace(r'(^.*hotel.*$)', 'hotel')\n",
    "data['property_type'] = data['property_type'].str.replace(r'(^.*house.*$)', 'house')\n",
    "data[\"property_type\"] = data.property_type.str.replace(\"casa particular\",\"bed and breakfast\")"
   ]
  },
  {
   "cell_type": "code",
   "execution_count": 12,
   "id": "de68ac65-d59c-401c-bb8c-f176ef4aaefd",
   "metadata": {},
   "outputs": [],
   "source": [
    "data = data.loc[\n",
    "    lambda x: x[\"property_type\"].isin(\n",
    "        [\n",
    "            \"rental unit\",\n",
    "            \"home\",\n",
    "            \"loft\",\n",
    "            \"condo\",\n",
    "            \"serviced apartment\",\n",
    "            \"guest suite\",\n",
    "            \n",
    "        ]\n",
    "    )\n",
    "]\n",
    "data[\"property_type\"] = data[\"property_type\"].astype(\"category\")"
   ]
  },
  {
   "cell_type": "code",
   "execution_count": 13,
   "id": "dd9782a9-2448-48b5-ae32-2e82035c276c",
   "metadata": {},
   "outputs": [
    {
     "data": {
      "text/plain": [
       "0.02    763\n",
       "0.03    668\n",
       "0.01    661\n",
       "0.06    492\n",
       "0.04    487\n",
       "Name: reviews_per_month, dtype: int64"
      ]
     },
     "execution_count": 13,
     "metadata": {},
     "output_type": "execute_result"
    }
   ],
   "source": [
    "data[\"reviews_per_month\"].value_counts().head()"
   ]
  },
  {
   "cell_type": "code",
   "execution_count": 14,
   "id": "82c68e56-c838-4917-a37b-2e5c8f1d6417",
   "metadata": {},
   "outputs": [],
   "source": [
    "data = data[data[\"room_type\"].str.contains(\"Hotel room\") == False]\n",
    "data[\"room_type\"] = data[\"room_type\"].astype(\"category\")\n",
    "data[\"room_type\"] = data[\"room_type\"].map(\n",
    "    {\n",
    "        \"Entire home/apt\": \"Entire/Apt\",\n",
    "        \"Private room\": \"Private\",\n",
    "        \"Shared room\": \"Shared\"\n",
    "    }\n",
    ")"
   ]
  },
  {
   "cell_type": "code",
   "execution_count": 15,
   "id": "6005c0f2-089b-4886-892a-6f1fd3f1ac00",
   "metadata": {},
   "outputs": [],
   "source": [
    "for perc in [\"host_response_rate\", \"host_acceptance_rate\"]:\n",
    "    data[perc] = pd.to_numeric(data[perc].str.replace(\"%\",\"\"), errors=\"coerce\")"
   ]
  },
  {
   "cell_type": "code",
   "execution_count": 16,
   "id": "40935973-99c3-4499-a5d4-033af7f4532e",
   "metadata": {},
   "outputs": [],
   "source": [
    "# Bathroom data cleaning \n",
    "data[\"bathrooms_text\"] = data.bathrooms_text.str.replace(\"Half-bath\", \"0.5 bath\").str.replace(\"half-bath\",\"0.5 bath\")\n",
    "\n",
    "data['shared_bath'] = data[\"bathrooms_text\"].map(lambda x: True if 'shared' in str(x) else False)\n",
    "\n",
    "data[\"n_bathrooms\"] = data.bathrooms_text.str.replace(\"Shared\", \"\").str.replace(\"Private\", \"\").str.split().str[0].apply(float)"
   ]
  },
  {
   "cell_type": "code",
   "execution_count": 17,
   "id": "68350b32-b762-4068-b09b-5ca95d0f59cb",
   "metadata": {},
   "outputs": [],
   "source": [
    "# format binary variables\n",
    "for binary in [\n",
    "    \"host_is_superhost\",\n",
    "    \"host_has_profile_pic\",\n",
    "    \"host_identity_verified\",\n",
    "    \"instant_bookable\",\n",
    "    \"has_availability\",\n",
    "]:\n",
    "    data[binary] = data[binary].map({\"t\": True, \"f\": False})"
   ]
  },
  {
   "cell_type": "code",
   "execution_count": 18,
   "id": "07f7dcbb-b3cb-4574-a0e9-19e627d10cf1",
   "metadata": {},
   "outputs": [],
   "source": [
    "data.drop(columns=['listing_url', 'scrape_id', 'last_scraped', 'source', 'name','description',\n",
    "                   'neighborhood_overview', 'picture_url', 'host_id', 'host_url', 'host_name', \n",
    "                   'host_since', 'host_location', 'host_about', 'host_picture_url',\n",
    "                   'host_neighbourhood', 'host_listings_count', 'host_verifications', 'neighbourhood',\n",
    "                   'latitude', 'longitude', 'bathrooms', 'bathrooms_text', 'minimum_nights', 'maximum_nights', \n",
    "                   'maximum_minimum_nights', 'minimum_maximum_nights', 'maximum_maximum_nights', 'minimum_nights_avg_ntm',\n",
    "                   'maximum_nights_avg_ntm', 'calendar_updated', 'availability_30', 'availability_60', \n",
    "                   'availability_90', 'availability_365', 'calendar_last_scraped', 'number_of_reviews_ltm', \n",
    "                   'first_review', 'last_review', 'license', 'calculated_host_listings_count',\n",
    "                   'calculated_host_listings_count_entire_homes', 'calculated_host_listings_count_private_rooms',\n",
    "                   'calculated_host_listings_count_shared_rooms', 'host_thumbnail_url'], inplace=True)"
   ]
  },
  {
   "cell_type": "code",
   "execution_count": 19,
   "id": "b61cf103-0d47-4a7f-b856-9e2e4972c3dd",
   "metadata": {},
   "outputs": [
    {
     "data": {
      "text/html": [
       "<div>\n",
       "<style scoped>\n",
       "    .dataframe tbody tr th:only-of-type {\n",
       "        vertical-align: middle;\n",
       "    }\n",
       "\n",
       "    .dataframe tbody tr th {\n",
       "        vertical-align: top;\n",
       "    }\n",
       "\n",
       "    .dataframe thead th {\n",
       "        text-align: right;\n",
       "    }\n",
       "</style>\n",
       "<table border=\"1\" class=\"dataframe\">\n",
       "  <thead>\n",
       "    <tr style=\"text-align: right;\">\n",
       "      <th></th>\n",
       "      <th>host_response_rate</th>\n",
       "      <th>host_acceptance_rate</th>\n",
       "      <th>host_total_listings_count</th>\n",
       "      <th>accommodates</th>\n",
       "      <th>bedrooms</th>\n",
       "      <th>beds</th>\n",
       "      <th>price</th>\n",
       "      <th>minimum_minimum_nights</th>\n",
       "      <th>number_of_reviews</th>\n",
       "      <th>number_of_reviews_l30d</th>\n",
       "      <th>review_scores_rating</th>\n",
       "      <th>review_scores_accuracy</th>\n",
       "      <th>review_scores_cleanliness</th>\n",
       "      <th>review_scores_checkin</th>\n",
       "      <th>review_scores_communication</th>\n",
       "      <th>review_scores_location</th>\n",
       "      <th>review_scores_value</th>\n",
       "      <th>reviews_per_month</th>\n",
       "      <th>n_days_since</th>\n",
       "      <th>n_bathrooms</th>\n",
       "    </tr>\n",
       "  </thead>\n",
       "  <tbody>\n",
       "    <tr>\n",
       "      <th>count</th>\n",
       "      <td>19641.000000</td>\n",
       "      <td>20764.000000</td>\n",
       "      <td>30135.000000</td>\n",
       "      <td>30139.000000</td>\n",
       "      <td>27053.000000</td>\n",
       "      <td>29589.000000</td>\n",
       "      <td>30139.000000</td>\n",
       "      <td>30139.000000</td>\n",
       "      <td>30139.000000</td>\n",
       "      <td>30139.000000</td>\n",
       "      <td>24089.000000</td>\n",
       "      <td>23768.000000</td>\n",
       "      <td>23777.000000</td>\n",
       "      <td>23765.000000</td>\n",
       "      <td>23773.000000</td>\n",
       "      <td>23763.000000</td>\n",
       "      <td>23763.000000</td>\n",
       "      <td>24089.000000</td>\n",
       "      <td>24089.000000</td>\n",
       "      <td>30119.000000</td>\n",
       "    </tr>\n",
       "    <tr>\n",
       "      <th>mean</th>\n",
       "      <td>94.579197</td>\n",
       "      <td>84.097091</td>\n",
       "      <td>108.486146</td>\n",
       "      <td>2.944988</td>\n",
       "      <td>1.322108</td>\n",
       "      <td>1.576126</td>\n",
       "      <td>197.208467</td>\n",
       "      <td>18.369521</td>\n",
       "      <td>27.390723</td>\n",
       "      <td>0.718537</td>\n",
       "      <td>4.652776</td>\n",
       "      <td>4.771451</td>\n",
       "      <td>4.644463</td>\n",
       "      <td>4.826557</td>\n",
       "      <td>4.830698</td>\n",
       "      <td>4.747480</td>\n",
       "      <td>4.658885</td>\n",
       "      <td>1.284434</td>\n",
       "      <td>1259.188758</td>\n",
       "      <td>1.116886</td>\n",
       "    </tr>\n",
       "    <tr>\n",
       "      <th>std</th>\n",
       "      <td>15.102378</td>\n",
       "      <td>24.594476</td>\n",
       "      <td>644.710758</td>\n",
       "      <td>1.244842</td>\n",
       "      <td>0.594567</td>\n",
       "      <td>0.856347</td>\n",
       "      <td>919.464357</td>\n",
       "      <td>33.302998</td>\n",
       "      <td>55.180606</td>\n",
       "      <td>1.474757</td>\n",
       "      <td>0.694515</td>\n",
       "      <td>0.431702</td>\n",
       "      <td>0.518609</td>\n",
       "      <td>0.389258</td>\n",
       "      <td>0.397340</td>\n",
       "      <td>0.389383</td>\n",
       "      <td>0.461622</td>\n",
       "      <td>1.695721</td>\n",
       "      <td>1045.811142</td>\n",
       "      <td>0.349729</td>\n",
       "    </tr>\n",
       "    <tr>\n",
       "      <th>min</th>\n",
       "      <td>0.000000</td>\n",
       "      <td>0.000000</td>\n",
       "      <td>1.000000</td>\n",
       "      <td>2.000000</td>\n",
       "      <td>1.000000</td>\n",
       "      <td>1.000000</td>\n",
       "      <td>10.000000</td>\n",
       "      <td>1.000000</td>\n",
       "      <td>0.000000</td>\n",
       "      <td>0.000000</td>\n",
       "      <td>0.000000</td>\n",
       "      <td>0.000000</td>\n",
       "      <td>0.000000</td>\n",
       "      <td>0.000000</td>\n",
       "      <td>0.000000</td>\n",
       "      <td>0.000000</td>\n",
       "      <td>0.000000</td>\n",
       "      <td>0.010000</td>\n",
       "      <td>0.000000</td>\n",
       "      <td>0.000000</td>\n",
       "    </tr>\n",
       "    <tr>\n",
       "      <th>25%</th>\n",
       "      <td>98.000000</td>\n",
       "      <td>79.000000</td>\n",
       "      <td>1.000000</td>\n",
       "      <td>2.000000</td>\n",
       "      <td>1.000000</td>\n",
       "      <td>1.000000</td>\n",
       "      <td>91.000000</td>\n",
       "      <td>2.000000</td>\n",
       "      <td>1.000000</td>\n",
       "      <td>0.000000</td>\n",
       "      <td>4.610000</td>\n",
       "      <td>4.727500</td>\n",
       "      <td>4.500000</td>\n",
       "      <td>4.810000</td>\n",
       "      <td>4.820000</td>\n",
       "      <td>4.660000</td>\n",
       "      <td>4.560000</td>\n",
       "      <td>0.140000</td>\n",
       "      <td>294.000000</td>\n",
       "      <td>1.000000</td>\n",
       "    </tr>\n",
       "    <tr>\n",
       "      <th>50%</th>\n",
       "      <td>100.000000</td>\n",
       "      <td>96.000000</td>\n",
       "      <td>2.000000</td>\n",
       "      <td>2.000000</td>\n",
       "      <td>1.000000</td>\n",
       "      <td>1.000000</td>\n",
       "      <td>141.000000</td>\n",
       "      <td>7.000000</td>\n",
       "      <td>6.000000</td>\n",
       "      <td>0.000000</td>\n",
       "      <td>4.830000</td>\n",
       "      <td>4.900000</td>\n",
       "      <td>4.800000</td>\n",
       "      <td>4.950000</td>\n",
       "      <td>4.960000</td>\n",
       "      <td>4.860000</td>\n",
       "      <td>4.770000</td>\n",
       "      <td>0.600000</td>\n",
       "      <td>1127.000000</td>\n",
       "      <td>1.000000</td>\n",
       "    </tr>\n",
       "    <tr>\n",
       "      <th>75%</th>\n",
       "      <td>100.000000</td>\n",
       "      <td>100.000000</td>\n",
       "      <td>5.000000</td>\n",
       "      <td>4.000000</td>\n",
       "      <td>2.000000</td>\n",
       "      <td>2.000000</td>\n",
       "      <td>215.000000</td>\n",
       "      <td>30.000000</td>\n",
       "      <td>27.000000</td>\n",
       "      <td>1.000000</td>\n",
       "      <td>5.000000</td>\n",
       "      <td>5.000000</td>\n",
       "      <td>5.000000</td>\n",
       "      <td>5.000000</td>\n",
       "      <td>5.000000</td>\n",
       "      <td>5.000000</td>\n",
       "      <td>4.950000</td>\n",
       "      <td>1.950000</td>\n",
       "      <td>2044.000000</td>\n",
       "      <td>1.000000</td>\n",
       "    </tr>\n",
       "    <tr>\n",
       "      <th>max</th>\n",
       "      <td>100.000000</td>\n",
       "      <td>100.000000</td>\n",
       "      <td>7149.000000</td>\n",
       "      <td>6.000000</td>\n",
       "      <td>6.000000</td>\n",
       "      <td>12.000000</td>\n",
       "      <td>98159.000000</td>\n",
       "      <td>1250.000000</td>\n",
       "      <td>1666.000000</td>\n",
       "      <td>44.000000</td>\n",
       "      <td>5.000000</td>\n",
       "      <td>5.000000</td>\n",
       "      <td>5.000000</td>\n",
       "      <td>5.000000</td>\n",
       "      <td>5.000000</td>\n",
       "      <td>5.000000</td>\n",
       "      <td>5.000000</td>\n",
       "      <td>61.700000</td>\n",
       "      <td>4961.000000</td>\n",
       "      <td>6.000000</td>\n",
       "    </tr>\n",
       "  </tbody>\n",
       "</table>\n",
       "</div>"
      ],
      "text/plain": [
       "       host_response_rate  host_acceptance_rate  host_total_listings_count  \\\n",
       "count        19641.000000          20764.000000               30135.000000   \n",
       "mean            94.579197             84.097091                 108.486146   \n",
       "std             15.102378             24.594476                 644.710758   \n",
       "min              0.000000              0.000000                   1.000000   \n",
       "25%             98.000000             79.000000                   1.000000   \n",
       "50%            100.000000             96.000000                   2.000000   \n",
       "75%            100.000000            100.000000                   5.000000   \n",
       "max            100.000000            100.000000                7149.000000   \n",
       "\n",
       "       accommodates      bedrooms          beds         price  \\\n",
       "count  30139.000000  27053.000000  29589.000000  30139.000000   \n",
       "mean       2.944988      1.322108      1.576126    197.208467   \n",
       "std        1.244842      0.594567      0.856347    919.464357   \n",
       "min        2.000000      1.000000      1.000000     10.000000   \n",
       "25%        2.000000      1.000000      1.000000     91.000000   \n",
       "50%        2.000000      1.000000      1.000000    141.000000   \n",
       "75%        4.000000      2.000000      2.000000    215.000000   \n",
       "max        6.000000      6.000000     12.000000  98159.000000   \n",
       "\n",
       "       minimum_minimum_nights  number_of_reviews  number_of_reviews_l30d  \\\n",
       "count            30139.000000       30139.000000            30139.000000   \n",
       "mean                18.369521          27.390723                0.718537   \n",
       "std                 33.302998          55.180606                1.474757   \n",
       "min                  1.000000           0.000000                0.000000   \n",
       "25%                  2.000000           1.000000                0.000000   \n",
       "50%                  7.000000           6.000000                0.000000   \n",
       "75%                 30.000000          27.000000                1.000000   \n",
       "max               1250.000000        1666.000000               44.000000   \n",
       "\n",
       "       review_scores_rating  review_scores_accuracy  \\\n",
       "count          24089.000000            23768.000000   \n",
       "mean               4.652776                4.771451   \n",
       "std                0.694515                0.431702   \n",
       "min                0.000000                0.000000   \n",
       "25%                4.610000                4.727500   \n",
       "50%                4.830000                4.900000   \n",
       "75%                5.000000                5.000000   \n",
       "max                5.000000                5.000000   \n",
       "\n",
       "       review_scores_cleanliness  review_scores_checkin  \\\n",
       "count               23777.000000           23765.000000   \n",
       "mean                    4.644463               4.826557   \n",
       "std                     0.518609               0.389258   \n",
       "min                     0.000000               0.000000   \n",
       "25%                     4.500000               4.810000   \n",
       "50%                     4.800000               4.950000   \n",
       "75%                     5.000000               5.000000   \n",
       "max                     5.000000               5.000000   \n",
       "\n",
       "       review_scores_communication  review_scores_location  \\\n",
       "count                 23773.000000            23763.000000   \n",
       "mean                      4.830698                4.747480   \n",
       "std                       0.397340                0.389383   \n",
       "min                       0.000000                0.000000   \n",
       "25%                       4.820000                4.660000   \n",
       "50%                       4.960000                4.860000   \n",
       "75%                       5.000000                5.000000   \n",
       "max                       5.000000                5.000000   \n",
       "\n",
       "       review_scores_value  reviews_per_month  n_days_since   n_bathrooms  \n",
       "count         23763.000000       24089.000000  24089.000000  30119.000000  \n",
       "mean              4.658885           1.284434   1259.188758      1.116886  \n",
       "std               0.461622           1.695721   1045.811142      0.349729  \n",
       "min               0.000000           0.010000      0.000000      0.000000  \n",
       "25%               4.560000           0.140000    294.000000      1.000000  \n",
       "50%               4.770000           0.600000   1127.000000      1.000000  \n",
       "75%               4.950000           1.950000   2044.000000      1.000000  \n",
       "max               5.000000          61.700000   4961.000000      6.000000  "
      ]
     },
     "execution_count": 19,
     "metadata": {},
     "output_type": "execute_result"
    }
   ],
   "source": [
    "data.describe()"
   ]
  },
  {
   "cell_type": "code",
   "execution_count": 20,
   "id": "5c1e3bb5-ed6d-400d-933a-a9a061776402",
   "metadata": {},
   "outputs": [],
   "source": [
    "# Dummy from amenities\n",
    "data[\"amenities\"] = (\n",
    "    data[\"amenities\"]\n",
    "    .str.strip(\"{}\")\n",
    "    .str.replace('\"', \"\")\n",
    "    .str.replace(\"[\", \"\")\n",
    "    .str.replace(\"]\", \"\")\n",
    "    .str.replace(\"–\", \"\")\n",
    "    .str.replace(\"-\", \"\")\n",
    "    .str.replace(\"\\\\u\", \"'\", regex=False)\n",
    "    .str.replace(\"\\d\", \"\", regex=True)\n",
    "    .str.replace(\"'\", \"\")\n",
    "    .str.lower()\n",
    "    .str.replace(\"mbps\", \"\",regex=False)\n",
    "    .str.strip()\n",
    "    .str.split(\",\")\n",
    ")"
   ]
  },
  {
   "cell_type": "code",
   "execution_count": 21,
   "id": "c0e78559-a5a0-4a43-80be-ad7e323cb689",
   "metadata": {},
   "outputs": [],
   "source": [
    "data['n_amenities'] = data[\"amenities\"].apply(len)"
   ]
  },
  {
   "cell_type": "code",
   "execution_count": 22,
   "id": "b881d5fa-379f-4bcf-b933-78fbf871db8f",
   "metadata": {},
   "outputs": [],
   "source": [
    "amenities_keep = data[\"amenities\"].explode().str.strip().value_counts().loc[lambda x: x>1000]\n",
    "amenities_keep.to_pickle(\"amenities_to_keep.pkl\")\n",
    "amenities_to_keep = pd.read_pickle(\"amenities_to_keep.pkl\")\n",
    "# create dummy vars\n",
    "dummies = amenities_to_keep.index.tolist()\n",
    "\n",
    "for col in dummies:\n",
    "    data[col] = data[\"amenities\"].map(lambda x: True if col in str(x) else False)"
   ]
  },
  {
   "cell_type": "code",
   "execution_count": 23,
   "id": "6b9202a8-031d-4cef-81d6-584997c0e8a2",
   "metadata": {},
   "outputs": [
    {
     "data": {
      "text/plain": [
       "host_response_time             10498\n",
       "host_response_rate             10498\n",
       "host_acceptance_rate            9375\n",
       "host_total_listings_count          4\n",
       "host_has_profile_pic               4\n",
       "host_identity_verified             4\n",
       "bedrooms                        3086\n",
       "beds                             550\n",
       "review_scores_rating            6050\n",
       "review_scores_accuracy          6371\n",
       "review_scores_cleanliness       6362\n",
       "review_scores_checkin           6374\n",
       "review_scores_communication     6366\n",
       "review_scores_location          6376\n",
       "review_scores_value             6376\n",
       "reviews_per_month               6050\n",
       "n_days_since                    6050\n",
       "n_bathrooms                       20\n",
       "dtype: int64"
      ]
     },
     "execution_count": 23,
     "metadata": {},
     "output_type": "execute_result"
    }
   ],
   "source": [
    "to_filter = data.isna().sum()\n",
    "to_filter[to_filter > 0]"
   ]
  },
  {
   "cell_type": "code",
   "execution_count": 24,
   "id": "0035c830-ba9b-4835-9d14-f9a2dc1ab369",
   "metadata": {},
   "outputs": [],
   "source": [
    "# 2. imput when few, not that important\n",
    "data = data.assign(\n",
    "    bedrooms=lambda x: x[\"bedrooms\"].fillna(np.median(x[\"bedrooms\"].dropna())),\n",
    "    beds=lambda x: np.where(x[\"beds\"].isnull(), x[\"accommodates\"], x[\"beds\"]),\n",
    "    n_bathrooms=lambda x: x[\"n_bathrooms\"].fillna(1),\n",
    "    host_has_profile_pic=lambda x: x[\"host_has_profile_pic\"].fillna(False),\n",
    "    host_identity_verified=lambda x: x[\"host_identity_verified\"].fillna(False),\n",
    "    host_total_listings_count=lambda x: x[\"host_total_listings_count\"].fillna(0),\n",
    ")"
   ]
  },
  {
   "cell_type": "code",
   "execution_count": 25,
   "id": "fde334bd-fcd6-4afe-bdf4-73d7915a236f",
   "metadata": {},
   "outputs": [],
   "source": [
    "# 3. drop columns when many missing not important\n",
    "data = data.drop([\"host_response_rate\", \"review_scores_location\", \"review_scores_communication\", \n",
    "                 \"review_scores_accuracy\", \"review_scores_cleanliness\", \"review_scores_checkin\",\n",
    "                 \"host_acceptance_rate\", \"review_scores_value\", 'amenities'], axis=1)"
   ]
  },
  {
   "cell_type": "code",
   "execution_count": 26,
   "id": "c408dd99-6c45-4476-9117-8d0b7850a4ee",
   "metadata": {},
   "outputs": [],
   "source": [
    "# 4. Replace missing variables re reviews with zero, when no review + add flags\n",
    "data = data.assign(\n",
    "    flag_days_since=np.multiply(data.n_days_since.isna(), 1),\n",
    "    n_days_since=data.n_days_since.fillna(np.median(data.n_days_since.dropna())),\n",
    "    flag_review_scores_rating=np.multiply(data.review_scores_rating.isna(), 1),\n",
    "    review_scores_rating=data.review_scores_rating.fillna(\n",
    "        np.median(data.review_scores_rating.dropna())\n",
    "    ),\n",
    "    flag_reviews_per_month=np.multiply(data.reviews_per_month.isna(), 1),\n",
    "    reviews_per_month=data.reviews_per_month.fillna(\n",
    "        np.median(data.reviews_per_month.dropna())),\n",
    "    flag_host_response_time=np.multiply(data.host_response_time.isna(), 1),\n",
    "    host_response_time=data.host_response_time.fillna(\"a few days or more\")\n",
    ")"
   ]
  },
  {
   "cell_type": "code",
   "execution_count": 27,
   "id": "e8bed829-78fd-4421-8755-b22b65422cc4",
   "metadata": {},
   "outputs": [],
   "source": [
    "data = data.assign(\n",
    "    ln_days_since=lambda x: np.log(x[\"n_days_since\"] + 1),\n",
    "    ln_days_since2=lambda x: np.log(x[\"n_days_since\"] + 1) ** 2,\n",
    "    ln_days_since3=lambda x: np.log(x[\"n_days_since\"] + 1) ** 3,\n",
    "    n_days_since2=lambda x: x[\"n_days_since\"] ** 2,\n",
    "    n_days_since3=lambda x: x[\"n_days_since\"] ** 3,\n",
    "    ln_review_scores_rating=lambda x: np.log(x[\"review_scores_rating\"]+1),\n",
    "    ln_host_total_listings_count=lambda x: np.log(x[\"host_total_listings_count\"] + 1),\n",
    "    ln_minimum_nights=lambda x: np.log(x[\"minimum_minimum_nights\"] + 1),\n",
    "    ln_number_of_reviews=lambda x: np.log(x[\"number_of_reviews\"] + 1),\n",
    "    ln_reviews_per_month=lambda x: np.log(x[\"reviews_per_month\"] + 1),\n",
    "    ln_number_of_reviews_l30d=lambda x: np.log(x[\"number_of_reviews_l30d\"] + 1),\n",
    ")"
   ]
  },
  {
   "cell_type": "code",
   "execution_count": 28,
   "id": "d0818193-7919-40fb-9919-c25fb5a3e8f3",
   "metadata": {},
   "outputs": [],
   "source": [
    "data.to_csv(Data + \"\\\\airbnb_newyork.csv\", index=False)"
   ]
  },
  {
   "cell_type": "code",
   "execution_count": null,
   "id": "b51513ba-65dd-46bb-b1aa-f4e7eabb6008",
   "metadata": {},
   "outputs": [],
   "source": []
  }
 ],
 "metadata": {
  "kernelspec": {
   "display_name": "Python 3 (ipykernel)",
   "language": "python",
   "name": "python3"
  },
  "language_info": {
   "codemirror_mode": {
    "name": "ipython",
    "version": 3
   },
   "file_extension": ".py",
   "mimetype": "text/x-python",
   "name": "python",
   "nbconvert_exporter": "python",
   "pygments_lexer": "ipython3",
   "version": "3.9.13"
  }
 },
 "nbformat": 4,
 "nbformat_minor": 5
}
