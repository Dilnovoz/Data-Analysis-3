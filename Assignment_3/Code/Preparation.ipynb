{
 "cells": [
  {
   "cell_type": "markdown",
   "id": "9fd444b5-4876-4eec-a9ce-da0ac7160463",
   "metadata": {},
   "source": [
    "## Assignment 3\n",
    "Finding fast growing firms"
   ]
  },
  {
   "cell_type": "code",
   "execution_count": 1,
   "id": "7d70149f-81b0-493f-8fb4-99d0c8d5c7ba",
   "metadata": {},
   "outputs": [],
   "source": [
    "import os\n",
    "import sys\n",
    "import warnings\n",
    "\n",
    "import numpy as np\n",
    "import pandas as pd\n",
    "import statsmodels.formula.api as smf\n",
    "from plotnine import *\n",
    "warnings.filterwarnings(\"ignore\")"
   ]
  },
  {
   "cell_type": "markdown",
   "id": "fbc3a109-07a5-4899-8803-68407047f93b",
   "metadata": {},
   "source": [
    "### Import data"
   ]
  },
  {
   "cell_type": "code",
   "execution_count": 2,
   "id": "a28dfbce-c354-4d4b-85a4-88fbf1af2753",
   "metadata": {},
   "outputs": [],
   "source": [
    "current_path = os.getcwd()\n",
    "dirname = current_path.split(\"Code\")[0]\n",
    "Data = dirname + \"\\\\Data\"\n",
    "output = dirname + \"\\\\Output\""
   ]
  },
  {
   "cell_type": "code",
   "execution_count": 3,
   "id": "0e431951-0f3e-4614-8fc5-f1d2ccd7cabd",
   "metadata": {},
   "outputs": [],
   "source": [
    "# Import data\n",
    "data = pd.read_csv(Data + \"\\\\cs_bisnode_panel.csv\")"
   ]
  },
  {
   "cell_type": "code",
   "execution_count": 4,
   "id": "bf04b128-e0a5-4ffa-9454-71d235a53800",
   "metadata": {},
   "outputs": [
    {
     "data": {
      "text/plain": [
       "(287829, 48)"
      ]
     },
     "execution_count": 4,
     "metadata": {},
     "output_type": "execute_result"
    }
   ],
   "source": [
    "data.shape"
   ]
  },
  {
   "cell_type": "code",
   "execution_count": 5,
   "id": "736063f7-1d3d-4299-9dd1-baad678bf2ec",
   "metadata": {},
   "outputs": [],
   "source": [
    "#data.describe()"
   ]
  },
  {
   "cell_type": "code",
   "execution_count": 6,
   "id": "02b6d311-e67a-4ac1-8ddb-9c16cfed6e2f",
   "metadata": {},
   "outputs": [],
   "source": [
    "#data.isna().sum()"
   ]
  },
  {
   "cell_type": "code",
   "execution_count": 7,
   "id": "5c0ac5d7-170e-4483-9bbe-79648d0c355f",
   "metadata": {},
   "outputs": [],
   "source": [
    "# drop variables with many NAs\n",
    "data = data.drop(\n",
    "    columns=[\"COGS\", \"finished_prod\", \"net_dom_sales\", \"net_exp_sales\", \"wages\"]\n",
    ")\n",
    "data = data.query(\"year>2009&year<2016\")"
   ]
  },
  {
   "cell_type": "code",
   "execution_count": 8,
   "id": "59f3e94a-d264-45a5-a959-a502ffdeb7fa",
   "metadata": {},
   "outputs": [],
   "source": [
    "data = (\n",
    "    data.set_index([\"year\", \"comp_id\"])\n",
    "    .unstack(fill_value=\"toReplace\")\n",
    "    .stack()\n",
    "    .reset_index()\n",
    ")\n",
    "data = data.replace(\"toReplace\", np.nan)  # only way I could define it as NaN"
   ]
  },
  {
   "cell_type": "markdown",
   "id": "71d5bf3e-ab62-4ab4-b551-854d7ed8ed2e",
   "metadata": {},
   "source": [
    "### Label engineering "
   ]
  },
  {
   "cell_type": "markdown",
   "id": "472e97ea-d0bd-4d84-a849-06121858b8b9",
   "metadata": {},
   "source": [
    "#### Dropping firms defaulting next year or this year.  "
   ]
  },
  {
   "cell_type": "code",
   "execution_count": 9,
   "id": "07bc3c7d-9f86-4010-a189-79b0566b4114",
   "metadata": {},
   "outputs": [],
   "source": [
    "data = data.sort_values(by=[\"comp_id\",\"year\"])"
   ]
  },
  {
   "cell_type": "code",
   "execution_count": 10,
   "id": "37e3c103-4a61-4659-98a6-f6c9a939eee5",
   "metadata": {
    "tags": []
   },
   "outputs": [],
   "source": [
    "data[\"status_alive\"] = (data[\"sales\"] > 0 & (False == data[\"sales\"].isna())).astype(int)\n",
    "# defaults in one year if there are sales in this year but no sales 1 year later\n",
    "data[\"default\"] = (\n",
    "    (data[\"status_alive\"] == 1)\n",
    "    & (data.groupby(\"comp_id\")[\"status_alive\"].shift(-1) == 0)\n",
    ").astype(int)"
   ]
  },
  {
   "cell_type": "code",
   "execution_count": 11,
   "id": "5f5b8f53-2146-4b51-9b7a-0c32aeeb4b08",
   "metadata": {},
   "outputs": [],
   "source": [
    "data = data.query(\"status_alive == 1& default==0\")"
   ]
  },
  {
   "cell_type": "markdown",
   "id": "8d2033f3-8cc6-4e49-a924-b84e2462dd85",
   "metadata": {},
   "source": [
    "### Measuring fast growing companies\n",
    "I will measure them based on sales growth in 1 year: Log sales change from 2012 to 2013. Further I classify top 15 percent sales increased firms as fast growing firms"
   ]
  },
  {
   "cell_type": "code",
   "execution_count": 12,
   "id": "c24471bd-b332-40b8-9b40-616941010108",
   "metadata": {},
   "outputs": [
    {
     "data": {
      "text/plain": [
       "count    1.208520e+05\n",
       "mean     5.821963e+05\n",
       "std      4.005378e+06\n",
       "min      3.703704e+00\n",
       "25%      1.640370e+04\n",
       "50%      4.910370e+04\n",
       "75%      1.571287e+05\n",
       "max      1.110294e+08\n",
       "Name: sales, dtype: float64"
      ]
     },
     "execution_count": 12,
     "metadata": {},
     "output_type": "execute_result"
    }
   ],
   "source": [
    "data[\"sales\"].describe()"
   ]
  },
  {
   "cell_type": "code",
   "execution_count": 13,
   "id": "7b136fb1-8863-40a5-9ca4-d711ffb46db7",
   "metadata": {},
   "outputs": [],
   "source": [
    "data[\"sales\"] = np.where(\n",
    "    data[\"sales\"] < 0, 1, data[\"sales\"]\n",
    ")  # has to be outside of assin()\n",
    "data = data.assign(\n",
    "    ln_sales=np.where(\n",
    "        data[\"sales\"] > 0,\n",
    "        np.log(data[\"sales\"]),\n",
    "        (np.where(data[\"sales\"].isna(), np.nan, 0)),\n",
    "    ),  # NaN remain NaN\n",
    "    sales_mil=data[\"sales\"] / 1000000,\n",
    "    sales_mil_log=np.where(\n",
    "        data[\"sales\"] > 0,\n",
    "        np.log(data[\"sales\"] / 1000000),\n",
    "        (np.where(data[\"sales\"].isna(), np.nan, 0)),\n",
    "    ),\n",
    ")\n",
    "data[\"sales_mil_log_sq\"] = data[\"sales_mil_log\"] ** 2"
   ]
  },
  {
   "cell_type": "code",
   "execution_count": 14,
   "id": "9030d170-fb11-44f2-a20c-9362a260f1ea",
   "metadata": {},
   "outputs": [],
   "source": [
    "# look at firms below 10m euro revenues and above 1000 euros\n",
    "data = data.query(\"sales_mil<=10 & sales_mil>=0.001\")"
   ]
  },
  {
   "cell_type": "code",
   "execution_count": 15,
   "id": "1675d8a0-5613-43ba-90e6-a6770fc3b98c",
   "metadata": {},
   "outputs": [
    {
     "data": {
      "text/plain": [
       "<AxesSubplot:>"
      ]
     },
     "execution_count": 15,
     "metadata": {},
     "output_type": "execute_result"
    },
    {
     "data": {
      "image/png": "[encoded data removed]",
      "text/plain": [
       "<Figure size 640x480 with 1 Axes>"
      ]
     },
     "metadata": {},
     "output_type": "display_data"
    }
   ],
   "source": [
    "data.ln_sales.hist()"
   ]
  },
  {
   "cell_type": "code",
   "execution_count": 16,
   "id": "b29cfe83-1c57-482e-8230-4e3bff71eb8d",
   "metadata": {
    "tags": []
   },
   "outputs": [],
   "source": [
    "data[\"Sales_growth\"] = data[\"ln_sales\"] - data.groupby(\"comp_id\")[\n",
    "    \"ln_sales\"\n",
    "].shift(1)"
   ]
  },
  {
   "cell_type": "code",
   "execution_count": 17,
   "id": "2fefaf0b-5567-4e78-97b8-b5f6154e6966",
   "metadata": {},
   "outputs": [],
   "source": [
    "# replace w 0 for new firms + add dummy to capture it\n",
    "data[\"age\"] = np.where(\n",
    "    data[\"year\"] - data[\"founded_year\"] < 0, 0, data[\"year\"] - data[\"founded_year\"]\n",
    ")\n",
    "data[\"new\"] = np.where(\n",
    "    ((data[\"age\"] <= 1) | (data[\"balsheet_notfullyear\"] == 1)),\n",
    "    1,\n",
    "    (np.where(data[\"age\"].isna(), np.nan, 0)),\n",
    ")\n",
    "data[\"Sales_growth\"] = np.where(\n",
    "    data[\"new\"] == 1, 0, np.where(data[\"new\"].isna(), np.nan, data[\"Sales_growth\"])\n",
    ")\n",
    "data[\"new\"] = np.where(data[\"Sales_growth\"].isna(), 1, data[\"new\"])\n",
    "data[\"Sales_growth\"] = np.where(\n",
    "    data[\"Sales_growth\"].isna(), 0, data[\"Sales_growth\"]\n",
    ")"
   ]
  },
  {
   "cell_type": "code",
   "execution_count": 18,
   "id": "672c7174-cb53-41f7-9849-e3c2aea682f6",
   "metadata": {},
   "outputs": [
    {
     "data": {
      "text/plain": [
       "count    116074.000000\n",
       "mean          0.344582\n",
       "std           0.475234\n",
       "min           0.000000\n",
       "25%           0.000000\n",
       "50%           0.000000\n",
       "75%           1.000000\n",
       "max           1.000000\n",
       "Name: new, dtype: float64"
      ]
     },
     "execution_count": 18,
     "metadata": {},
     "output_type": "execute_result"
    }
   ],
   "source": [
    "data[\"new\"].describe()"
   ]
  },
  {
   "cell_type": "code",
   "execution_count": 19,
   "id": "22362196-2b27-412a-a0c4-1b9764369faa",
   "metadata": {},
   "outputs": [
    {
     "data": {
      "text/plain": [
       "<AxesSubplot:>"
      ]
     },
     "execution_count": 19,
     "metadata": {},
     "output_type": "execute_result"
    },
    {
     "data": {
      "image/png": "[encoded data removed]",
      "text/plain": [
       "<Figure size 640x480 with 1 Axes>"
      ]
     },
     "metadata": {},
     "output_type": "display_data"
    }
   ],
   "source": [
    "data.ln_sales.hist()"
   ]
  },
  {
   "cell_type": "code",
   "execution_count": 20,
   "id": "28f6383c-173d-4d8b-b051-fadcac65f059",
   "metadata": {},
   "outputs": [],
   "source": [
    "data[\"Sales_growth_target\"] = data.groupby(\"comp_id\")[\"Sales_growth\"].shift(-1)"
   ]
  },
  {
   "cell_type": "code",
   "execution_count": 21,
   "id": "294b27f2-5d7b-4dc1-9a7a-e3c05ba3d1c9",
   "metadata": {},
   "outputs": [],
   "source": [
    "# look at cross section without new entrants \n",
    "data = data.query(\"year == 2012\")\n"
   ]
  },
  {
   "cell_type": "code",
   "execution_count": 22,
   "id": "e0246692-7779-45d4-8e1f-5dfdf391a8d9",
   "metadata": {},
   "outputs": [
    {
     "data": {
      "text/plain": [
       "<AxesSubplot:>"
      ]
     },
     "execution_count": 22,
     "metadata": {},
     "output_type": "execute_result"
    },
    {
     "data": {
      "image/png": "[encoded data removed]",
      "text/plain": [
       "<Figure size 640x480 with 1 Axes>"
      ]
     },
     "metadata": {},
     "output_type": "display_data"
    }
   ],
   "source": [
    "data[\"Sales_growth_target\"].hist()"
   ]
  },
  {
   "cell_type": "code",
   "execution_count": 23,
   "id": "0353eaad-b33d-475d-a2bb-a7d782e2bc1a",
   "metadata": {},
   "outputs": [
    {
     "data": {
      "text/plain": [
       "count    17095.000000\n",
       "mean         0.043518\n",
       "std          0.635991\n",
       "min         -6.848888\n",
       "25%         -0.131898\n",
       "50%          0.000000\n",
       "75%          0.205151\n",
       "max          7.037021\n",
       "Name: Sales_growth_target, dtype: float64"
      ]
     },
     "execution_count": 23,
     "metadata": {},
     "output_type": "execute_result"
    }
   ],
   "source": [
    "data[\"Sales_growth_target\"].describe()"
   ]
  },
  {
   "cell_type": "code",
   "execution_count": 24,
   "id": "234f0be4-43f8-4fe6-bfad-b8c10d00daf8",
   "metadata": {},
   "outputs": [],
   "source": [
    "data[\"High_growth\"] = np.where(data[\"Sales_growth_target\"]>=data[\"Sales_growth_target\"].quantile(0.85), 1,0)\n",
    "#data[\"High_growth_2\"] = np.where(data[\"Sales_growth_target\"]>=data[\"Sales_growth_target\"].mean(), 1,0)"
   ]
  },
  {
   "cell_type": "code",
   "execution_count": 25,
   "id": "acc60f1c-94f4-4cae-87eb-6b4d5d183f96",
   "metadata": {},
   "outputs": [
    {
     "data": {
      "text/plain": [
       "0.38731571899063116"
      ]
     },
     "execution_count": 25,
     "metadata": {},
     "output_type": "execute_result"
    }
   ],
   "source": [
    "data[\"Sales_growth_target\"].quantile(0.85)"
   ]
  },
  {
   "cell_type": "code",
   "execution_count": 26,
   "id": "58ae58ad-8ecf-47a5-8796-e69467773d2c",
   "metadata": {},
   "outputs": [
    {
     "data": {
      "text/plain": [
       "0    16569\n",
       "1     2565\n",
       "Name: High_growth, dtype: int64"
      ]
     },
     "execution_count": 26,
     "metadata": {},
     "output_type": "execute_result"
    }
   ],
   "source": [
    "data[\"High_growth\"].value_counts()"
   ]
  },
  {
   "cell_type": "code",
   "execution_count": 27,
   "id": "dc6185b7-9e9f-4e18-b0f8-cae21ec75db9",
   "metadata": {},
   "outputs": [],
   "source": [
    "data.to_csv(output + \"\\\\With_target.csv\", index=False)"
   ]
  },
  {
   "cell_type": "code",
   "execution_count": 28,
   "id": "a174c740-cf29-4031-b814-dbe3b3491ad6",
   "metadata": {},
   "outputs": [],
   "source": [
    "current_csv_path = os.path.join(output, \"With_target.csv\")\n",
    "data = pd.read_csv(current_csv_path)"
   ]
  },
  {
   "cell_type": "markdown",
   "id": "85db2e74-4d9e-41ed-9e61-fb10f773dc38",
   "metadata": {},
   "source": [
    "### Feature engineering "
   ]
  },
  {
   "cell_type": "code",
   "execution_count": 29,
   "id": "ef9f9b56-5189-4a0c-962e-2d48c6925a90",
   "metadata": {},
   "outputs": [],
   "source": [
    "# change some industry category codes\n",
    "data[\"ind2_cat\"] = data[\"ind2\"].copy()\n",
    "data[\"ind2_cat\"] = np.where(data[\"ind2\"] > 56, 60, data[\"ind2_cat\"])\n",
    "data[\"ind2_cat\"] = np.where(data[\"ind2\"] < 26, 20, data[\"ind2_cat\"])\n",
    "data[\"ind2_cat\"] = np.where(\n",
    "    (data[\"ind2\"] < 55) & (data[\"ind2\"] > 35), 40, data[\"ind2_cat\"]\n",
    ")\n",
    "data[\"ind2_cat\"] = np.where(data[\"ind2\"] == 31, 30, data[\"ind2_cat\"])\n",
    "data[\"ind2_cat\"] = np.where(data[\"ind2\"].isna(), 99, data[\"ind2_cat\"])"
   ]
  },
  {
   "cell_type": "code",
   "execution_count": 30,
   "id": "36842769-594e-4fe7-8bfe-9c8d8f2b2e59",
   "metadata": {},
   "outputs": [
    {
     "data": {
      "text/plain": [
       "ind2_cat\n",
       "20.0       50\n",
       "26.0     1010\n",
       "27.0      610\n",
       "28.0     1842\n",
       "29.0      259\n",
       "30.0      159\n",
       "32.0      134\n",
       "33.0     1817\n",
       "40.0      195\n",
       "55.0     2081\n",
       "56.0    10757\n",
       "60.0      215\n",
       "99.0        5\n",
       "Name: comp_id, dtype: int64"
      ]
     },
     "execution_count": 30,
     "metadata": {},
     "output_type": "execute_result"
    }
   ],
   "source": [
    "data.groupby(\"ind2_cat\").count()[\"comp_id\"]"
   ]
  },
  {
   "cell_type": "code",
   "execution_count": 31,
   "id": "bda6c71b-3edc-437a-a1c3-c2dfecd9390a",
   "metadata": {},
   "outputs": [],
   "source": [
    "# Firm characteristics\n",
    "data[\"age2\"] = data[\"age\"] ** 2\n",
    "data[\"foreign_management\"] = np.where(\n",
    "    data[\"foreign\"] >= 0.5, 1, np.where(data[\"foreign\"].isna(), np.nan, 0)\n",
    ")\n",
    "data[\"gender_m\"] = data[\"gender\"].astype(\"category\")\n",
    "data[\"m_region_loc\"] = data[\"region_m\"].astype(\"category\")"
   ]
  },
  {
   "cell_type": "code",
   "execution_count": 32,
   "id": "88ebeda8-2a18-4d4c-aff9-d24a2f5bc71a",
   "metadata": {},
   "outputs": [
    {
     "data": {
      "text/plain": [
       "flag_asset_problem\n",
       "0.0    19119\n",
       "1.0       10\n",
       "Name: comp_id, dtype: int64"
      ]
     },
     "execution_count": 32,
     "metadata": {},
     "output_type": "execute_result"
    }
   ],
   "source": [
    "# assets can't be negative. Change them to 0 and add a flag.\n",
    "data[\"flag_asset_problem\"] = np.where(\n",
    "    (\n",
    "        (data[\"intang_assets\"] < 0)\n",
    "        | (data[\"curr_assets\"] < 0)\n",
    "        | (data[\"fixed_assets\"] < 0)\n",
    "    ),\n",
    "    1,\n",
    "    0,\n",
    ")\n",
    "data[\"flag_asset_problem\"] = np.where(\n",
    "    (\n",
    "        (data[\"intang_assets\"].isna())\n",
    "        | (data[\"curr_assets\"].isna())\n",
    "        | (data[\"fixed_assets\"].isna())\n",
    "    ),\n",
    "    np.nan,\n",
    "    data[\"flag_asset_problem\"],\n",
    ")\n",
    "data.groupby(\"flag_asset_problem\").count()[\"comp_id\"]"
   ]
  },
  {
   "cell_type": "code",
   "execution_count": 33,
   "id": "c7e21876-0018-4db0-8ac2-d993fc95cfd6",
   "metadata": {},
   "outputs": [],
   "source": [
    "data[\"intang_assets\"] = np.where(data[\"intang_assets\"] < 0, 0, data[\"intang_assets\"])\n",
    "data[\"curr_assets\"] = np.where(data[\"curr_assets\"] < 0, 0, data[\"curr_assets\"])\n",
    "data[\"fixed_assets\"] = np.where(data[\"fixed_assets\"] < 0, 0, data[\"fixed_assets\"])"
   ]
  },
  {
   "cell_type": "code",
   "execution_count": 34,
   "id": "b8548ce5-5b0f-4fbb-91d2-9cfc60ca9750",
   "metadata": {},
   "outputs": [
    {
     "data": {
      "text/plain": [
       "count    1.912900e+04\n",
       "mean     2.776525e+05\n",
       "std      1.465994e+06\n",
       "min      0.000000e+00\n",
       "25%      7.866667e+03\n",
       "50%      2.776667e+04\n",
       "75%      1.086000e+05\n",
       "max      1.046833e+08\n",
       "Name: total_assets_bs, dtype: float64"
      ]
     },
     "execution_count": 34,
     "metadata": {},
     "output_type": "execute_result"
    }
   ],
   "source": [
    "# generate total assets\n",
    "data[\"total_assets_bs\"] = (\n",
    "    data[\"intang_assets\"] + data[\"curr_assets\"] + data[\"fixed_assets\"]\n",
    ")\n",
    "data[\"total_assets_bs\"].describe()"
   ]
  },
  {
   "cell_type": "code",
   "execution_count": 35,
   "id": "bc318f8a-9760-4d68-8188-f27894c967cf",
   "metadata": {},
   "outputs": [],
   "source": [
    "pl_names = [\n",
    "    \"extra_exp\",\n",
    "    \"extra_inc\",\n",
    "    \"extra_profit_loss\",\n",
    "    \"inc_bef_tax\",\n",
    "    \"inventories\",\n",
    "    \"material_exp\",\n",
    "    \"profit_loss_year\",\n",
    "    \"personnel_exp\",\n",
    "]\n",
    "bs_names = [\n",
    "    \"intang_assets\",\n",
    "    \"curr_liab\",\n",
    "    \"fixed_assets\",\n",
    "    \"liq_assets\",\n",
    "    \"curr_assets\",\n",
    "    \"share_eq\",\n",
    "    \"subscribed_cap\",\n",
    "    \"tang_assets\",\n",
    "]"
   ]
  },
  {
   "cell_type": "code",
   "execution_count": 36,
   "id": "83558a99-3108-40af-89b0-de3411eec41b",
   "metadata": {},
   "outputs": [],
   "source": [
    "# divide all pl_names elements by sales and create new column for it\n",
    "data[[col + \"_pl\" for col in pl_names]] = data[pl_names].div(\n",
    "    data[\"sales\"], axis=\"index\"\n",
    ")"
   ]
  },
  {
   "cell_type": "code",
   "execution_count": 37,
   "id": "414675d3-09da-4b78-814e-df256660bd89",
   "metadata": {},
   "outputs": [],
   "source": [
    "# divide all bs_names elements by total_assets_bs and create new column for it\n",
    "data[[col + \"_bs\" for col in bs_names]] = (\n",
    "    data[bs_names]\n",
    "    .div(data[\"total_assets_bs\"], axis=\"index\")\n",
    "    .replace((np.inf, -np.inf, np.nan), (0, 0, 0))\n",
    ")\n",
    "# get Nan values where total_assets_bs is NaN\n",
    "for col in bs_names:\n",
    "    data[col + \"_bs\"] = np.where(\n",
    "        data[\"total_assets_bs\"].isna(), np.nan, data[col + \"_bs\"]\n",
    "    )"
   ]
  },
  {
   "cell_type": "code",
   "execution_count": 38,
   "id": "3996c12c-ad4c-4b36-8bfa-cfce5f1b6dfe",
   "metadata": {},
   "outputs": [],
   "source": [
    "# Variables that represent accounting items that cannot be negative (e.g. materials)\n",
    "zero = [\n",
    "    \"extra_exp_pl\",\n",
    "    \"extra_inc_pl\",\n",
    "    \"inventories_pl\",\n",
    "    \"material_exp_pl\",\n",
    "    \"personnel_exp_pl\",\n",
    "    \"curr_liab_bs\",\n",
    "    \"fixed_assets_bs\",\n",
    "    \"liq_assets_bs\",\n",
    "    \"curr_assets_bs\",\n",
    "    \"subscribed_cap_bs\",\n",
    "    \"intang_assets_bs\",\n",
    "]\n",
    "\n",
    "data[[col + \"_flag_high\" for col in zero]] = np.where(\n",
    "    data[zero].isna(), np.nan, (data[zero] > 1).astype(int)\n",
    ")\n",
    "data[[col for col in zero]] = np.where(\n",
    "    data[zero].isna(), np.nan, np.where(data[zero] > 1, 1, data[zero])\n",
    ")\n",
    "data[[col + \"_flag_error\" for col in zero]] = np.where(\n",
    "    data[zero].isna(), np.nan, (data[zero] < 0).astype(int)\n",
    ")\n",
    "data[[col for col in zero]] = np.where(\n",
    "    data[zero].isna(), np.nan, np.where(data[zero] < 0, 0, data[zero])\n",
    ")"
   ]
  },
  {
   "cell_type": "code",
   "execution_count": 39,
   "id": "c40324ec-e48c-455e-b704-bcc6e8fc9867",
   "metadata": {},
   "outputs": [],
   "source": [
    "# for vars that could be any, but are mostly between -1 and 1\n",
    "anyof = [\"extra_profit_loss_pl\", \"inc_bef_tax_pl\", \"profit_loss_year_pl\", \"share_eq_bs\"]\n",
    "\n",
    "data[[col + \"_flag_low\" for col in anyof]] = np.where(\n",
    "    data[anyof].isna(), np.nan, (data[anyof] < -1).astype(int)\n",
    ")\n",
    "data[[col for col in anyof]] = np.where(\n",
    "    data[anyof].isna(), np.nan, np.where((data[anyof] < -1), -1, data[anyof])\n",
    ")\n",
    "data[[col + \"_flag_high\" for col in anyof]] = np.where(\n",
    "    data[anyof].isna(), np.nan, (data[anyof] > 1).astype(int)\n",
    ")\n",
    "data[[col for col in anyof]] = np.where(\n",
    "    data[anyof].isna(), np.nan, np.where((data[anyof] > 1), 1, data[anyof])\n",
    ")\n",
    "data[[col + \"_flag_zero\" for col in anyof]] = np.where(\n",
    "    data[anyof].isna(), np.nan, (data[anyof] == 0).astype(int)\n",
    ")\n",
    "data[[col + \"_quad\" for col in anyof]] = np.where(\n",
    "    data[anyof].isna(), np.nan, data[anyof] ** 2\n",
    ")"
   ]
  },
  {
   "cell_type": "code",
   "execution_count": 40,
   "id": "dbcf098f-006d-49ef-9987-e959a329eac5",
   "metadata": {},
   "outputs": [],
   "source": [
    "# dropping flags with no variation\n",
    "flag_columns = [col for col in data.columns if \"flag\" in col]\n",
    "data = data.drop(\n",
    "    data[flag_columns].std()[(data[flag_columns].std() == 0)].index, axis=1\n",
    ")"
   ]
  },
  {
   "cell_type": "code",
   "execution_count": 41,
   "id": "6ed829f2-eb97-4fc3-9f5d-d7a3fd4a7b33",
   "metadata": {},
   "outputs": [],
   "source": [
    "# CEO age\n",
    "data[\"ceo_age\"] = data[\"year\"] - data[\"birth_year\"]\n",
    "data = data.assign(\n",
    "    flag_low_ceo_age=(data[\"ceo_age\"] < 25).astype(int),\n",
    "    flag_high_ceo_age=(data[\"ceo_age\"] > 75).astype(int),\n",
    "    flag_miss_ceo_age=(data[\"ceo_age\"].isna()).astype(int),\n",
    ")\n",
    "\n",
    "\n",
    "data[\"ceo_age\"] = np.where(data[\"ceo_age\"] < 25, 25, data[\"ceo_age\"])\n",
    "data[\"ceo_age\"] = np.where(data[\"ceo_age\"] > 75, 75, data[\"ceo_age\"])\n",
    "data[\"ceo_age\"] = np.where(\n",
    "    data[\"ceo_age\"].isna(), data[\"ceo_age\"].mean(), data[\"ceo_age\"]\n",
    ")\n",
    "data[\"ceo_young\"] = (data[\"ceo_age\"] < 40).astype(int)"
   ]
  },
  {
   "cell_type": "code",
   "execution_count": 42,
   "id": "91878538-95d6-4c29-9dec-5041c21610e7",
   "metadata": {},
   "outputs": [],
   "source": [
    "# number emp, very noisy measure\n",
    "data[\"labor_avg_mod\"] = np.where(\n",
    "    data[\"labor_avg\"].isna(), data[\"labor_avg\"].mean(), data[\"labor_avg\"]\n",
    ")\n",
    "data[\"flag_miss_labor_avg\"] = (data[\"labor_avg\"].isna()).astype(int)"
   ]
  },
  {
   "cell_type": "code",
   "execution_count": 43,
   "id": "20fb7f4e-5e24-424c-aa53-b36a60731602",
   "metadata": {
    "tags": []
   },
   "outputs": [
    {
     "data": {
      "text/plain": [
       "count    16423.000000\n",
       "mean         0.660444\n",
       "std          1.662429\n",
       "min          0.083333\n",
       "25%          0.104167\n",
       "50%          0.243056\n",
       "75%          0.548611\n",
       "max         42.118057\n",
       "Name: labor_avg, dtype: float64"
      ]
     },
     "execution_count": 43,
     "metadata": {},
     "output_type": "execute_result"
    }
   ],
   "source": [
    "data[\"labor_avg\"].describe()"
   ]
  },
  {
   "cell_type": "code",
   "execution_count": 44,
   "id": "9d6d3888-b4e5-4be9-b130-c3d7dbe03e07",
   "metadata": {},
   "outputs": [
    {
     "data": {
      "text/plain": [
       "count    19134.000000\n",
       "mean         0.660444\n",
       "std          1.540156\n",
       "min          0.083333\n",
       "25%          0.131944\n",
       "50%          0.305556\n",
       "75%          0.660444\n",
       "max         42.118057\n",
       "Name: labor_avg_mod, dtype: float64"
      ]
     },
     "execution_count": 44,
     "metadata": {},
     "output_type": "execute_result"
    }
   ],
   "source": [
    "data[\"labor_avg_mod\"].describe()"
   ]
  },
  {
   "cell_type": "code",
   "execution_count": 45,
   "id": "8df763b8-07dd-4e8c-95df-0b7b88e537e1",
   "metadata": {},
   "outputs": [],
   "source": [
    "data = data.drop([\"labor_avg\"], axis=1)"
   ]
  },
  {
   "cell_type": "code",
   "execution_count": 46,
   "id": "0fa1ea3d-5ca2-4e0c-a042-677d2635064f",
   "metadata": {},
   "outputs": [],
   "source": [
    "# create category type variables\n",
    "data[\"urban_m\"] = data[\"urban_m\"].astype(\"category\")\n",
    "data[\"ind2_cat\"] = data[\"ind2_cat\"].astype(\"category\")"
   ]
  },
  {
   "cell_type": "code",
   "execution_count": 47,
   "id": "9ad5e4f8-7b4a-4e7a-9c70-b7771030d869",
   "metadata": {},
   "outputs": [
    {
     "data": {
      "text/plain": [
       "count    16822.00000\n",
       "mean         9.02681\n",
       "std          6.95873\n",
       "min          0.00000\n",
       "25%          3.00000\n",
       "50%          8.00000\n",
       "75%         15.00000\n",
       "max         32.00000\n",
       "Name: age, dtype: float64"
      ]
     },
     "execution_count": 47,
     "metadata": {},
     "output_type": "execute_result"
    }
   ],
   "source": [
    "# no more imputation, drop obs if key vars missing\n",
    "data = data.dropna(subset=[\"liq_assets_bs\", \"foreign\", \"ind\"])\n",
    "# drop missing\n",
    "data = data.dropna(subset=[\"age\", \"foreign\", \"material_exp_pl\", \"m_region_loc\"])\n",
    "data[\"age\"].describe()"
   ]
  },
  {
   "cell_type": "code",
   "execution_count": 48,
   "id": "c9f05557-c375-4568-bc23-467b54a13cbb",
   "metadata": {},
   "outputs": [],
   "source": [
    "# drop unused factor levels\n",
    "for col in data.select_dtypes(include=[\"category\"]).columns:\n",
    "    data[col] = data[col].cat.remove_unused_categories()"
   ]
  },
  {
   "cell_type": "code",
   "execution_count": 49,
   "id": "74a5f16b-85d1-4b63-a60f-c37718ebc408",
   "metadata": {},
   "outputs": [],
   "source": [
    "data.to_csv(output + \"\\\\bisnode_firms_clean.csv\", index=False)"
   ]
  },
  {
   "cell_type": "code",
   "execution_count": 50,
   "id": "9b4fb635-a98a-4034-825d-ce34f2b7a569",
   "metadata": {},
   "outputs": [
    {
     "data": {
      "text/plain": [
       "0    14482\n",
       "1     2340\n",
       "Name: High_growth, dtype: int64"
      ]
     },
     "execution_count": 50,
     "metadata": {},
     "output_type": "execute_result"
    }
   ],
   "source": [
    "data.High_growth.value_counts()"
   ]
  },
  {
   "cell_type": "code",
   "execution_count": 51,
   "id": "fc7df10c-eef0-4d0d-b863-bbf80f79220f",
   "metadata": {},
   "outputs": [
    {
     "data": {
      "text/plain": [
       "0.04460713866559084"
      ]
     },
     "execution_count": 51,
     "metadata": {},
     "output_type": "execute_result"
    }
   ],
   "source": [
    "data['Sales_growth_target'].mean()"
   ]
  },
  {
   "cell_type": "code",
   "execution_count": 52,
   "id": "1e78162b-58c4-4c19-9bb6-205e027a2f39",
   "metadata": {},
   "outputs": [
    {
     "data": {
      "text/plain": [
       "High_growth\n",
       "0   -0.122144\n",
       "1    0.951119\n",
       "Name: Sales_growth_target, dtype: float64"
      ]
     },
     "execution_count": 52,
     "metadata": {},
     "output_type": "execute_result"
    }
   ],
   "source": [
    "data.groupby('High_growth')['Sales_growth_target'].mean()"
   ]
  },
  {
   "cell_type": "code",
   "execution_count": null,
   "id": "996974b1-5643-4c3d-9fb6-9d4212026bdc",
   "metadata": {},
   "outputs": [],
   "source": []
  }
 ],
 "metadata": {
  "kernelspec": {
   "display_name": "Python 3 (ipykernel)",
   "language": "python",
   "name": "python3"
  },
  "language_info": {
   "codemirror_mode": {
    "name": "ipython",
    "version": 3
   },
   "file_extension": ".py",
   "mimetype": "text/x-python",
   "name": "python",
   "nbconvert_exporter": "python",
   "pygments_lexer": "ipython3",
   "version": "3.9.13"
  }
 },
 "nbformat": 4,
 "nbformat_minor": 5
}
