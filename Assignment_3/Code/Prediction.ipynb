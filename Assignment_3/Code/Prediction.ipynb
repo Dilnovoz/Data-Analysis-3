{
 "cells": [
  {
   "cell_type": "markdown",
   "id": "bb074660-82c4-426b-bbac-d33cda56270e",
   "metadata": {},
   "source": [
    "## Predicting fast growing firms "
   ]
  },
  {
   "cell_type": "code",
   "execution_count": 1,
   "id": "5eeb14e5-ac92-4b12-917a-8e8579496850",
   "metadata": {},
   "outputs": [],
   "source": [
    "import os\n",
    "import sys\n",
    "import warnings\n",
    "\n",
    "import matplotlib.pyplot as plt\n",
    "import numpy as np\n",
    "import pandas as pd\n",
    "import patsy\n",
    "import sklearn.metrics as metrics\n",
    "import statsmodels.formula.api as smf\n",
    "from plotnine import *\n",
    "from sklearn.ensemble import RandomForestClassifier\n",
    "from sklearn.linear_model import (\n",
    "    LinearRegression,\n",
    "    LogisticRegression,\n",
    "    LogisticRegressionCV,\n",
    ")\n",
    "from sklearn.metrics import (\n",
    "    auc,\n",
    "    brier_score_loss,\n",
    "    confusion_matrix,\n",
    "    mean_squared_error,\n",
    "    roc_auc_score,\n",
    "    roc_curve,\n",
    ")\n",
    "from sklearn.model_selection import GridSearchCV, KFold, train_test_split\n",
    "from sklearn.preprocessing import StandardScaler\n",
    "from statsmodels.tools.eval_measures import rmse\n",
    "from sklearn.tree import DecisionTreeClassifier\n",
    "from sklearn.tree import plot_tree\n",
    "\n",
    "warnings.filterwarnings(\"ignore\")"
   ]
  },
  {
   "cell_type": "code",
   "execution_count": 2,
   "id": "9e76ed3b-2ef0-4347-9855-ebf7e22ec776",
   "metadata": {},
   "outputs": [],
   "source": [
    "sys.path.append(\"C:\\\\Users\\\\User\\\\Desktop\\\\Data Analysis 3\\\\Assignment_3\\\\Code\")"
   ]
  },
  {
   "cell_type": "code",
   "execution_count": 3,
   "id": "c7a4ad04-aa8a-4d26-bafc-65df8e826195",
   "metadata": {},
   "outputs": [],
   "source": [
    "from py_helper_functions import *"
   ]
  },
  {
   "cell_type": "code",
   "execution_count": 4,
   "id": "e3221054-6c32-4335-9781-d0b7ea36d758",
   "metadata": {},
   "outputs": [],
   "source": [
    "current_path = os.getcwd()\n",
    "dirname = current_path.split(\"Code\")[0]\n",
    "Data = dirname + \"\\\\Data\"\n",
    "output = dirname + \"\\\\Output\""
   ]
  },
  {
   "cell_type": "code",
   "execution_count": 5,
   "id": "0c9618e1-d37d-472b-a826-be85c54c79f6",
   "metadata": {},
   "outputs": [],
   "source": [
    "# Import data\n",
    "data = pd.read_csv(output + \"\\\\bisnode_firms_clean.csv\")"
   ]
  },
  {
   "cell_type": "code",
   "execution_count": 6,
   "id": "19937861-8f09-4afb-9691-67e6263d0e3e",
   "metadata": {},
   "outputs": [
    {
     "data": {
      "text/plain": [
       "(16822, 114)"
      ]
     },
     "execution_count": 6,
     "metadata": {},
     "output_type": "execute_result"
    }
   ],
   "source": [
    "data.shape"
   ]
  },
  {
   "cell_type": "code",
   "execution_count": 7,
   "id": "d39bc86d-26b1-415b-86bd-eb0e2df185c0",
   "metadata": {},
   "outputs": [
    {
     "data": {
      "text/html": [
       "<div>\n",
       "<style scoped>\n",
       "    .dataframe tbody tr th:only-of-type {\n",
       "        vertical-align: middle;\n",
       "    }\n",
       "\n",
       "    .dataframe tbody tr th {\n",
       "        vertical-align: top;\n",
       "    }\n",
       "\n",
       "    .dataframe thead th {\n",
       "        text-align: right;\n",
       "    }\n",
       "</style>\n",
       "<table border=\"1\" class=\"dataframe\">\n",
       "  <thead>\n",
       "    <tr style=\"text-align: right;\">\n",
       "      <th></th>\n",
       "      <th>year</th>\n",
       "      <th>comp_id</th>\n",
       "      <th>amort</th>\n",
       "      <th>curr_assets</th>\n",
       "      <th>curr_liab</th>\n",
       "      <th>extra_exp</th>\n",
       "      <th>extra_inc</th>\n",
       "      <th>extra_profit_loss</th>\n",
       "      <th>fixed_assets</th>\n",
       "      <th>inc_bef_tax</th>\n",
       "      <th>...</th>\n",
       "      <th>inc_bef_tax_pl_quad</th>\n",
       "      <th>profit_loss_year_pl_quad</th>\n",
       "      <th>share_eq_bs_quad</th>\n",
       "      <th>ceo_age</th>\n",
       "      <th>flag_low_ceo_age</th>\n",
       "      <th>flag_high_ceo_age</th>\n",
       "      <th>flag_miss_ceo_age</th>\n",
       "      <th>ceo_young</th>\n",
       "      <th>labor_avg_mod</th>\n",
       "      <th>flag_miss_labor_avg</th>\n",
       "    </tr>\n",
       "  </thead>\n",
       "  <tbody>\n",
       "    <tr>\n",
       "      <th>count</th>\n",
       "      <td>16822.0</td>\n",
       "      <td>1.682200e+04</td>\n",
       "      <td>1.682200e+04</td>\n",
       "      <td>1.682200e+04</td>\n",
       "      <td>1.682200e+04</td>\n",
       "      <td>16822.000000</td>\n",
       "      <td>1.682200e+04</td>\n",
       "      <td>1.682200e+04</td>\n",
       "      <td>1.682200e+04</td>\n",
       "      <td>1.682200e+04</td>\n",
       "      <td>...</td>\n",
       "      <td>16822.000000</td>\n",
       "      <td>16822.000000</td>\n",
       "      <td>16822.000000</td>\n",
       "      <td>16822.000000</td>\n",
       "      <td>16822.000000</td>\n",
       "      <td>16822.000000</td>\n",
       "      <td>16822.000000</td>\n",
       "      <td>16822.000000</td>\n",
       "      <td>16822.000000</td>\n",
       "      <td>16822.000000</td>\n",
       "    </tr>\n",
       "    <tr>\n",
       "      <th>mean</th>\n",
       "      <td>2012.0</td>\n",
       "      <td>1.535175e+11</td>\n",
       "      <td>1.020244e+04</td>\n",
       "      <td>1.077879e+05</td>\n",
       "      <td>9.015085e+04</td>\n",
       "      <td>425.671824</td>\n",
       "      <td>1.686843e+03</td>\n",
       "      <td>1.257217e+03</td>\n",
       "      <td>1.597126e+05</td>\n",
       "      <td>8.041229e+03</td>\n",
       "      <td>...</td>\n",
       "      <td>0.131790</td>\n",
       "      <td>0.119098</td>\n",
       "      <td>0.467982</td>\n",
       "      <td>46.797800</td>\n",
       "      <td>0.009868</td>\n",
       "      <td>0.004161</td>\n",
       "      <td>0.131732</td>\n",
       "      <td>0.261146</td>\n",
       "      <td>0.666470</td>\n",
       "      <td>0.132862</td>\n",
       "    </tr>\n",
       "    <tr>\n",
       "      <th>std</th>\n",
       "      <td>0.0</td>\n",
       "      <td>1.378124e+11</td>\n",
       "      <td>5.247282e+04</td>\n",
       "      <td>4.603151e+05</td>\n",
       "      <td>4.395143e+05</td>\n",
       "      <td>7155.227707</td>\n",
       "      <td>3.437689e+04</td>\n",
       "      <td>3.356701e+04</td>\n",
       "      <td>1.171108e+06</td>\n",
       "      <td>1.363609e+05</td>\n",
       "      <td>...</td>\n",
       "      <td>0.267546</td>\n",
       "      <td>0.257408</td>\n",
       "      <td>0.386204</td>\n",
       "      <td>10.380551</td>\n",
       "      <td>0.098850</td>\n",
       "      <td>0.064375</td>\n",
       "      <td>0.338210</td>\n",
       "      <td>0.439272</td>\n",
       "      <td>1.544521</td>\n",
       "      <td>0.339435</td>\n",
       "    </tr>\n",
       "    <tr>\n",
       "      <th>min</th>\n",
       "      <td>2012.0</td>\n",
       "      <td>1.001541e+06</td>\n",
       "      <td>-1.489630e+04</td>\n",
       "      <td>0.000000e+00</td>\n",
       "      <td>-8.759259e+03</td>\n",
       "      <td>-1418.518555</td>\n",
       "      <td>-1.740741e+02</td>\n",
       "      <td>-1.702444e+05</td>\n",
       "      <td>0.000000e+00</td>\n",
       "      <td>-1.091879e+07</td>\n",
       "      <td>...</td>\n",
       "      <td>0.000000</td>\n",
       "      <td>0.000000</td>\n",
       "      <td>0.000000</td>\n",
       "      <td>25.000000</td>\n",
       "      <td>0.000000</td>\n",
       "      <td>0.000000</td>\n",
       "      <td>0.000000</td>\n",
       "      <td>0.000000</td>\n",
       "      <td>0.083333</td>\n",
       "      <td>0.000000</td>\n",
       "    </tr>\n",
       "    <tr>\n",
       "      <th>25%</th>\n",
       "      <td>2012.0</td>\n",
       "      <td>2.911829e+10</td>\n",
       "      <td>1.777778e+02</td>\n",
       "      <td>3.929630e+03</td>\n",
       "      <td>3.870370e+03</td>\n",
       "      <td>0.000000</td>\n",
       "      <td>0.000000e+00</td>\n",
       "      <td>0.000000e+00</td>\n",
       "      <td>3.370370e+02</td>\n",
       "      <td>-5.681481e+03</td>\n",
       "      <td>...</td>\n",
       "      <td>0.000711</td>\n",
       "      <td>0.000382</td>\n",
       "      <td>0.082238</td>\n",
       "      <td>39.000000</td>\n",
       "      <td>0.000000</td>\n",
       "      <td>0.000000</td>\n",
       "      <td>0.000000</td>\n",
       "      <td>0.000000</td>\n",
       "      <td>0.131944</td>\n",
       "      <td>0.000000</td>\n",
       "    </tr>\n",
       "    <tr>\n",
       "      <th>50%</th>\n",
       "      <td>2012.0</td>\n",
       "      <td>1.150385e+11</td>\n",
       "      <td>1.066667e+03</td>\n",
       "      <td>1.292963e+04</td>\n",
       "      <td>1.512963e+04</td>\n",
       "      <td>0.000000</td>\n",
       "      <td>0.000000e+00</td>\n",
       "      <td>0.000000e+00</td>\n",
       "      <td>6.051852e+03</td>\n",
       "      <td>4.074074e+02</td>\n",
       "      <td>...</td>\n",
       "      <td>0.010430</td>\n",
       "      <td>0.006628</td>\n",
       "      <td>0.394449</td>\n",
       "      <td>46.839205</td>\n",
       "      <td>0.000000</td>\n",
       "      <td>0.000000</td>\n",
       "      <td>0.000000</td>\n",
       "      <td>0.000000</td>\n",
       "      <td>0.310606</td>\n",
       "      <td>0.000000</td>\n",
       "    </tr>\n",
       "    <tr>\n",
       "      <th>75%</th>\n",
       "      <td>2012.0</td>\n",
       "      <td>2.564703e+11</td>\n",
       "      <td>4.691667e+03</td>\n",
       "      <td>4.471389e+04</td>\n",
       "      <td>5.035926e+04</td>\n",
       "      <td>0.000000</td>\n",
       "      <td>0.000000e+00</td>\n",
       "      <td>0.000000e+00</td>\n",
       "      <td>4.795463e+04</td>\n",
       "      <td>4.799074e+03</td>\n",
       "      <td>...</td>\n",
       "      <td>0.096563</td>\n",
       "      <td>0.074992</td>\n",
       "      <td>0.914296</td>\n",
       "      <td>54.000000</td>\n",
       "      <td>0.000000</td>\n",
       "      <td>0.000000</td>\n",
       "      <td>0.000000</td>\n",
       "      <td>1.000000</td>\n",
       "      <td>0.660444</td>\n",
       "      <td>0.000000</td>\n",
       "    </tr>\n",
       "    <tr>\n",
       "      <th>max</th>\n",
       "      <td>2012.0</td>\n",
       "      <td>4.641050e+11</td>\n",
       "      <td>3.570863e+06</td>\n",
       "      <td>1.874527e+07</td>\n",
       "      <td>3.660118e+07</td>\n",
       "      <td>666300.000000</td>\n",
       "      <td>3.266667e+06</td>\n",
       "      <td>3.253704e+06</td>\n",
       "      <td>1.036673e+08</td>\n",
       "      <td>4.378226e+06</td>\n",
       "      <td>...</td>\n",
       "      <td>1.000000</td>\n",
       "      <td>1.000000</td>\n",
       "      <td>1.000000</td>\n",
       "      <td>75.000000</td>\n",
       "      <td>1.000000</td>\n",
       "      <td>1.000000</td>\n",
       "      <td>1.000000</td>\n",
       "      <td>1.000000</td>\n",
       "      <td>42.118057</td>\n",
       "      <td>1.000000</td>\n",
       "    </tr>\n",
       "  </tbody>\n",
       "</table>\n",
       "<p>8 rows × 105 columns</p>\n",
       "</div>"
      ],
      "text/plain": [
       "          year       comp_id         amort   curr_assets     curr_liab  \\\n",
       "count  16822.0  1.682200e+04  1.682200e+04  1.682200e+04  1.682200e+04   \n",
       "mean    2012.0  1.535175e+11  1.020244e+04  1.077879e+05  9.015085e+04   \n",
       "std        0.0  1.378124e+11  5.247282e+04  4.603151e+05  4.395143e+05   \n",
       "min     2012.0  1.001541e+06 -1.489630e+04  0.000000e+00 -8.759259e+03   \n",
       "25%     2012.0  2.911829e+10  1.777778e+02  3.929630e+03  3.870370e+03   \n",
       "50%     2012.0  1.150385e+11  1.066667e+03  1.292963e+04  1.512963e+04   \n",
       "75%     2012.0  2.564703e+11  4.691667e+03  4.471389e+04  5.035926e+04   \n",
       "max     2012.0  4.641050e+11  3.570863e+06  1.874527e+07  3.660118e+07   \n",
       "\n",
       "           extra_exp     extra_inc  extra_profit_loss  fixed_assets  \\\n",
       "count   16822.000000  1.682200e+04       1.682200e+04  1.682200e+04   \n",
       "mean      425.671824  1.686843e+03       1.257217e+03  1.597126e+05   \n",
       "std      7155.227707  3.437689e+04       3.356701e+04  1.171108e+06   \n",
       "min     -1418.518555 -1.740741e+02      -1.702444e+05  0.000000e+00   \n",
       "25%         0.000000  0.000000e+00       0.000000e+00  3.370370e+02   \n",
       "50%         0.000000  0.000000e+00       0.000000e+00  6.051852e+03   \n",
       "75%         0.000000  0.000000e+00       0.000000e+00  4.795463e+04   \n",
       "max    666300.000000  3.266667e+06       3.253704e+06  1.036673e+08   \n",
       "\n",
       "        inc_bef_tax  ...  inc_bef_tax_pl_quad  profit_loss_year_pl_quad  \\\n",
       "count  1.682200e+04  ...         16822.000000              16822.000000   \n",
       "mean   8.041229e+03  ...             0.131790                  0.119098   \n",
       "std    1.363609e+05  ...             0.267546                  0.257408   \n",
       "min   -1.091879e+07  ...             0.000000                  0.000000   \n",
       "25%   -5.681481e+03  ...             0.000711                  0.000382   \n",
       "50%    4.074074e+02  ...             0.010430                  0.006628   \n",
       "75%    4.799074e+03  ...             0.096563                  0.074992   \n",
       "max    4.378226e+06  ...             1.000000                  1.000000   \n",
       "\n",
       "       share_eq_bs_quad       ceo_age  flag_low_ceo_age  flag_high_ceo_age  \\\n",
       "count      16822.000000  16822.000000      16822.000000       16822.000000   \n",
       "mean           0.467982     46.797800          0.009868           0.004161   \n",
       "std            0.386204     10.380551          0.098850           0.064375   \n",
       "min            0.000000     25.000000          0.000000           0.000000   \n",
       "25%            0.082238     39.000000          0.000000           0.000000   \n",
       "50%            0.394449     46.839205          0.000000           0.000000   \n",
       "75%            0.914296     54.000000          0.000000           0.000000   \n",
       "max            1.000000     75.000000          1.000000           1.000000   \n",
       "\n",
       "       flag_miss_ceo_age     ceo_young  labor_avg_mod  flag_miss_labor_avg  \n",
       "count       16822.000000  16822.000000   16822.000000         16822.000000  \n",
       "mean            0.131732      0.261146       0.666470             0.132862  \n",
       "std             0.338210      0.439272       1.544521             0.339435  \n",
       "min             0.000000      0.000000       0.083333             0.000000  \n",
       "25%             0.000000      0.000000       0.131944             0.000000  \n",
       "50%             0.000000      0.000000       0.310606             0.000000  \n",
       "75%             0.000000      1.000000       0.660444             0.000000  \n",
       "max             1.000000      1.000000      42.118057             1.000000  \n",
       "\n",
       "[8 rows x 105 columns]"
      ]
     },
     "execution_count": 7,
     "metadata": {},
     "output_type": "execute_result"
    }
   ],
   "source": [
    "data.describe()"
   ]
  },
  {
   "cell_type": "code",
   "execution_count": 8,
   "id": "41d47446-95f3-4a5d-9b16-6b50a76e8ccb",
   "metadata": {},
   "outputs": [],
   "source": [
    "def regression_results(y_true, y_pred):\n",
    "\n",
    "    # Regression metrics\n",
    "    explained_variance = metrics.explained_variance_score(y_true, y_pred)\n",
    "    mean_absolute_error = metrics.mean_absolute_error(y_true, y_pred)\n",
    "    mse = metrics.mean_squared_error(y_true, y_pred)\n",
    "    median_absolute_error = metrics.median_absolute_error(y_true, y_pred)\n",
    "    r2 = metrics.r2_score(y_true, y_pred)\n",
    "\n",
    "    print(\"explained_variance: \", round(explained_variance, 4))\n",
    "    print(\"r2: \", round(r2, 4))\n",
    "    print(\"MAE: \", round(mean_absolute_error, 4))\n",
    "    print(\"MSE: \", round(mse, 4))\n",
    "    print(\"RMSE: \", round(np.sqrt(mse), 4))\n",
    "\n",
    "\n",
    "def coef_matrix(X, model):\n",
    "\n",
    "    coef_matrix = pd.concat(\n",
    "        [pd.DataFrame(X.columns), pd.DataFrame(np.transpose(model.coef_))], axis=1\n",
    "    )\n",
    "    coef_matrix.columns = [\"variable\", \"coefficient\"]\n",
    "    coef_matrix = coef_matrix.append(\n",
    "        {\"variable\": \"Intercept\", \"coefficient\": model.intercept_},\n",
    "        ignore_index=True,\n",
    "    )\n",
    "    return coef_matrix\n",
    "\n",
    "\n",
    "def cv_summary(lambdas, C_values, model):\n",
    "    d = {\n",
    "        \"lambdas\": lambdas,\n",
    "        \"C_values\": C_values,\n",
    "        \"mean_cv_score\": model.scores_[1].mean(axis=0),\n",
    "    }\n",
    "    return pd.DataFrame(data=d)\n",
    "def create_roc_plot(y_true, y_pred):\n",
    "    fpr, tpr, thresholds = roc_curve(y_true, y_pred)\n",
    "    all_coords = pd.DataFrame({\"fpr\": fpr, \"tpr\": tpr, \"thresholds\": thresholds})\n",
    "\n",
    "    plot = (\n",
    "        ggplot(all_coords, aes(x=\"fpr\", y=\"tpr\"))\n",
    "        + geom_line(color=color[0], size=0.7)\n",
    "        + geom_area(position=\"identity\", fill=\"mediumaquamarine\", alpha=0.3)\n",
    "        + xlab(\"False Positive Rate (1-Specifity)\")\n",
    "        + ylab(\"True Positive Rate (Sensitivity)\")\n",
    "        + geom_abline(intercept=0, slope=1, linetype=\"dotted\", color=\"black\")\n",
    "        + scale_y_continuous(limits=(0, 1), breaks=seq(0, 1, 0.1), expand=(0, 0.01))\n",
    "        + scale_x_continuous(limits=(0, 1), breaks=seq(0, 1, 0.1), expand=(0.01, 0))\n",
    "        + theme_bw()\n",
    "    )\n",
    "    return plot\n",
    "\n",
    "\n",
    "def sigmoid_array(x):\n",
    "    return 1 / (1 + np.exp(-x))\n",
    "\n",
    "\n",
    "def generate_fold_prediction(model, X, fold, param_index):\n",
    "    fold_coef = model.coefs_paths_[1][fold, param_index, :]\n",
    "    return sigmoid_array(\n",
    "        np.dot(X, np.transpose(fold_coef)[:-1]) + np.transpose(fold_coef)[-1]\n",
    "    )\n",
    "\n",
    "\n",
    "def create_loss_plot(all_coords, optimal_threshold, curr_exp_loss):\n",
    "    all_coords_copy = all_coords.copy()\n",
    "    all_coords_copy[\"loss\"] = (\n",
    "        all_coords_copy.false_pos * FP + all_coords_copy.false_neg * FN\n",
    "    ) / all_coords_copy.n\n",
    "    t = optimal_threshold\n",
    "    l = curr_exp_loss\n",
    "\n",
    "    plot = (\n",
    "        ggplot(all_coords_copy, aes(x=\"thresholds\", y=\"loss\"))\n",
    "        + geom_line(color=color[0], size=0.7)\n",
    "        + scale_x_continuous(breaks=seq(0, 1.1, by=0.1))\n",
    "        + coord_cartesian(xlim=(0, 1))\n",
    "        + geom_vline(xintercept=t, color=color[0])\n",
    "        + annotate(\n",
    "            geom=\"text\",\n",
    "            x=t - 0.01,\n",
    "            y=max(all_coords_copy.loss) - 0.4,\n",
    "            label=\"best threshold: \" + str(round(t, 2)),\n",
    "            colour=color[1],\n",
    "            angle=90,\n",
    "            size=7,\n",
    "        )\n",
    "        + annotate(geom=\"text\", x=t + 0.06, y=l, label=str(round(l, 2)), size=7)\n",
    "        + theme_bw()\n",
    "    )\n",
    "    return plot\n",
    "\n",
    "\n",
    "def create_roc_plot_with_optimal(all_coords, optimal_threshold):\n",
    "    all_coords_copy = all_coords.copy()\n",
    "    all_coords_copy[\"sp\"] = 1 - all_coords_copy.true_neg / all_coords_copy.neg\n",
    "    all_coords_copy[\"se\"] = all_coords_copy.true_pos / all_coords_copy.pos\n",
    "    \n",
    "    best_coords = all_coords_copy[all_coords_copy.thresholds == optimal_threshold]\n",
    "    sp = best_coords.sp.values[0]\n",
    "    se = best_coords.se.values[0]\n",
    "\n",
    "    plot = (\n",
    "        ggplot(all_coords_copy, aes(x=\"sp\", y=\"se\"))\n",
    "        + geom_line(color=color[0], size=0.7)\n",
    "        + scale_y_continuous(breaks=seq(0, 1.1, by=0.1))\n",
    "        + scale_x_continuous(breaks=seq(0, 1.1, by=0.1))\n",
    "        + geom_point(data=pd.DataFrame({\"sp\": [sp], \"se\": [se]}))\n",
    "        + annotate(\n",
    "            geom=\"text\",\n",
    "            x=sp,\n",
    "            y=se + 0.03,\n",
    "            label=str(round(sp, 2)) + \", \" + str(round(se, 2)),\n",
    "            size=7,\n",
    "        )\n",
    "        + geom_area(position=\"identity\", fill=\"mediumaquamarine\", alpha=0.3)\n",
    "        + xlab(\"False Positive Rate (1-Specifity)\")\n",
    "        + ylab(\"True Positive Rate (Sensitivity)\")\n",
    "        + geom_abline(intercept=0, slope=1, linetype=\"dotted\", color=\"black\")\n",
    "        + theme_bw()\n",
    "    )\n",
    "    return plot"
   ]
  },
  {
   "cell_type": "markdown",
   "id": "3a957e15-e68b-4cfa-8ee1-ff23f1efa4e1",
   "metadata": {},
   "source": [
    "#### Generate independent variable sets"
   ]
  },
  {
   "cell_type": "code",
   "execution_count": 9,
   "id": "25815936-03cf-4fb1-8960-71bcd1dd46d3",
   "metadata": {},
   "outputs": [],
   "source": [
    "rawvars = [\n",
    "    \"curr_assets\",\n",
    "    \"curr_liab\",\n",
    "    \"extra_exp\",\n",
    "    \"extra_inc\",\n",
    "    \"extra_profit_loss\",\n",
    "    \"fixed_assets\",\n",
    "    \"inc_bef_tax\",\n",
    "    \"intang_assets\",\n",
    "    \"inventories\",\n",
    "    \"liq_assets\",\n",
    "    \"material_exp\",\n",
    "    \"personnel_exp\",\n",
    "    \"profit_loss_year\",\n",
    "    \"sales\",\n",
    "    \"share_eq\",\n",
    "    \"subscribed_cap\",\n",
    "]"
   ]
  },
  {
   "cell_type": "code",
   "execution_count": 10,
   "id": "3439fd52-a9b1-40fc-9748-5f4d9c7e8d9e",
   "metadata": {},
   "outputs": [],
   "source": [
    "qualityvars = [\"balsheet_flag\", \"balsheet_length\", \"balsheet_notfullyear\"]\n",
    "engvar = [\n",
    "    \"total_assets_bs\",\n",
    "    \"fixed_assets_bs\",\n",
    "    \"liq_assets_bs\",\n",
    "    \"curr_assets_bs\",\n",
    "    \"share_eq_bs\",\n",
    "    \"subscribed_cap_bs\",\n",
    "    \"intang_assets_bs\",\n",
    "    \"extra_exp_pl\",\n",
    "    \"extra_inc_pl\",\n",
    "    \"extra_profit_loss_pl\",\n",
    "    \"inc_bef_tax_pl\",\n",
    "    \"inventories_pl\",\n",
    "    \"material_exp_pl\",\n",
    "    \"profit_loss_year_pl\",\n",
    "    \"personnel_exp_pl\",\n",
    "]\n",
    "engvar2 = [\n",
    "    \"extra_profit_loss_pl_quad\",\n",
    "    \"inc_bef_tax_pl_quad\",\n",
    "    \"profit_loss_year_pl_quad\",\n",
    "    \"share_eq_bs_quad\",\n",
    "]"
   ]
  },
  {
   "cell_type": "code",
   "execution_count": 11,
   "id": "131eb446-ffd7-4bed-879d-bb4d634d0816",
   "metadata": {},
   "outputs": [],
   "source": [
    "engvar3 = []\n",
    "for col in data.columns:\n",
    "    if (\n",
    "        col.endswith(\"flag_low\")\n",
    "        or col.endswith(\"flag_high\")\n",
    "        or col.endswith(\"flag_error\")\n",
    "        or col.endswith(\"flag_zero\")\n",
    "    ):\n",
    "        engvar3.append(col)"
   ]
  },
  {
   "cell_type": "code",
   "execution_count": 12,
   "id": "0dfc4076-cea1-444c-85d2-1488c85d552d",
   "metadata": {},
   "outputs": [],
   "source": [
    "hr = [\n",
    "    \"female\",\n",
    "    \"ceo_age\",\n",
    "    \"flag_high_ceo_age\",\n",
    "    \"flag_low_ceo_age\",\n",
    "    \"flag_miss_ceo_age\",\n",
    "    \"ceo_count\",\n",
    "    \"labor_avg_mod\",\n",
    "    \"flag_miss_labor_avg\",\n",
    "    \"foreign_management\",\n",
    "]"
   ]
  },
  {
   "cell_type": "code",
   "execution_count": 13,
   "id": "5f33d146-b9ed-4160-89b2-a0fb9e8ebb48",
   "metadata": {},
   "outputs": [],
   "source": [
    "firm = [\"age\", \"age2\", \"new\", \"C(ind2_cat)\", \"C(m_region_loc)\", \"C(urban_m)\"]"
   ]
  },
  {
   "cell_type": "code",
   "execution_count": 14,
   "id": "df528f6a-4ace-475f-b75d-765d7b7a1ef0",
   "metadata": {},
   "outputs": [],
   "source": [
    "interactions1 = [\n",
    "    \"C(ind2_cat)*age\",\n",
    "    \"C(ind2_cat)*age2\",\n",
    "    \"C(ind2_cat)*sales_mil_log\",\n",
    "    \"C(ind2_cat)*ceo_age\",\n",
    "    \"C(ind2_cat)*foreign_management\",\n",
    "    \"C(ind2_cat)*female\",\n",
    "    \"C(ind2_cat)*C(urban_m)\",\n",
    "    \"C(ind2_cat)*labor_avg_mod\",\n",
    "]\n",
    "interactions2 = [\n",
    "    \"sales_mil_log*age\",\n",
    "    \"sales_mil_log*female\",\n",
    "    \"sales_mil_log*profit_loss_year_pl\",\n",
    "    \"sales_mil_log*foreign_management\",\n",
    "]"
   ]
  },
  {
   "cell_type": "code",
   "execution_count": 15,
   "id": "f1ae5d94-5793-4b11-b492-00f5cd1df76f",
   "metadata": {},
   "outputs": [],
   "source": [
    "M1 = [\n",
    "    \"sales_mil_log\",\n",
    "    \"sales_mil_log_sq\",\n",
    "    \"Sales_growth\",\n",
    "    \"profit_loss_year_pl\",\n",
    "    \"C(ind2_cat)\",\n",
    "]\n",
    "M2 = [\n",
    "    \"sales_mil_log\",\n",
    "    \"sales_mil_log_sq\",\n",
    "    \"Sales_growth\",\n",
    "    \"profit_loss_year_pl\",\n",
    "    \"fixed_assets_bs\", \n",
    "    \"share_eq_bs\",\n",
    "    \"curr_liab_bs \",\n",
    "    \"curr_liab_bs_flag_high \",\n",
    "    \"curr_liab_bs_flag_error\",\n",
    "    \"age\",\n",
    "    \"foreign_management\",\n",
    "    \"C(ind2_cat)\",\n",
    "]\n",
    "M3 = [\"sales_mil_log\", \"sales_mil_log_sq\", \"Sales_growth\"] + firm + engvar\n",
    "M4 = (\n",
    "    [\"sales_mil_log\", \"sales_mil_log_sq\", \"Sales_growth\"]\n",
    "    + firm\n",
    "    + engvar\n",
    "    + engvar2\n",
    "    + engvar3\n",
    "    + hr\n",
    "    + qualityvars\n",
    ")\n",
    "M5 = (\n",
    "    [\"sales_mil_log\", \"sales_mil_log_sq\", \"Sales_growth\"]\n",
    "    + firm\n",
    "    + engvar\n",
    "    + engvar2\n",
    "    + engvar3\n",
    "    + hr\n",
    "    + qualityvars\n",
    "    + interactions1\n",
    "    + interactions2\n",
    ")"
   ]
  },
  {
   "cell_type": "code",
   "execution_count": 16,
   "id": "22a03619-7f22-40ee-a932-ccdf656d9d12",
   "metadata": {},
   "outputs": [],
   "source": [
    "logit_lasso_vars = (\n",
    "    [\"sales_mil_log\", \"sales_mil_log_sq\", \"Sales_growth\"]\n",
    "    + engvar\n",
    "    + engvar2\n",
    "    + engvar3\n",
    "    + hr\n",
    "    + firm\n",
    "    + qualityvars\n",
    "    + interactions1\n",
    "    + interactions2\n",
    ")"
   ]
  },
  {
   "cell_type": "code",
   "execution_count": 17,
   "id": "36585685-73d1-4337-bb22-5af33a40e6fc",
   "metadata": {},
   "outputs": [],
   "source": [
    "rfvars = [\"sales_mil\"] + rawvars + hr + firm + qualityvars"
   ]
  },
  {
   "cell_type": "markdown",
   "id": "11a69efa-ca36-4cbd-a36d-a415ccf6b689",
   "metadata": {},
   "source": [
    "#### Train and test split "
   ]
  },
  {
   "cell_type": "code",
   "execution_count": 18,
   "id": "5a04ff86-0728-4776-a68d-0f6778817f22",
   "metadata": {},
   "outputs": [],
   "source": [
    "data_train, data_holdout = train_test_split(data, train_size=0.8, random_state=42)"
   ]
  },
  {
   "cell_type": "code",
   "execution_count": 19,
   "id": "6c4e6973-e3ee-43fe-a7a8-d55690272185",
   "metadata": {},
   "outputs": [
    {
     "name": "stdout",
     "output_type": "stream",
     "text": [
      "Total\n",
      "0    0.860896\n",
      "1    0.139104\n",
      "Name: High_growth, dtype: float64\n",
      "Train\n",
      "0    0.860147\n",
      "1    0.139853\n",
      "Name: High_growth, dtype: float64\n",
      "Holdout\n",
      "0    0.863893\n",
      "1    0.136107\n",
      "Name: High_growth, dtype: float64\n"
     ]
    }
   ],
   "source": [
    "print(\"Total\")\n",
    "print(data[\"High_growth\"].value_counts(normalize=True))\n",
    "print(\"Train\")\n",
    "print(data_train[\"High_growth\"].value_counts(normalize=True))\n",
    "print(\"Holdout\")\n",
    "print(data_holdout[\"High_growth\"].value_counts(normalize=True))"
   ]
  },
  {
   "cell_type": "code",
   "execution_count": 20,
   "id": "a324d034-725d-4fe6-ad48-5d432a953590",
   "metadata": {},
   "outputs": [],
   "source": [
    "k = KFold(n_splits=5, shuffle=True, random_state=42)"
   ]
  },
  {
   "cell_type": "markdown",
   "id": "e10320ef-eb64-4783-87d2-5c1d1171730d",
   "metadata": {},
   "source": [
    "### Logit model"
   ]
  },
  {
   "cell_type": "code",
   "execution_count": 21,
   "id": "49301093-abbf-4139-9f86-160a8db06c19",
   "metadata": {},
   "outputs": [],
   "source": [
    "logit_model_vars = [M1, M2, M3, M4, M5]"
   ]
  },
  {
   "cell_type": "code",
   "execution_count": 22,
   "id": "fe643ca2-4c9f-4688-b278-6fa74ad8d0ab",
   "metadata": {},
   "outputs": [],
   "source": [
    "C_value_logit = [1e20]"
   ]
  },
  {
   "cell_type": "code",
   "execution_count": 23,
   "id": "fcf3b2e9-de1c-45e9-b38d-6429c25f601a",
   "metadata": {},
   "outputs": [],
   "source": [
    "logit_models = dict()\n",
    "CV_RMSE_folds = dict()\n",
    "\n",
    "for i, model_vars in enumerate(logit_model_vars):\n",
    "\n",
    "    model_equation = \"High_growth~\" + \"+\".join(model_vars)\n",
    "    y_train, X_train = patsy.dmatrices(model_equation, data_train)\n",
    "\n",
    "    LRCV_brier = LogisticRegressionCV(\n",
    "        Cs=C_value_logit,\n",
    "        cv=k,\n",
    "        refit=True,\n",
    "        scoring=\"neg_brier_score\",\n",
    "        solver=\"newton-cg\",\n",
    "        tol=1e-7,\n",
    "        random_state=42,\n",
    "    )\n",
    "\n",
    "    logit_models[\"M\" + str(i + 1)] = LRCV_brier.fit(X_train, y_train)\n",
    "\n",
    "    # Calculate RMSE on test for each fold\n",
    "    CV_RMSE_folds[\"M\" + str(i + 1)] = np.sqrt(\n",
    "        -1 * logit_models[\"M\" + str(i + 1)].scores_[1].ravel()\n",
    "    )"
   ]
  },
  {
   "cell_type": "code",
   "execution_count": 24,
   "id": "502212d7-0282-4184-831b-6bee6b25dc25",
   "metadata": {},
   "outputs": [],
   "source": [
    "# Logit Lasso Model\n",
    "model_equation = \"High_growth~\" + \"+\".join(logit_lasso_vars)\n",
    "y_train, X_train = patsy.dmatrices(model_equation, data_train)"
   ]
  },
  {
   "cell_type": "code",
   "execution_count": 25,
   "id": "b1f19d57-d551-4c2a-afc2-c599753754c0",
   "metadata": {},
   "outputs": [],
   "source": [
    "normalized_logitvars = pd.DataFrame(\n",
    "    StandardScaler().fit_transform(X_train),\n",
    "    columns=X_train.design_info.column_names,\n",
    ")"
   ]
  },
  {
   "cell_type": "code",
   "execution_count": 26,
   "id": "e96ee587-6a18-46f9-b6b9-82c65135d017",
   "metadata": {},
   "outputs": [],
   "source": [
    "lambdas = list(10 ** np.arange(-1, -4.01, -1 / 3))\n",
    "n_obs = normalized_logitvars.shape[0] * 4 / 5\n",
    "C_values = [\n",
    "    1 / (l * n_obs) for l in lambdas\n",
    "]  # Cs are the inverse of regularization strength"
   ]
  },
  {
   "cell_type": "code",
   "execution_count": 27,
   "id": "fcad1eca-69a6-4dce-b95d-f0994bc5201c",
   "metadata": {},
   "outputs": [],
   "source": [
    "logLasso_brier = LogisticRegressionCV(\n",
    "    Cs=C_values,\n",
    "    penalty=\"l1\",\n",
    "    cv=k,\n",
    "    refit=True,\n",
    "    scoring=\"neg_brier_score\",\n",
    "    solver=\"liblinear\",\n",
    "    random_state=42,\n",
    ")\n",
    "\n",
    "logit_models[\"LASSO\"] = logLasso_brier.fit(normalized_logitvars, y_train)"
   ]
  },
  {
   "cell_type": "code",
   "execution_count": 28,
   "id": "f462c150-c636-47d1-b0dd-ce4183523cb1",
   "metadata": {},
   "outputs": [
    {
     "data": {
      "text/html": [
       "<div>\n",
       "<style scoped>\n",
       "    .dataframe tbody tr th:only-of-type {\n",
       "        vertical-align: middle;\n",
       "    }\n",
       "\n",
       "    .dataframe tbody tr th {\n",
       "        vertical-align: top;\n",
       "    }\n",
       "\n",
       "    .dataframe thead th {\n",
       "        text-align: right;\n",
       "    }\n",
       "</style>\n",
       "<table border=\"1\" class=\"dataframe\">\n",
       "  <thead>\n",
       "    <tr style=\"text-align: right;\">\n",
       "      <th></th>\n",
       "      <th>lambdas</th>\n",
       "      <th>C_values</th>\n",
       "      <th>mean_cv_score</th>\n",
       "    </tr>\n",
       "  </thead>\n",
       "  <tbody>\n",
       "    <tr>\n",
       "      <th>0</th>\n",
       "      <td>0.100000</td>\n",
       "      <td>0.000929</td>\n",
       "      <td>0.360978</td>\n",
       "    </tr>\n",
       "    <tr>\n",
       "      <th>1</th>\n",
       "      <td>0.046416</td>\n",
       "      <td>0.002001</td>\n",
       "      <td>0.348105</td>\n",
       "    </tr>\n",
       "    <tr>\n",
       "      <th>2</th>\n",
       "      <td>0.021544</td>\n",
       "      <td>0.004312</td>\n",
       "      <td>0.340308</td>\n",
       "    </tr>\n",
       "    <tr>\n",
       "      <th>3</th>\n",
       "      <td>0.010000</td>\n",
       "      <td>0.009289</td>\n",
       "      <td>0.335116</td>\n",
       "    </tr>\n",
       "    <tr>\n",
       "      <th>4</th>\n",
       "      <td>0.004642</td>\n",
       "      <td>0.020012</td>\n",
       "      <td>0.332883</td>\n",
       "    </tr>\n",
       "    <tr>\n",
       "      <th>5</th>\n",
       "      <td>0.002154</td>\n",
       "      <td>0.043115</td>\n",
       "      <td>0.332435</td>\n",
       "    </tr>\n",
       "    <tr>\n",
       "      <th>6</th>\n",
       "      <td>0.001000</td>\n",
       "      <td>0.092888</td>\n",
       "      <td>0.332621</td>\n",
       "    </tr>\n",
       "    <tr>\n",
       "      <th>7</th>\n",
       "      <td>0.000464</td>\n",
       "      <td>0.200122</td>\n",
       "      <td>0.333097</td>\n",
       "    </tr>\n",
       "    <tr>\n",
       "      <th>8</th>\n",
       "      <td>0.000215</td>\n",
       "      <td>0.431150</td>\n",
       "      <td>0.333463</td>\n",
       "    </tr>\n",
       "    <tr>\n",
       "      <th>9</th>\n",
       "      <td>0.000100</td>\n",
       "      <td>0.928885</td>\n",
       "      <td>0.333698</td>\n",
       "    </tr>\n",
       "  </tbody>\n",
       "</table>\n",
       "</div>"
      ],
      "text/plain": [
       "    lambdas  C_values  mean_cv_score\n",
       "0  0.100000  0.000929       0.360978\n",
       "1  0.046416  0.002001       0.348105\n",
       "2  0.021544  0.004312       0.340308\n",
       "3  0.010000  0.009289       0.335116\n",
       "4  0.004642  0.020012       0.332883\n",
       "5  0.002154  0.043115       0.332435\n",
       "6  0.001000  0.092888       0.332621\n",
       "7  0.000464  0.200122       0.333097\n",
       "8  0.000215  0.431150       0.333463\n",
       "9  0.000100  0.928885       0.333698"
      ]
     },
     "execution_count": 28,
     "metadata": {},
     "output_type": "execute_result"
    }
   ],
   "source": [
    "cv_summary_lasso = cv_summary(lambdas, C_values, logit_models[\"LASSO\"])\n",
    "cv_summary_lasso[\"mean_cv_score\"] = np.sqrt(cv_summary_lasso[\"mean_cv_score\"] * -1)\n",
    "cv_summary_lasso"
   ]
  },
  {
   "cell_type": "code",
   "execution_count": 29,
   "id": "e7515333-7a3a-47b6-8381-a784d3ffc96f",
   "metadata": {},
   "outputs": [],
   "source": [
    "best_lambda_i = cv_summary_lasso[\"mean_cv_score\"].idxmin()"
   ]
  },
  {
   "cell_type": "code",
   "execution_count": 30,
   "id": "2f2e4886-ac9e-4e89-9ee6-e22b815cdc68",
   "metadata": {},
   "outputs": [
    {
     "data": {
      "text/html": [
       "<div>\n",
       "<style scoped>\n",
       "    .dataframe tbody tr th:only-of-type {\n",
       "        vertical-align: middle;\n",
       "    }\n",
       "\n",
       "    .dataframe tbody tr th {\n",
       "        vertical-align: top;\n",
       "    }\n",
       "\n",
       "    .dataframe thead th {\n",
       "        text-align: right;\n",
       "    }\n",
       "</style>\n",
       "<table border=\"1\" class=\"dataframe\">\n",
       "  <thead>\n",
       "    <tr style=\"text-align: right;\">\n",
       "      <th></th>\n",
       "      <th>variable</th>\n",
       "      <th>coefficient</th>\n",
       "      <th>Importance</th>\n",
       "    </tr>\n",
       "  </thead>\n",
       "  <tbody>\n",
       "    <tr>\n",
       "      <th>143</th>\n",
       "      <td>Intercept</td>\n",
       "      <td>[-2.0189983329287524]</td>\n",
       "      <td>[2.0189983329287524]</td>\n",
       "    </tr>\n",
       "    <tr>\n",
       "      <th>138</th>\n",
       "      <td>balsheet_notfullyear</td>\n",
       "      <td>-0.575295</td>\n",
       "      <td>0.575295</td>\n",
       "    </tr>\n",
       "    <tr>\n",
       "      <th>34</th>\n",
       "      <td>sales_mil_log_sq</td>\n",
       "      <td>0.304656</td>\n",
       "      <td>0.304656</td>\n",
       "    </tr>\n",
       "    <tr>\n",
       "      <th>26</th>\n",
       "      <td>sales_mil_log</td>\n",
       "      <td>-0.250889</td>\n",
       "      <td>0.250889</td>\n",
       "    </tr>\n",
       "    <tr>\n",
       "      <th>7</th>\n",
       "      <td>C(ind2_cat)[T.56.0]</td>\n",
       "      <td>-0.187564</td>\n",
       "      <td>0.187564</td>\n",
       "    </tr>\n",
       "    <tr>\n",
       "      <th>119</th>\n",
       "      <td>age</td>\n",
       "      <td>-0.161779</td>\n",
       "      <td>0.161779</td>\n",
       "    </tr>\n",
       "    <tr>\n",
       "      <th>90</th>\n",
       "      <td>ceo_age</td>\n",
       "      <td>-0.138579</td>\n",
       "      <td>0.138579</td>\n",
       "    </tr>\n",
       "    <tr>\n",
       "      <th>135</th>\n",
       "      <td>new</td>\n",
       "      <td>0.135952</td>\n",
       "      <td>0.135952</td>\n",
       "    </tr>\n",
       "    <tr>\n",
       "      <th>5</th>\n",
       "      <td>C(ind2_cat)[T.33.0]</td>\n",
       "      <td>0.119475</td>\n",
       "      <td>0.119475</td>\n",
       "    </tr>\n",
       "    <tr>\n",
       "      <th>48</th>\n",
       "      <td>material_exp_pl</td>\n",
       "      <td>0.118943</td>\n",
       "      <td>0.118943</td>\n",
       "    </tr>\n",
       "  </tbody>\n",
       "</table>\n",
       "</div>"
      ],
      "text/plain": [
       "                 variable            coefficient            Importance\n",
       "143             Intercept  [-2.0189983329287524]  [2.0189983329287524]\n",
       "138  balsheet_notfullyear              -0.575295              0.575295\n",
       "34       sales_mil_log_sq               0.304656              0.304656\n",
       "26          sales_mil_log              -0.250889              0.250889\n",
       "7     C(ind2_cat)[T.56.0]              -0.187564              0.187564\n",
       "119                   age              -0.161779              0.161779\n",
       "90                ceo_age              -0.138579              0.138579\n",
       "135                   new               0.135952              0.135952\n",
       "5     C(ind2_cat)[T.33.0]               0.119475              0.119475\n",
       "48        material_exp_pl               0.118943              0.118943"
      ]
     },
     "execution_count": 30,
     "metadata": {},
     "output_type": "execute_result"
    }
   ],
   "source": [
    "coef_lasso_mat=coef_matrix(normalized_logitvars, logit_models[\"LASSO\"])\n",
    "coef_lasso_mat[\"Importance\"]=abs(coef_lasso_mat['coefficient'])\n",
    "coef_lasso_mat=coef_lasso_mat.sort_values(by=['Importance'],  ascending=False )\n",
    "coef_lasso_mat.head(10).to_csv(output +'\\\\lassocoef.csv')\n",
    "coef_lasso_mat.head(10)"
   ]
  },
  {
   "cell_type": "code",
   "execution_count": 31,
   "id": "e10d0248-20ad-4436-95b1-1ec9dab1f8c8",
   "metadata": {},
   "outputs": [],
   "source": [
    "CV_RMSE_folds[\"LASSO\"] = np.sqrt(\n",
    "    -1 * logit_models[\"LASSO\"].scores_[1][:, best_lambda_i]\n",
    ")"
   ]
  },
  {
   "cell_type": "code",
   "execution_count": 32,
   "id": "6cbea84f-7164-47ce-af68-442fc46ee6a2",
   "metadata": {},
   "outputs": [],
   "source": [
    "CV_AUC_folds = dict()\n",
    "for i, model_vars in enumerate(logit_model_vars):\n",
    "\n",
    "    model_equation = \"High_growth~\" + \"+\".join(model_vars)\n",
    "    y_train, X_train = patsy.dmatrices(model_equation, data_train)\n",
    "\n",
    "    LRCV_auc = LogisticRegressionCV(\n",
    "        Cs=C_value_logit,\n",
    "        cv=k,\n",
    "        refit=True,\n",
    "        scoring=\"roc_auc\",\n",
    "        solver=\"newton-cg\",\n",
    "        tol=1e-7,\n",
    "        random_state=42,\n",
    "    )\n",
    "\n",
    "    logit_models[\"M\" + str(i + 1)] = LRCV_auc.fit(X_train, y_train)\n",
    "\n",
    "    # Calculate AUC on test for each fold\n",
    "    CV_AUC_folds[\"M\" + str(i + 1)] = logit_models[\"M\" + str(i + 1)].scores_[1].ravel()"
   ]
  },
  {
   "cell_type": "code",
   "execution_count": 33,
   "id": "ae156a69-f197-4e99-9662-14205db1df89",
   "metadata": {},
   "outputs": [],
   "source": [
    "logLasso_auc = LogisticRegressionCV(\n",
    "    Cs=C_values,\n",
    "    penalty=\"l1\",\n",
    "    cv=k,\n",
    "    refit=True,\n",
    "    scoring=\"roc_auc\",\n",
    "    solver=\"liblinear\",\n",
    "    random_state=42,\n",
    ")\n",
    "logLasso_auc_fitted = logLasso_auc.fit(normalized_logitvars, y_train)\n",
    "\n",
    "CV_AUC_folds[\"LASSO\"] = logLasso_auc_fitted.scores_[1][\n",
    "    :, cv_summary_lasso[\"mean_cv_score\"].idxmin()\n",
    "]"
   ]
  },
  {
   "cell_type": "code",
   "execution_count": 34,
   "id": "cb1268dc-2b73-44b3-b56c-db10ed0a75fb",
   "metadata": {},
   "outputs": [],
   "source": [
    "model_fits = pd.DataFrame(logit_models, index=[\"Model fit\"]).T\n",
    "\n",
    "summary = (\n",
    "    model_fits[\"Model fit\"]\n",
    "    .apply(lambda x: x.n_features_in_)\n",
    "    .to_frame(name=\"Number of Coefficients\")\n",
    ")\n",
    "\n",
    "summary.loc[\"LASSO\", \"Number of Coefficients\"] = len(\n",
    "    [i for i in model_fits.loc[\"LASSO\"].values[0].coef_[0] if i != 0]\n",
    ")\n",
    "\n",
    "summary[\"CV RMSE\"] = pd.DataFrame(CV_RMSE_folds).T.mean(axis=1)\n",
    "summary[\"CV AUC\"] = pd.DataFrame(CV_AUC_folds).T.mean(axis=1)"
   ]
  },
  {
   "cell_type": "markdown",
   "id": "cfa44433-bcd0-4857-b0b1-2245d3e6d059",
   "metadata": {},
   "source": [
    "### Random forest model"
   ]
  },
  {
   "cell_type": "code",
   "execution_count": 35,
   "id": "8d0ca8e8-0fa6-4f36-b484-6679afa25cc1",
   "metadata": {},
   "outputs": [],
   "source": [
    "y_train, rfvars_train = patsy.dmatrices(\"High_growth~\" + \"+\".join(rfvars), data_train)\n",
    "y_holdout, rfvars_holdout = patsy.dmatrices(\"High_growth~\" + \"+\".join(rfvars), data_holdout)"
   ]
  },
  {
   "cell_type": "code",
   "execution_count": 36,
   "id": "04c120ae-a041-452e-b071-78af9a587a24",
   "metadata": {},
   "outputs": [
    {
     "data": {
      "text/plain": [
       "<Figure size 640x480 with 0 Axes>"
      ]
     },
     "metadata": {},
     "output_type": "display_data"
    },
    {
     "data": {
      "image/png": "[encoded data removed]",
      "text/plain": [
       "<Figure size 1100x1100 with 1 Axes>"
      ]
     },
     "metadata": {},
     "output_type": "display_data"
    }
   ],
   "source": [
    "data_for_graph = data_train[[\"sales_mil_log\", \"age\", \"female\"]]\n",
    "rf_for_graph = DecisionTreeClassifier(\n",
    "    ccp_alpha=0.0028, min_samples_leaf=100, max_depth=3, random_state=41\n",
    ").fit(data_for_graph, y_train)\n",
    "\n",
    "plt.figure()\n",
    "plt.figure(figsize=(11, 11))\n",
    "plot_tree(\n",
    "    rf_for_graph,\n",
    "    feature_names=data_for_graph.columns,\n",
    "    filled=True,\n",
    "    rounded=True,\n",
    "    proportion=True,\n",
    "    fontsize=10,\n",
    ")\n",
    "plt.title(\"Decision tree\")\n",
    "plt.show()"
   ]
  },
  {
   "cell_type": "code",
   "execution_count": 37,
   "id": "025c381b-2f1c-42c1-8039-7054b75cad7c",
   "metadata": {},
   "outputs": [],
   "source": [
    "grid = {\n",
    "    \"max_features\": [5, 6, 7],\n",
    "    \"criterion\": [\"gini\"],\n",
    "    \"min_samples_split\": [11, 16],\n",
    "} "
   ]
  },
  {
   "cell_type": "code",
   "execution_count": 38,
   "id": "1d042592-bddc-4def-9dee-bf004b996ccc",
   "metadata": {},
   "outputs": [],
   "source": [
    "prob_forest = RandomForestClassifier(random_state=42, n_estimators=500, oob_score=True)\n",
    "prob_forest_grid = GridSearchCV(\n",
    "    prob_forest,\n",
    "    grid,\n",
    "    cv=k,\n",
    "    refit=\"roc_auc\",\n",
    "    scoring=[\"roc_auc\", \"neg_brier_score\"],\n",
    ")"
   ]
  },
  {
   "cell_type": "code",
   "execution_count": 39,
   "id": "688e4cc3-8524-4fe9-b169-96953fca63ef",
   "metadata": {
    "tags": []
   },
   "outputs": [],
   "source": [
    "prob_forest_fit = prob_forest_grid.fit(rfvars_train, y_train)"
   ]
  },
  {
   "cell_type": "code",
   "execution_count": 40,
   "id": "f650e8bf-54a5-4e55-beb3-2ee8329c0619",
   "metadata": {},
   "outputs": [
    {
     "data": {
      "text/html": [
       "<div>\n",
       "<style scoped>\n",
       "    .dataframe tbody tr th:only-of-type {\n",
       "        vertical-align: middle;\n",
       "    }\n",
       "\n",
       "    .dataframe tbody tr th {\n",
       "        vertical-align: top;\n",
       "    }\n",
       "\n",
       "    .dataframe thead th {\n",
       "        text-align: right;\n",
       "    }\n",
       "</style>\n",
       "<table border=\"1\" class=\"dataframe\">\n",
       "  <thead>\n",
       "    <tr style=\"text-align: right;\">\n",
       "      <th></th>\n",
       "      <th>max_features</th>\n",
       "      <th>min_samples_split</th>\n",
       "      <th>cv_auc</th>\n",
       "      <th>cv_rmse</th>\n",
       "    </tr>\n",
       "  </thead>\n",
       "  <tbody>\n",
       "    <tr>\n",
       "      <th>0</th>\n",
       "      <td>5</td>\n",
       "      <td>11</td>\n",
       "      <td>0.715432</td>\n",
       "      <td>0.332513</td>\n",
       "    </tr>\n",
       "    <tr>\n",
       "      <th>1</th>\n",
       "      <td>5</td>\n",
       "      <td>16</td>\n",
       "      <td>0.717473</td>\n",
       "      <td>0.332119</td>\n",
       "    </tr>\n",
       "    <tr>\n",
       "      <th>2</th>\n",
       "      <td>6</td>\n",
       "      <td>11</td>\n",
       "      <td>0.714199</td>\n",
       "      <td>0.332794</td>\n",
       "    </tr>\n",
       "    <tr>\n",
       "      <th>3</th>\n",
       "      <td>6</td>\n",
       "      <td>16</td>\n",
       "      <td>0.717421</td>\n",
       "      <td>0.332380</td>\n",
       "    </tr>\n",
       "    <tr>\n",
       "      <th>4</th>\n",
       "      <td>7</td>\n",
       "      <td>11</td>\n",
       "      <td>0.714597</td>\n",
       "      <td>0.332910</td>\n",
       "    </tr>\n",
       "    <tr>\n",
       "      <th>5</th>\n",
       "      <td>7</td>\n",
       "      <td>16</td>\n",
       "      <td>0.715730</td>\n",
       "      <td>0.332686</td>\n",
       "    </tr>\n",
       "  </tbody>\n",
       "</table>\n",
       "</div>"
      ],
      "text/plain": [
       "  max_features min_samples_split    cv_auc   cv_rmse\n",
       "0            5                11  0.715432  0.332513\n",
       "1            5                16  0.717473  0.332119\n",
       "2            6                11  0.714199  0.332794\n",
       "3            6                16  0.717421  0.332380\n",
       "4            7                11  0.714597  0.332910\n",
       "5            7                16  0.715730  0.332686"
      ]
     },
     "execution_count": 40,
     "metadata": {},
     "output_type": "execute_result"
    }
   ],
   "source": [
    "prob_forest_cv_results = pd.DataFrame(\n",
    "    {\n",
    "        \"max_features\": prob_forest_fit.cv_results_[\"param_max_features\"],\n",
    "        \"min_samples_split\": prob_forest_fit.cv_results_[\"param_min_samples_split\"],\n",
    "        \"cv_auc\": prob_forest_fit.cv_results_[\"mean_test_roc_auc\"],\n",
    "        \"cv_rmse\": np.sqrt(\n",
    "            prob_forest_fit.cv_results_[\"mean_test_neg_brier_score\"] * -1\n",
    "        ),\n",
    "    }\n",
    ")\n",
    "\n",
    "prob_forest_cv_results"
   ]
  },
  {
   "cell_type": "code",
   "execution_count": 41,
   "id": "c6a19a23-55a8-4b75-85a4-d42e8d1970e4",
   "metadata": {},
   "outputs": [
    {
     "data": {
      "text/plain": [
       "{'criterion': 'gini', 'max_features': 5, 'min_samples_split': 16}"
      ]
     },
     "execution_count": 41,
     "metadata": {},
     "output_type": "execute_result"
    }
   ],
   "source": [
    "best_mtry = prob_forest_fit.best_params_[\"max_features\"]\n",
    "best_min_node_size = prob_forest_fit.best_params_[\"min_samples_split\"]\n",
    "prob_forest_fit.best_params_"
   ]
  },
  {
   "cell_type": "code",
   "execution_count": 42,
   "id": "9dacbf4d-bfa1-4bf6-83fa-5dd10d1af3eb",
   "metadata": {},
   "outputs": [],
   "source": [
    "prob_forest_best_results = prob_forest_cv_results[\n",
    "    (prob_forest_cv_results.max_features == best_mtry)\n",
    "    & (prob_forest_cv_results.min_samples_split == best_min_node_size)\n",
    "]\n",
    "prob_forest_best_results_index = prob_forest_best_results.index.values[0]"
   ]
  },
  {
   "cell_type": "code",
   "execution_count": 43,
   "id": "2448e0bd-f3fc-46c6-983e-d080b393f144",
   "metadata": {},
   "outputs": [],
   "source": [
    "summary.loc[\"RF\", \"Number of Coefficients\"] = \"n.a.\"\n",
    "summary.loc[\"RF\", \"CV RMSE\"] = prob_forest_best_results[\"cv_rmse\"].values[0]\n",
    "summary.loc[\"RF\", \"CV AUC\"] = prob_forest_best_results[\"cv_auc\"].values[0]"
   ]
  },
  {
   "cell_type": "code",
   "execution_count": 44,
   "id": "0ebc987a-119e-4872-b871-edcad7b3f49f",
   "metadata": {},
   "outputs": [
    {
     "data": {
      "text/html": [
       "<div>\n",
       "<style scoped>\n",
       "    .dataframe tbody tr th:only-of-type {\n",
       "        vertical-align: middle;\n",
       "    }\n",
       "\n",
       "    .dataframe tbody tr th {\n",
       "        vertical-align: top;\n",
       "    }\n",
       "\n",
       "    .dataframe thead th {\n",
       "        text-align: right;\n",
       "    }\n",
       "</style>\n",
       "<table border=\"1\" class=\"dataframe\">\n",
       "  <thead>\n",
       "    <tr style=\"text-align: right;\">\n",
       "      <th></th>\n",
       "      <th>Number of Coefficients</th>\n",
       "      <th>CV RMSE</th>\n",
       "      <th>CV AUC</th>\n",
       "    </tr>\n",
       "  </thead>\n",
       "  <tbody>\n",
       "    <tr>\n",
       "      <th>M1</th>\n",
       "      <td>12.0</td>\n",
       "      <td>0.340415</td>\n",
       "      <td>0.649101</td>\n",
       "    </tr>\n",
       "    <tr>\n",
       "      <th>M2</th>\n",
       "      <td>19.0</td>\n",
       "      <td>0.339111</td>\n",
       "      <td>0.667022</td>\n",
       "    </tr>\n",
       "    <tr>\n",
       "      <th>M3</th>\n",
       "      <td>33.0</td>\n",
       "      <td>0.339367</td>\n",
       "      <td>0.664183</td>\n",
       "    </tr>\n",
       "    <tr>\n",
       "      <th>M4</th>\n",
       "      <td>76.0</td>\n",
       "      <td>0.333711</td>\n",
       "      <td>0.701493</td>\n",
       "    </tr>\n",
       "    <tr>\n",
       "      <th>M5</th>\n",
       "      <td>143.0</td>\n",
       "      <td>0.333170</td>\n",
       "      <td>0.706208</td>\n",
       "    </tr>\n",
       "    <tr>\n",
       "      <th>LASSO</th>\n",
       "      <td>68.0</td>\n",
       "      <td>0.332403</td>\n",
       "      <td>0.709634</td>\n",
       "    </tr>\n",
       "    <tr>\n",
       "      <th>RF</th>\n",
       "      <td>n.a.</td>\n",
       "      <td>0.332119</td>\n",
       "      <td>0.717473</td>\n",
       "    </tr>\n",
       "  </tbody>\n",
       "</table>\n",
       "</div>"
      ],
      "text/plain": [
       "      Number of Coefficients   CV RMSE    CV AUC\n",
       "M1                      12.0  0.340415  0.649101\n",
       "M2                      19.0  0.339111  0.667022\n",
       "M3                      33.0  0.339367  0.664183\n",
       "M4                      76.0  0.333711  0.701493\n",
       "M5                     143.0  0.333170  0.706208\n",
       "LASSO                   68.0  0.332403  0.709634\n",
       "RF                      n.a.  0.332119  0.717473"
      ]
     },
     "execution_count": 44,
     "metadata": {},
     "output_type": "execute_result"
    }
   ],
   "source": [
    "summary"
   ]
  },
  {
   "cell_type": "markdown",
   "id": "b22a2901-ea33-41c1-8e32-4619beda89ab",
   "metadata": {},
   "source": [
    "### Prediction"
   ]
  },
  {
   "cell_type": "code",
   "execution_count": 45,
   "id": "2bec4616-2e30-4ff9-883a-b60f526ac885",
   "metadata": {},
   "outputs": [],
   "source": [
    "best_logit = logit_models[\"M4\"]\n",
    "model_equation = \"High_growth~\" + \"+\".join(M4)\n",
    "_, X_holdout = patsy.dmatrices(model_equation, data_holdout)"
   ]
  },
  {
   "cell_type": "code",
   "execution_count": 46,
   "id": "8cc022de-ce90-40a6-9cc9-eb2d05f91fce",
   "metadata": {},
   "outputs": [
    {
     "data": {
      "text/plain": [
       "0.33"
      ]
     },
     "execution_count": 46,
     "metadata": {},
     "output_type": "execute_result"
    }
   ],
   "source": [
    "data_holdout[\"best_logit_pred_proba\"] = best_logit.predict_proba(X_holdout)[:, 1]\n",
    "\n",
    "round(rmse(data_holdout[\"best_logit_pred_proba\"], data_holdout[\"High_growth\"]), 3)"
   ]
  },
  {
   "cell_type": "code",
   "execution_count": 47,
   "id": "75ab2f7b-f226-48f6-923c-6f666df99d9f",
   "metadata": {},
   "outputs": [
    {
     "data": {
      "image/png": "[encoded data removed]",
      "text/plain": [
       "<Figure size 640x480 with 1 Axes>"
      ]
     },
     "metadata": {},
     "output_type": "display_data"
    },
    {
     "data": {
      "text/plain": [
       "<ggplot: (133144570140)>"
      ]
     },
     "execution_count": 47,
     "metadata": {},
     "output_type": "execute_result"
    }
   ],
   "source": [
    "prediction= create_calibration_plot(\n",
    "    data_holdout,\n",
    "    file_name=\"Logit-M4\",\n",
    "    prob_var=\"best_logit_pred_proba\",\n",
    "    actual_var=\"High_growth\",\n",
    "    y_lab=\"Actual event probability\",\n",
    "    n_bins=10,\n",
    "    breaks=None,\n",
    ")\n",
    "ggsave(prediction, filename=output +'\\\\predict.png', dpi=1000)\n",
    "prediction"
   ]
  },
  {
   "cell_type": "code",
   "execution_count": 48,
   "id": "47d308b0-bf04-4083-9a9d-4e929102225d",
   "metadata": {},
   "outputs": [
    {
     "name": "stdout",
     "output_type": "stream",
     "text": [
      "0.0  (no High_growth):  3324\n",
      "1.0  (High_growth):  41\n"
     ]
    }
   ],
   "source": [
    "logit_class_prediction = best_logit.predict(X_holdout)\n",
    "\n",
    "values, counts = np.unique(logit_class_prediction.tolist(), return_counts=True)\n",
    "print(values[0], \" (no High_growth): \", counts[0])\n",
    "print(values[1], \" (High_growth): \", counts[1])"
   ]
  },
  {
   "cell_type": "code",
   "execution_count": 49,
   "id": "fc14beb4-e4f3-4a3a-9028-3c0861f777ff",
   "metadata": {},
   "outputs": [
    {
     "data": {
      "text/html": [
       "<div>\n",
       "<style scoped>\n",
       "    .dataframe tbody tr th:only-of-type {\n",
       "        vertical-align: middle;\n",
       "    }\n",
       "\n",
       "    .dataframe tbody tr th {\n",
       "        vertical-align: top;\n",
       "    }\n",
       "\n",
       "    .dataframe thead th {\n",
       "        text-align: right;\n",
       "    }\n",
       "</style>\n",
       "<table border=\"1\" class=\"dataframe\">\n",
       "  <thead>\n",
       "    <tr style=\"text-align: right;\">\n",
       "      <th></th>\n",
       "      <th>Predicted no High_growth</th>\n",
       "      <th>Predicted High_growth</th>\n",
       "    </tr>\n",
       "  </thead>\n",
       "  <tbody>\n",
       "    <tr>\n",
       "      <th>Actul no High_growth</th>\n",
       "      <td>2887</td>\n",
       "      <td>20</td>\n",
       "    </tr>\n",
       "    <tr>\n",
       "      <th>Actual High_growth</th>\n",
       "      <td>437</td>\n",
       "      <td>21</td>\n",
       "    </tr>\n",
       "  </tbody>\n",
       "</table>\n",
       "</div>"
      ],
      "text/plain": [
       "                      Predicted no High_growth  Predicted High_growth\n",
       "Actul no High_growth                      2887                     20\n",
       "Actual High_growth                         437                     21"
      ]
     },
     "execution_count": 49,
     "metadata": {},
     "output_type": "execute_result"
    }
   ],
   "source": [
    "cm_object1 = confusion_matrix(\n",
    "    data_holdout[\"High_growth\"], logit_class_prediction, labels=[0, 1]\n",
    ")\n",
    "cm1 = pd.DataFrame(\n",
    "    cm_object1,\n",
    "    index=[\"Actul no High_growth\", \"Actual High_growth\"],\n",
    "    columns=[\"Predicted no High_growth\", \"Predicted High_growth\"],\n",
    ")\n",
    "cm1"
   ]
  },
  {
   "cell_type": "code",
   "execution_count": 50,
   "id": "3571f252-0d60-4e9e-b4e4-6f6b587ab21d",
   "metadata": {},
   "outputs": [
    {
     "data": {
      "text/html": [
       "<div>\n",
       "<style scoped>\n",
       "    .dataframe tbody tr th:only-of-type {\n",
       "        vertical-align: middle;\n",
       "    }\n",
       "\n",
       "    .dataframe tbody tr th {\n",
       "        vertical-align: top;\n",
       "    }\n",
       "\n",
       "    .dataframe thead th {\n",
       "        text-align: right;\n",
       "    }\n",
       "</style>\n",
       "<table border=\"1\" class=\"dataframe\">\n",
       "  <thead>\n",
       "    <tr style=\"text-align: right;\">\n",
       "      <th></th>\n",
       "      <th>Predicted no High_growth</th>\n",
       "      <th>Predicted High_growth</th>\n",
       "    </tr>\n",
       "  </thead>\n",
       "  <tbody>\n",
       "    <tr>\n",
       "      <th>Actul no High_growth</th>\n",
       "      <td>2637</td>\n",
       "      <td>270</td>\n",
       "    </tr>\n",
       "    <tr>\n",
       "      <th>Actual High_growth</th>\n",
       "      <td>310</td>\n",
       "      <td>148</td>\n",
       "    </tr>\n",
       "  </tbody>\n",
       "</table>\n",
       "</div>"
      ],
      "text/plain": [
       "                      Predicted no High_growth  Predicted High_growth\n",
       "Actul no High_growth                      2637                    270\n",
       "Actual High_growth                         310                    148"
      ]
     },
     "execution_count": 50,
     "metadata": {},
     "output_type": "execute_result"
    }
   ],
   "source": [
    "# we can apply different thresholds\n",
    "\n",
    "# 0.5 same as before\n",
    "holdout_prediction = np.where(data_holdout[\"best_logit_pred_proba\"] < 0.25, 0, 1)\n",
    "cm_object1b = confusion_matrix(\n",
    "    data_holdout[\"High_growth\"], holdout_prediction, labels=[0, 1]\n",
    ")\n",
    "cm1b = pd.DataFrame(\n",
    "    cm_object1b,\n",
    "    index=[\"Actul no High_growth\", \"Actual High_growth\"],\n",
    "    columns=[\"Predicted no High_growth\", \"Predicted High_growth\"],\n",
    ")\n",
    "cm1b"
   ]
  },
  {
   "cell_type": "code",
   "execution_count": 51,
   "id": "e1987d1a-c2a3-400c-b47e-d64796a90029",
   "metadata": {},
   "outputs": [
    {
     "data": {
      "text/plain": [
       "0.139"
      ]
     },
     "execution_count": 51,
     "metadata": {},
     "output_type": "execute_result"
    }
   ],
   "source": [
    "mean_predicted_growth_prob = np.mean(data_holdout[\"best_logit_pred_proba\"])\n",
    "round(mean_predicted_growth_prob, 3)"
   ]
  },
  {
   "cell_type": "code",
   "execution_count": 52,
   "id": "2e865af7-a0aa-46b8-83d2-fce36083d925",
   "metadata": {},
   "outputs": [
    {
     "data": {
      "text/html": [
       "<div>\n",
       "<style scoped>\n",
       "    .dataframe tbody tr th:only-of-type {\n",
       "        vertical-align: middle;\n",
       "    }\n",
       "\n",
       "    .dataframe tbody tr th {\n",
       "        vertical-align: top;\n",
       "    }\n",
       "\n",
       "    .dataframe thead th {\n",
       "        text-align: right;\n",
       "    }\n",
       "</style>\n",
       "<table border=\"1\" class=\"dataframe\">\n",
       "  <thead>\n",
       "    <tr style=\"text-align: right;\">\n",
       "      <th></th>\n",
       "      <th>Predicted no High_growth</th>\n",
       "      <th>Predicted High_growth</th>\n",
       "    </tr>\n",
       "  </thead>\n",
       "  <tbody>\n",
       "    <tr>\n",
       "      <th>Actul no High_growth</th>\n",
       "      <td>1948</td>\n",
       "      <td>959</td>\n",
       "    </tr>\n",
       "    <tr>\n",
       "      <th>Actual High_growth</th>\n",
       "      <td>166</td>\n",
       "      <td>292</td>\n",
       "    </tr>\n",
       "  </tbody>\n",
       "</table>\n",
       "</div>"
      ],
      "text/plain": [
       "                      Predicted no High_growth  Predicted High_growth\n",
       "Actul no High_growth                      1948                    959\n",
       "Actual High_growth                         166                    292"
      ]
     },
     "execution_count": 52,
     "metadata": {},
     "output_type": "execute_result"
    }
   ],
   "source": [
    "holdout_prediction = np.where(\n",
    "    data_holdout[\"best_logit_pred_proba\"] < mean_predicted_growth_prob, 0, 1\n",
    ")\n",
    "cm_object2 = confusion_matrix(\n",
    "    data_holdout[\"High_growth\"], holdout_prediction, labels=[0, 1]\n",
    ")\n",
    "cm2 = pd.DataFrame(\n",
    "    cm_object2,\n",
    "    index=[\"Actul no High_growth\", \"Actual High_growth\"],\n",
    "    columns=[\"Predicted no High_growth\", \"Predicted High_growth\"],\n",
    ")\n",
    "cm2"
   ]
  },
  {
   "cell_type": "code",
   "execution_count": 53,
   "id": "98c34e41-3b74-467c-8c3c-d6f3461c112d",
   "metadata": {},
   "outputs": [],
   "source": [
    "thresholds = np.arange(0.05, 0.76, 0.05)\n",
    "#thresholds = sorted(np.geomspace(0.95, 0.05, num=17)) # set these treshold values to get even points in the plot\n",
    "cm = dict()\n",
    "true_positive_rates = []\n",
    "false_positive_rates = []\n",
    "holdout_prediction = []\n",
    "for thr in thresholds:\n",
    "    holdout_prediction = np.where(data_holdout[\"best_logit_pred_proba\"] < thr, 0, 1)\n",
    "    cm_thr = confusion_matrix(data_holdout[\"High_growth\"], holdout_prediction, labels=[0, 1])\n",
    "    cm[thr] = cm_thr\n",
    "    tn, fp, fn, tp = cm_thr.ravel()\n",
    "    true_positive_rates.append(tp / (tp + fn))\n",
    "    false_positive_rates.append(fp / (fp + tn))"
   ]
  },
  {
   "cell_type": "code",
   "execution_count": 54,
   "id": "0d1cb54a-59a0-4e6a-84e6-8fe406d347ed",
   "metadata": {},
   "outputs": [],
   "source": [
    "tpr_fpr_for_thresholds = pd.DataFrame(\n",
    "    {\n",
    "        \"thresholds\": thresholds,\n",
    "        \"true_positive_rates\": true_positive_rates,\n",
    "        \"false_positive_rates\": false_positive_rates,\n",
    "    }\n",
    ")"
   ]
  },
  {
   "cell_type": "code",
   "execution_count": 55,
   "id": "bacb1fde-95e6-4831-ad0c-7c15beef7cc6",
   "metadata": {},
   "outputs": [
    {
     "data": {
      "image/png": "[encoded data removed]",
      "text/plain": [
       "<Figure size 640x480 with 1 Axes>"
      ]
     },
     "metadata": {},
     "output_type": "display_data"
    },
    {
     "data": {
      "text/plain": [
       "<ggplot: (133144746268)>"
      ]
     },
     "execution_count": 55,
     "metadata": {},
     "output_type": "execute_result"
    }
   ],
   "source": [
    "sensitivity= (\n",
    "    ggplot(\n",
    "        tpr_fpr_for_thresholds,\n",
    "        aes(x=\"false_positive_rates\", y=\"true_positive_rates\", color=\"thresholds\"),\n",
    "    )\n",
    "    + labs(\n",
    "        x=\"False positive rate (1 - Specificity)\", y=\"True positive rate (Sensitivity)\"\n",
    "    )\n",
    "    + geom_point(size=4, alpha=0.8)\n",
    "    + scale_color_continuous(trans=\"reverse\", name=\"threshold\")\n",
    "    + scale_x_continuous(limits=(0, 1), breaks=np.arange(0, 1.01, 0.1))\n",
    "    + scale_y_continuous(limits=(0, 1), breaks=np.arange(0, 1.01, 0.1))\n",
    "    + theme_bw()\n",
    "    + theme(legend_position=\"right\")\n",
    ")\n",
    "ggsave(sensitivity, filename=output +'\\\\sensitivity.png', dpi=1000)\n",
    "sensitivity"
   ]
  },
  {
   "cell_type": "code",
   "execution_count": 56,
   "id": "f5918cb8-5fe6-4e98-b18a-9a465971f597",
   "metadata": {},
   "outputs": [
    {
     "data": {
      "image/png": "[encoded data removed]",
      "text/plain": [
       "<Figure size 640x480 with 1 Axes>"
      ]
     },
     "metadata": {},
     "output_type": "display_data"
    },
    {
     "data": {
      "text/plain": [
       "<ggplot: (133144890245)>"
      ]
     },
     "execution_count": 56,
     "metadata": {},
     "output_type": "execute_result"
    }
   ],
   "source": [
    "create_roc_plot(data_holdout[\"High_growth\"], data_holdout[\"best_logit_pred_proba\"])"
   ]
  },
  {
   "cell_type": "markdown",
   "id": "90ce2f6c-8f5c-4dde-bba7-717d7d500f8e",
   "metadata": {},
   "source": [
    "### Classification by using loss function "
   ]
  },
  {
   "cell_type": "code",
   "execution_count": 57,
   "id": "799abe2d-3aeb-47dc-bf8d-d04b6846f981",
   "metadata": {},
   "outputs": [],
   "source": [
    "FP = 4\n",
    "FN = 3\n",
    "cost = FN / FP"
   ]
  },
  {
   "cell_type": "code",
   "execution_count": 58,
   "id": "b1994de2-c54f-493e-b3c1-7bccc53dc66c",
   "metadata": {},
   "outputs": [],
   "source": [
    "prevelance = y_train.sum() / len(y_train)"
   ]
  },
  {
   "cell_type": "code",
   "execution_count": 59,
   "id": "6642c0cc-ee07-4a2d-8aa5-c2a23acee5ee",
   "metadata": {},
   "outputs": [],
   "source": [
    "best_thresholds_cv = dict()\n",
    "expected_loss_cv = dict()\n",
    "fold5_threshold = dict()\n",
    "fold5_expected_loss = dict()\n",
    "fold5_all_coords = dict()\n",
    "\n",
    "for i, model_name in enumerate(logit_models):\n",
    "    best_thresholds = []\n",
    "    expected_loss = []\n",
    "\n",
    "    if model_name != \"LASSO\":\n",
    "        _, X = patsy.dmatrices(\"High_growth ~\" + \"+\".join(logit_model_vars[i]), data_train)\n",
    "        X = pd.DataFrame(X)\n",
    "        c_index = 0\n",
    "    else:\n",
    "        X = normalized_logitvars\n",
    "        c_index = best_lambda_i\n",
    "    fold = 0\n",
    "    for train_index, test_index in k.split(X):\n",
    "        X_fold = X.iloc[test_index, :]\n",
    "        y_fold = data_train[\"High_growth\"].iloc[test_index]\n",
    "        pred_fold = generate_fold_prediction(\n",
    "            logit_models[model_name], X_fold, fold, c_index\n",
    "        )\n",
    "        false_pos_rate, true_pos_rate, thresholds = roc_curve(y_fold, pred_fold)\n",
    "        optimal_threshold = sorted(\n",
    "            list(\n",
    "                zip(\n",
    "                    np.abs(\n",
    "                        true_pos_rate\n",
    "                        + (1 - prevelance) / (cost * prevelance) * (1 - false_pos_rate)\n",
    "                    ),\n",
    "                    thresholds,\n",
    "                )\n",
    "            ),\n",
    "            key=lambda i: i[0],\n",
    "            reverse=True,\n",
    "        )[0][1]\n",
    "        best_thresholds.append(optimal_threshold)\n",
    "        threshold_prediction = np.where(pred_fold < optimal_threshold, 0, 1)\n",
    "        tn, fp, fn, tp = confusion_matrix(\n",
    "            y_fold, threshold_prediction, labels=[0, 1]\n",
    "        ).ravel()\n",
    "        curr_exp_loss = (fp * FP + fn * FN) / len(y_fold)\n",
    "        expected_loss.append(curr_exp_loss)\n",
    "        fold = fold + 1\n",
    "\n",
    "    best_thresholds_cv[model_name] = np.mean(best_thresholds)\n",
    "    expected_loss_cv[model_name] = np.mean(expected_loss)\n",
    "\n",
    "    # for fold #5\n",
    "    fold5_threshold[model_name] = optimal_threshold\n",
    "    fold5_expected_loss[model_name] = curr_exp_loss\n",
    "\n",
    "    all_coords = pd.DataFrame(\n",
    "        {\n",
    "            \"false_pos\": false_pos_rate * sum(y_fold == 0),\n",
    "            \"true_pos\": true_pos_rate * sum(y_fold == 1),\n",
    "            \"false_neg\": sum(y_fold == 1) - true_pos_rate * sum(y_fold == 1),\n",
    "            \"true_neg\": sum(y_fold == 0) - false_pos_rate * sum(y_fold == 0),\n",
    "            \"pos\": sum(y_fold == 1),\n",
    "            \"neg\": sum(y_fold == 0),\n",
    "            \"n\": len(y_fold),\n",
    "            \"thresholds\": thresholds,\n",
    "        }\n",
    "    )\n",
    "\n",
    "    fold5_all_coords[model_name] = all_coords"
   ]
  },
  {
   "cell_type": "code",
   "execution_count": 60,
   "id": "4c2aa84b-ffa2-4854-ab5c-892d72ecb4bb",
   "metadata": {},
   "outputs": [],
   "source": [
    "summary_with_lossfnc = pd.DataFrame(\n",
    "    best_thresholds_cv.items(), columns=[\"Model\", \"Avg of optimal thresholds\"]\n",
    ")\n",
    "summary_with_lossfnc[\"Threshold for Fold5\"] = fold5_threshold.values()\n",
    "summary_with_lossfnc[\"Avg expected loss\"] = expected_loss_cv.values()\n",
    "summary_with_lossfnc[\"Expected loss for Fold5\"] = fold5_expected_loss.values()"
   ]
  },
  {
   "cell_type": "code",
   "execution_count": 61,
   "id": "96d78ffa-7124-4d4c-bd92-96e7a1e38ee3",
   "metadata": {},
   "outputs": [
    {
     "data": {
      "text/html": [
       "<div>\n",
       "<style scoped>\n",
       "    .dataframe tbody tr th:only-of-type {\n",
       "        vertical-align: middle;\n",
       "    }\n",
       "\n",
       "    .dataframe tbody tr th {\n",
       "        vertical-align: top;\n",
       "    }\n",
       "\n",
       "    .dataframe thead th {\n",
       "        text-align: right;\n",
       "    }\n",
       "</style>\n",
       "<table border=\"1\" class=\"dataframe\">\n",
       "  <thead>\n",
       "    <tr style=\"text-align: right;\">\n",
       "      <th></th>\n",
       "      <th>Model</th>\n",
       "      <th>Avg of optimal thresholds</th>\n",
       "      <th>Threshold for Fold5</th>\n",
       "      <th>Avg expected loss</th>\n",
       "      <th>Expected loss for Fold5</th>\n",
       "    </tr>\n",
       "  </thead>\n",
       "  <tbody>\n",
       "    <tr>\n",
       "      <th>0</th>\n",
       "      <td>M1</td>\n",
       "      <td>0.665775</td>\n",
       "      <td>0.437027</td>\n",
       "      <td>0.417550</td>\n",
       "      <td>0.417689</td>\n",
       "    </tr>\n",
       "    <tr>\n",
       "      <th>1</th>\n",
       "      <td>M2</td>\n",
       "      <td>0.746741</td>\n",
       "      <td>1.623098</td>\n",
       "      <td>0.418368</td>\n",
       "      <td>0.423634</td>\n",
       "    </tr>\n",
       "    <tr>\n",
       "      <th>2</th>\n",
       "      <td>M3</td>\n",
       "      <td>0.948112</td>\n",
       "      <td>0.480825</td>\n",
       "      <td>0.418293</td>\n",
       "      <td>0.421033</td>\n",
       "    </tr>\n",
       "    <tr>\n",
       "      <th>3</th>\n",
       "      <td>M4</td>\n",
       "      <td>0.502432</td>\n",
       "      <td>0.489833</td>\n",
       "      <td>0.412423</td>\n",
       "      <td>0.419175</td>\n",
       "    </tr>\n",
       "    <tr>\n",
       "      <th>4</th>\n",
       "      <td>M5</td>\n",
       "      <td>0.600458</td>\n",
       "      <td>0.691180</td>\n",
       "      <td>0.412348</td>\n",
       "      <td>0.420290</td>\n",
       "    </tr>\n",
       "    <tr>\n",
       "      <th>5</th>\n",
       "      <td>LASSO</td>\n",
       "      <td>0.513219</td>\n",
       "      <td>0.507251</td>\n",
       "      <td>0.413017</td>\n",
       "      <td>0.415831</td>\n",
       "    </tr>\n",
       "  </tbody>\n",
       "</table>\n",
       "</div>"
      ],
      "text/plain": [
       "   Model  Avg of optimal thresholds  Threshold for Fold5  Avg expected loss  \\\n",
       "0     M1                   0.665775             0.437027           0.417550   \n",
       "1     M2                   0.746741             1.623098           0.418368   \n",
       "2     M3                   0.948112             0.480825           0.418293   \n",
       "3     M4                   0.502432             0.489833           0.412423   \n",
       "4     M5                   0.600458             0.691180           0.412348   \n",
       "5  LASSO                   0.513219             0.507251           0.413017   \n",
       "\n",
       "   Expected loss for Fold5  \n",
       "0                 0.417689  \n",
       "1                 0.423634  \n",
       "2                 0.421033  \n",
       "3                 0.419175  \n",
       "4                 0.420290  \n",
       "5                 0.415831  "
      ]
     },
     "execution_count": 61,
     "metadata": {},
     "output_type": "execute_result"
    }
   ],
   "source": [
    "summary_with_lossfnc.to_csv(output +'\\\\table.csv')\n",
    "summary_with_lossfnc"
   ]
  },
  {
   "cell_type": "code",
   "execution_count": 62,
   "id": "4ffbb4eb-ccc9-429f-afe2-13c6c15c3ad7",
   "metadata": {},
   "outputs": [
    {
     "data": {
      "image/png": "[encoded data removed]",
      "text/plain": [
       "<Figure size 640x480 with 1 Axes>"
      ]
     },
     "metadata": {},
     "output_type": "display_data"
    },
    {
     "data": {
      "text/plain": [
       "<ggplot: (133145940502)>"
      ]
     },
     "execution_count": 62,
     "metadata": {},
     "output_type": "execute_result"
    }
   ],
   "source": [
    "model_to_plot = \"M4\"  # select model to plot\n",
    "loss= create_loss_plot(\n",
    "    fold5_all_coords[model_to_plot],\n",
    "    fold5_threshold[model_to_plot],\n",
    "    fold5_expected_loss[model_to_plot],\n",
    ")\n",
    "ggsave(loss, filename=output +'\\\\loss.png', dpi=1000)\n",
    "loss"
   ]
  },
  {
   "cell_type": "code",
   "execution_count": 63,
   "id": "ebdfb6b2-aa47-4f2e-b4a0-a00f8af42bc7",
   "metadata": {},
   "outputs": [
    {
     "data": {
      "image/png": "[encoded data removed]",
      "text/plain": [
       "<Figure size 640x480 with 1 Axes>"
      ]
     },
     "metadata": {},
     "output_type": "display_data"
    },
    {
     "data": {
      "text/plain": [
       "<ggplot: (133150365980)>"
      ]
     },
     "execution_count": 63,
     "metadata": {},
     "output_type": "execute_result"
    }
   ],
   "source": [
    "roc_cur=create_roc_plot_with_optimal(\n",
    "    fold5_all_coords[model_to_plot], fold5_threshold[model_to_plot]\n",
    ")\n",
    "ggsave(roc_cur, filename=output +'\\\\roc_cur.png', dpi=1000)\n",
    "roc_cur"
   ]
  },
  {
   "cell_type": "code",
   "execution_count": 64,
   "id": "4a59d576-de88-460b-b2f1-51893c88107e",
   "metadata": {},
   "outputs": [
    {
     "data": {
      "text/plain": [
       "0.413"
      ]
     },
     "execution_count": 64,
     "metadata": {},
     "output_type": "execute_result"
    }
   ],
   "source": [
    "best_logit_optimal_treshold = best_thresholds_cv[\"M4\"]\n",
    "\n",
    "# Get expected loss on holdout\n",
    "holdout_treshold = np.where(\n",
    "    data_holdout[\"best_logit_pred_proba\"] < best_logit_optimal_treshold, 0, 1\n",
    ")\n",
    "tn, fp, fn, tp = confusion_matrix(\n",
    "    data_holdout[\"High_growth\"], holdout_treshold, labels=[0, 1]\n",
    ").ravel()\n",
    "expected_loss_holdout = (fp * FP + fn * FN) / len(data_holdout[\"High_growth\"])\n",
    "round(expected_loss_holdout, 3)"
   ]
  },
  {
   "cell_type": "code",
   "execution_count": 65,
   "id": "96ba8c7f-b3c8-457f-b460-33990f9a69aa",
   "metadata": {},
   "outputs": [
    {
     "data": {
      "text/html": [
       "<div>\n",
       "<style scoped>\n",
       "    .dataframe tbody tr th:only-of-type {\n",
       "        vertical-align: middle;\n",
       "    }\n",
       "\n",
       "    .dataframe tbody tr th {\n",
       "        vertical-align: top;\n",
       "    }\n",
       "\n",
       "    .dataframe thead th {\n",
       "        text-align: right;\n",
       "    }\n",
       "</style>\n",
       "<table border=\"1\" class=\"dataframe\">\n",
       "  <thead>\n",
       "    <tr style=\"text-align: right;\">\n",
       "      <th></th>\n",
       "      <th>Predicted no High_growth</th>\n",
       "      <th>Predicted High_growth</th>\n",
       "    </tr>\n",
       "  </thead>\n",
       "  <tbody>\n",
       "    <tr>\n",
       "      <th>Actul no High_growth</th>\n",
       "      <td>2887</td>\n",
       "      <td>20</td>\n",
       "    </tr>\n",
       "    <tr>\n",
       "      <th>Actual High_growth</th>\n",
       "      <td>437</td>\n",
       "      <td>21</td>\n",
       "    </tr>\n",
       "  </tbody>\n",
       "</table>\n",
       "</div>"
      ],
      "text/plain": [
       "                      Predicted no High_growth  Predicted High_growth\n",
       "Actul no High_growth                      2887                     20\n",
       "Actual High_growth                         437                     21"
      ]
     },
     "execution_count": 65,
     "metadata": {},
     "output_type": "execute_result"
    }
   ],
   "source": [
    "cm_object3 = confusion_matrix(data_holdout[\"High_growth\"], holdout_treshold, labels=[0, 1])\n",
    "cm3 = pd.DataFrame(\n",
    "    cm_object3,\n",
    "    index=[\"Actul no High_growth\", \"Actual High_growth\"],\n",
    "    columns=[\"Predicted no High_growth\", \"Predicted High_growth\"],\n",
    ")\n",
    "cm3.to_csv(output +'\\\\model.csv')\n",
    "cm3"
   ]
  },
  {
   "cell_type": "code",
   "execution_count": 66,
   "id": "42d2ce2b-fcc7-4b40-b7b8-b5f8251a8b2f",
   "metadata": {},
   "outputs": [],
   "source": [
    "best_thresholds = list()\n",
    "expected_loss = list()\n",
    "rfvars_train = pd.DataFrame(rfvars_train)\n",
    "\n",
    "fold = 0\n",
    "for train_index, test_index in k.split(rfvars_train):\n",
    "    X_fold = rfvars_train.iloc[test_index, :]\n",
    "    y_fold = data_train[\"High_growth\"].iloc[test_index]\n",
    "\n",
    "    X_fold_train = rfvars_train.iloc[train_index, :]\n",
    "    y_fold_train = data_train[\"High_growth\"].iloc[train_index]\n",
    "\n",
    "    prob_forest_best = RandomForestClassifier(\n",
    "        random_state=42,\n",
    "        n_estimators=500,\n",
    "        oob_score=True,\n",
    "        criterion=\"gini\",\n",
    "        max_features=best_mtry,\n",
    "        min_samples_split=best_min_node_size,\n",
    "    )\n",
    "    prob_forest_best_fold = prob_forest_best.fit(X_fold_train, y_fold_train)\n",
    "    pred_fold = prob_forest_best_fold.predict_proba(X_fold)[:, 1]\n",
    "\n",
    "    false_pos_rate, true_pos_rate, threshold = roc_curve(y_fold, pred_fold)\n",
    "    best_threshold = sorted(\n",
    "        list(\n",
    "            zip(\n",
    "                np.abs(\n",
    "                    true_pos_rate\n",
    "                    + (1 - prevelance) / (cost * prevelance) * (1 - false_pos_rate)\n",
    "                ),\n",
    "                threshold,\n",
    "            )\n",
    "        ),\n",
    "        key=lambda x: x[0],\n",
    "        reverse=True,\n",
    "    )[0][1]\n",
    "    best_thresholds.append(best_threshold)\n",
    "    threshold_prediction = np.where(pred_fold < best_threshold, 0, 1)\n",
    "    tn, fp, fn, tp = confusion_matrix(\n",
    "        y_fold, threshold_prediction, labels=[0, 1]\n",
    "    ).ravel()\n",
    "    curr_exp_loss = (fp * FP + fn * FN) / len(y_fold)\n",
    "    expected_loss.append(curr_exp_loss)\n",
    "\n",
    "fold5_threshold_rf = best_threshold\n",
    "fold5_expected_loss_rf = curr_exp_loss\n",
    "\n",
    "all_coords_rf = pd.DataFrame(\n",
    "    {\n",
    "        \"false_pos\": false_pos_rate * sum(y_fold == 0),\n",
    "        \"true_pos\": true_pos_rate * sum(y_fold == 1),\n",
    "        \"false_neg\": sum(y_fold == 1) - true_pos_rate * sum(y_fold == 1),\n",
    "        \"true_neg\": sum(y_fold == 0) - false_pos_rate * sum(y_fold == 0),\n",
    "        \"pos\": sum(y_fold == 1),\n",
    "        \"neg\": sum(y_fold == 0),\n",
    "        \"n\": len(y_fold),\n",
    "        \"thresholds\": threshold,\n",
    "    }\n",
    ")"
   ]
  },
  {
   "cell_type": "code",
   "execution_count": 67,
   "id": "73f65a3e-23e7-4ccf-94a6-5bbdd598834f",
   "metadata": {},
   "outputs": [],
   "source": [
    "expected_loss_cv[\"RF\"] = np.mean(expected_loss)\n",
    "best_thresholds_cv[\"RF\"] = np.mean(best_thresholds)"
   ]
  },
  {
   "cell_type": "code",
   "execution_count": 68,
   "id": "a0910c85-230c-41fb-864f-9f355231c324",
   "metadata": {},
   "outputs": [
    {
     "data": {
      "text/html": [
       "<div>\n",
       "<style scoped>\n",
       "    .dataframe tbody tr th:only-of-type {\n",
       "        vertical-align: middle;\n",
       "    }\n",
       "\n",
       "    .dataframe tbody tr th {\n",
       "        vertical-align: top;\n",
       "    }\n",
       "\n",
       "    .dataframe thead th {\n",
       "        text-align: right;\n",
       "    }\n",
       "</style>\n",
       "<table border=\"1\" class=\"dataframe\">\n",
       "  <thead>\n",
       "    <tr style=\"text-align: right;\">\n",
       "      <th></th>\n",
       "      <th>CV RMSE</th>\n",
       "      <th>CV AUC</th>\n",
       "      <th>Avg of optimal thresholds</th>\n",
       "      <th>Threshold for Fold5</th>\n",
       "      <th>Avg expected loss</th>\n",
       "      <th>Expected loss for Fold5</th>\n",
       "    </tr>\n",
       "  </thead>\n",
       "  <tbody>\n",
       "    <tr>\n",
       "      <th>0</th>\n",
       "      <td>0.332</td>\n",
       "      <td>0.717</td>\n",
       "      <td>0.954</td>\n",
       "      <td>1.644</td>\n",
       "      <td>0.416</td>\n",
       "      <td>0.424</td>\n",
       "    </tr>\n",
       "  </tbody>\n",
       "</table>\n",
       "</div>"
      ],
      "text/plain": [
       "   CV RMSE  CV AUC  Avg of optimal thresholds  Threshold for Fold5  \\\n",
       "0    0.332   0.717                      0.954                1.644   \n",
       "\n",
       "   Avg expected loss  Expected loss for Fold5  \n",
       "0              0.416                    0.424  "
      ]
     },
     "execution_count": 68,
     "metadata": {},
     "output_type": "execute_result"
    }
   ],
   "source": [
    "rf_summary = pd.DataFrame(\n",
    "    {\n",
    "        \"CV RMSE\": [round(prob_forest_best_results[\"cv_rmse\"].values[0], 3)],\n",
    "        \"CV AUC\": [round(prob_forest_best_results[\"cv_auc\"].values[0], 3)],\n",
    "        \"Avg of optimal thresholds\": [round(best_thresholds_cv[\"RF\"], 3)],\n",
    "        \"Threshold for Fold5\": [round(best_threshold, 3)],\n",
    "        \"Avg expected loss\": [round(expected_loss_cv[\"RF\"], 3)],\n",
    "        \"Expected loss for Fold5\": [round(curr_exp_loss, 3)],\n",
    "    }\n",
    ")\n",
    "\n",
    "rf_summary"
   ]
  },
  {
   "cell_type": "code",
   "execution_count": 69,
   "id": "61613190-fe6e-4876-87e3-ed0adedccb08",
   "metadata": {},
   "outputs": [
    {
     "data": {
      "image/png": "[encoded data removed]",
      "text/plain": [
       "<Figure size 640x480 with 1 Axes>"
      ]
     },
     "metadata": {},
     "output_type": "display_data"
    },
    {
     "data": {
      "text/plain": [
       "<ggplot: (133144725508)>"
      ]
     },
     "execution_count": 69,
     "metadata": {},
     "output_type": "execute_result"
    }
   ],
   "source": [
    "create_loss_plot(all_coords_rf, fold5_threshold_rf, fold5_expected_loss_rf)"
   ]
  },
  {
   "cell_type": "code",
   "execution_count": 70,
   "id": "202754d2-f3ba-43cd-bc59-9161e2517097",
   "metadata": {},
   "outputs": [
    {
     "data": {
      "image/png": "[encoded data removed]",
      "text/plain": [
       "<Figure size 640x480 with 1 Axes>"
      ]
     },
     "metadata": {},
     "output_type": "display_data"
    },
    {
     "data": {
      "text/plain": [
       "<ggplot: (133150512743)>"
      ]
     },
     "execution_count": 70,
     "metadata": {},
     "output_type": "execute_result"
    }
   ],
   "source": [
    "create_roc_plot_with_optimal(all_coords_rf, fold5_threshold_rf)"
   ]
  },
  {
   "cell_type": "code",
   "execution_count": 71,
   "id": "e4d511bb-6d93-4871-8f31-da6a267ce0b5",
   "metadata": {},
   "outputs": [
    {
     "data": {
      "text/plain": [
       "0.327"
      ]
     },
     "execution_count": 71,
     "metadata": {},
     "output_type": "execute_result"
    }
   ],
   "source": [
    "prob_forest_fit_best = prob_forest_fit.best_estimator_\n",
    "rf_predicted_probabilities_holdout = prob_forest_fit_best.predict_proba(rfvars_holdout)[\n",
    "    :, 1\n",
    "]\n",
    "rmse_rf = np.sqrt(mean_squared_error(y_holdout, rf_predicted_probabilities_holdout))\n",
    "round(rmse_rf, 3)"
   ]
  },
  {
   "cell_type": "code",
   "execution_count": 72,
   "id": "1faf8f47-a090-4144-abf7-bb4fc85138cc",
   "metadata": {},
   "outputs": [
    {
     "data": {
      "text/plain": [
       "0.734"
      ]
     },
     "execution_count": 72,
     "metadata": {},
     "output_type": "execute_result"
    }
   ],
   "source": [
    "auc_rf = roc_auc_score(y_holdout, rf_predicted_probabilities_holdout)\n",
    "round(auc_rf, 3)"
   ]
  },
  {
   "cell_type": "code",
   "execution_count": 73,
   "id": "20817256-c430-4493-9b71-2d8f54a7ef90",
   "metadata": {},
   "outputs": [
    {
     "data": {
      "text/plain": [
       "0.408"
      ]
     },
     "execution_count": 73,
     "metadata": {},
     "output_type": "execute_result"
    }
   ],
   "source": [
    "holdout_treshold = np.where(\n",
    "    rf_predicted_probabilities_holdout < best_thresholds_cv[\"RF\"], 0, 1\n",
    ")\n",
    "tn, fp, fn, tp = confusion_matrix(y_holdout, holdout_treshold, labels=[0, 1]).ravel()\n",
    "expected_loss_holdout = (fp * FP + fn * FN) / len(y_holdout)\n",
    "round(expected_loss_holdout, 3)"
   ]
  },
  {
   "cell_type": "code",
   "execution_count": 74,
   "id": "957eb49b-e176-4c34-abc4-5062aed40ad9",
   "metadata": {},
   "outputs": [],
   "source": [
    "summary[\"CV treshold\"] = best_thresholds_cv.values()\n",
    "summary[\"CV expected Loss\"] = expected_loss_cv.values()"
   ]
  },
  {
   "cell_type": "code",
   "execution_count": 75,
   "id": "6fc5f849-3dbd-47c6-8a23-e4c2f62d3c99",
   "metadata": {},
   "outputs": [
    {
     "data": {
      "text/html": [
       "<div>\n",
       "<style scoped>\n",
       "    .dataframe tbody tr th:only-of-type {\n",
       "        vertical-align: middle;\n",
       "    }\n",
       "\n",
       "    .dataframe tbody tr th {\n",
       "        vertical-align: top;\n",
       "    }\n",
       "\n",
       "    .dataframe thead th {\n",
       "        text-align: right;\n",
       "    }\n",
       "</style>\n",
       "<table border=\"1\" class=\"dataframe\">\n",
       "  <thead>\n",
       "    <tr style=\"text-align: right;\">\n",
       "      <th></th>\n",
       "      <th>Number of Coefficients</th>\n",
       "      <th>CV RMSE</th>\n",
       "      <th>CV AUC</th>\n",
       "      <th>CV treshold</th>\n",
       "      <th>CV expected Loss</th>\n",
       "    </tr>\n",
       "  </thead>\n",
       "  <tbody>\n",
       "    <tr>\n",
       "      <th>M1</th>\n",
       "      <td>12.0</td>\n",
       "      <td>0.340415</td>\n",
       "      <td>0.649101</td>\n",
       "      <td>0.665775</td>\n",
       "      <td>0.417550</td>\n",
       "    </tr>\n",
       "    <tr>\n",
       "      <th>M2</th>\n",
       "      <td>19.0</td>\n",
       "      <td>0.339111</td>\n",
       "      <td>0.667022</td>\n",
       "      <td>0.746741</td>\n",
       "      <td>0.418368</td>\n",
       "    </tr>\n",
       "    <tr>\n",
       "      <th>M3</th>\n",
       "      <td>33.0</td>\n",
       "      <td>0.339367</td>\n",
       "      <td>0.664183</td>\n",
       "      <td>0.948112</td>\n",
       "      <td>0.418293</td>\n",
       "    </tr>\n",
       "    <tr>\n",
       "      <th>M4</th>\n",
       "      <td>76.0</td>\n",
       "      <td>0.333711</td>\n",
       "      <td>0.701493</td>\n",
       "      <td>0.502432</td>\n",
       "      <td>0.412423</td>\n",
       "    </tr>\n",
       "    <tr>\n",
       "      <th>M5</th>\n",
       "      <td>143.0</td>\n",
       "      <td>0.333170</td>\n",
       "      <td>0.706208</td>\n",
       "      <td>0.600458</td>\n",
       "      <td>0.412348</td>\n",
       "    </tr>\n",
       "    <tr>\n",
       "      <th>LASSO</th>\n",
       "      <td>68.0</td>\n",
       "      <td>0.332403</td>\n",
       "      <td>0.709634</td>\n",
       "      <td>0.513219</td>\n",
       "      <td>0.413017</td>\n",
       "    </tr>\n",
       "    <tr>\n",
       "      <th>RF</th>\n",
       "      <td>n.a.</td>\n",
       "      <td>0.332119</td>\n",
       "      <td>0.717473</td>\n",
       "      <td>0.953849</td>\n",
       "      <td>0.415693</td>\n",
       "    </tr>\n",
       "  </tbody>\n",
       "</table>\n",
       "</div>"
      ],
      "text/plain": [
       "      Number of Coefficients   CV RMSE    CV AUC  CV treshold  \\\n",
       "M1                      12.0  0.340415  0.649101     0.665775   \n",
       "M2                      19.0  0.339111  0.667022     0.746741   \n",
       "M3                      33.0  0.339367  0.664183     0.948112   \n",
       "M4                      76.0  0.333711  0.701493     0.502432   \n",
       "M5                     143.0  0.333170  0.706208     0.600458   \n",
       "LASSO                   68.0  0.332403  0.709634     0.513219   \n",
       "RF                      n.a.  0.332119  0.717473     0.953849   \n",
       "\n",
       "       CV expected Loss  \n",
       "M1             0.417550  \n",
       "M2             0.418368  \n",
       "M3             0.418293  \n",
       "M4             0.412423  \n",
       "M5             0.412348  \n",
       "LASSO          0.413017  \n",
       "RF             0.415693  "
      ]
     },
     "execution_count": 75,
     "metadata": {},
     "output_type": "execute_result"
    }
   ],
   "source": [
    "summary.to_csv(output +'\\\\last.csv')\n",
    "summary"
   ]
  },
  {
   "cell_type": "markdown",
   "id": "563a7bc6-7524-433d-9b9b-7aef411e026d",
   "metadata": {},
   "source": [
    "### Second classification "
   ]
  },
  {
   "cell_type": "code",
   "execution_count": 89,
   "id": "4bf515bd-7f62-46d6-a836-0f1f17b909cd",
   "metadata": {},
   "outputs": [],
   "source": [
    "FP = 1\n",
    "FN = 5\n",
    "cost = FN / FP"
   ]
  },
  {
   "cell_type": "code",
   "execution_count": 90,
   "id": "753e9c23-6ac8-4bce-b003-7c09cf343083",
   "metadata": {},
   "outputs": [],
   "source": [
    "best_thresholds_cv = dict()\n",
    "expected_loss_cv = dict()\n",
    "fold5_threshold = dict()\n",
    "fold5_expected_loss = dict()\n",
    "fold5_all_coords = dict()\n",
    "\n",
    "for i, model_name in enumerate(logit_models):\n",
    "    best_thresholds = []\n",
    "    expected_loss = []\n",
    "\n",
    "    if model_name != \"LASSO\":\n",
    "        _, X = patsy.dmatrices(\"High_growth ~\" + \"+\".join(logit_model_vars[i]), data_train)\n",
    "        X = pd.DataFrame(X)\n",
    "        c_index = 0\n",
    "    else:\n",
    "        X = normalized_logitvars\n",
    "        c_index = best_lambda_i\n",
    "    fold = 0\n",
    "    for train_index, test_index in k.split(X):\n",
    "        X_fold = X.iloc[test_index, :]\n",
    "        y_fold = data_train[\"High_growth\"].iloc[test_index]\n",
    "        pred_fold = generate_fold_prediction(\n",
    "            logit_models[model_name], X_fold, fold, c_index\n",
    "        )\n",
    "        false_pos_rate, true_pos_rate, thresholds = roc_curve(y_fold, pred_fold)\n",
    "        optimal_threshold = sorted(\n",
    "            list(\n",
    "                zip(\n",
    "                    np.abs(\n",
    "                        true_pos_rate\n",
    "                        + (1 - prevelance) / (cost * prevelance) * (1 - false_pos_rate)\n",
    "                    ),\n",
    "                    thresholds,\n",
    "                )\n",
    "            ),\n",
    "            key=lambda i: i[0],\n",
    "            reverse=True,\n",
    "        )[0][1]\n",
    "        best_thresholds.append(optimal_threshold)\n",
    "        threshold_prediction = np.where(pred_fold < optimal_threshold, 0, 1)\n",
    "        tn, fp, fn, tp = confusion_matrix(\n",
    "            y_fold, threshold_prediction, labels=[0, 1]\n",
    "        ).ravel()\n",
    "        curr_exp_loss = (fp * FP + fn * FN) / len(y_fold)\n",
    "        expected_loss.append(curr_exp_loss)\n",
    "        fold = fold + 1\n",
    "\n",
    "    best_thresholds_cv[model_name] = np.mean(best_thresholds)\n",
    "    expected_loss_cv[model_name] = np.mean(expected_loss)\n",
    "\n",
    "    # for fold #5\n",
    "    fold5_threshold[model_name] = optimal_threshold\n",
    "    fold5_expected_loss[model_name] = curr_exp_loss\n",
    "\n",
    "    all_coords = pd.DataFrame(\n",
    "        {\n",
    "            \"false_pos\": false_pos_rate * sum(y_fold == 0),\n",
    "            \"true_pos\": true_pos_rate * sum(y_fold == 1),\n",
    "            \"false_neg\": sum(y_fold == 1) - true_pos_rate * sum(y_fold == 1),\n",
    "            \"true_neg\": sum(y_fold == 0) - false_pos_rate * sum(y_fold == 0),\n",
    "            \"pos\": sum(y_fold == 1),\n",
    "            \"neg\": sum(y_fold == 0),\n",
    "            \"n\": len(y_fold),\n",
    "            \"thresholds\": thresholds,\n",
    "        }\n",
    "    )\n",
    "\n",
    "    fold5_all_coords[model_name] = all_coords"
   ]
  },
  {
   "cell_type": "code",
   "execution_count": 91,
   "id": "d4eea22e-1a2d-4d5d-8883-a8e02974bbe3",
   "metadata": {},
   "outputs": [],
   "source": [
    "summary_with_lossfnc = pd.DataFrame(\n",
    "    best_thresholds_cv.items(), columns=[\"Model\", \"Avg of optimal thresholds\"]\n",
    ")\n",
    "summary_with_lossfnc[\"Threshold for Fold5 2\"] = fold5_threshold.values()\n",
    "summary_with_lossfnc[\"Avg expected loss 2\"] = expected_loss_cv.values()\n",
    "summary_with_lossfnc[\"Expected loss for Fold5 2\"] = fold5_expected_loss.values()"
   ]
  },
  {
   "cell_type": "code",
   "execution_count": 92,
   "id": "c935f3a1-2c11-4a01-874b-0e2de34b102f",
   "metadata": {},
   "outputs": [
    {
     "data": {
      "text/html": [
       "<div>\n",
       "<style scoped>\n",
       "    .dataframe tbody tr th:only-of-type {\n",
       "        vertical-align: middle;\n",
       "    }\n",
       "\n",
       "    .dataframe tbody tr th {\n",
       "        vertical-align: top;\n",
       "    }\n",
       "\n",
       "    .dataframe thead th {\n",
       "        text-align: right;\n",
       "    }\n",
       "</style>\n",
       "<table border=\"1\" class=\"dataframe\">\n",
       "  <thead>\n",
       "    <tr style=\"text-align: right;\">\n",
       "      <th></th>\n",
       "      <th>Model</th>\n",
       "      <th>Avg of optimal thresholds</th>\n",
       "      <th>Threshold for Fold5 2</th>\n",
       "      <th>Avg expected loss 2</th>\n",
       "      <th>Expected loss for Fold5 2</th>\n",
       "    </tr>\n",
       "  </thead>\n",
       "  <tbody>\n",
       "    <tr>\n",
       "      <th>0</th>\n",
       "      <td>M1</td>\n",
       "      <td>0.151649</td>\n",
       "      <td>0.151479</td>\n",
       "      <td>0.588241</td>\n",
       "      <td>0.574136</td>\n",
       "    </tr>\n",
       "    <tr>\n",
       "      <th>1</th>\n",
       "      <td>M2</td>\n",
       "      <td>0.158768</td>\n",
       "      <td>0.159465</td>\n",
       "      <td>0.574569</td>\n",
       "      <td>0.571163</td>\n",
       "    </tr>\n",
       "    <tr>\n",
       "      <th>2</th>\n",
       "      <td>M3</td>\n",
       "      <td>0.155255</td>\n",
       "      <td>0.154201</td>\n",
       "      <td>0.572488</td>\n",
       "      <td>0.591230</td>\n",
       "    </tr>\n",
       "    <tr>\n",
       "      <th>3</th>\n",
       "      <td>M4</td>\n",
       "      <td>0.168674</td>\n",
       "      <td>0.152158</td>\n",
       "      <td>0.533699</td>\n",
       "      <td>0.535489</td>\n",
       "    </tr>\n",
       "    <tr>\n",
       "      <th>4</th>\n",
       "      <td>M5</td>\n",
       "      <td>0.159513</td>\n",
       "      <td>0.140306</td>\n",
       "      <td>0.523296</td>\n",
       "      <td>0.523969</td>\n",
       "    </tr>\n",
       "    <tr>\n",
       "      <th>5</th>\n",
       "      <td>LASSO</td>\n",
       "      <td>0.173725</td>\n",
       "      <td>0.168402</td>\n",
       "      <td>0.526343</td>\n",
       "      <td>0.532516</td>\n",
       "    </tr>\n",
       "  </tbody>\n",
       "</table>\n",
       "</div>"
      ],
      "text/plain": [
       "   Model  Avg of optimal thresholds  Threshold for Fold5 2  \\\n",
       "0     M1                   0.151649               0.151479   \n",
       "1     M2                   0.158768               0.159465   \n",
       "2     M3                   0.155255               0.154201   \n",
       "3     M4                   0.168674               0.152158   \n",
       "4     M5                   0.159513               0.140306   \n",
       "5  LASSO                   0.173725               0.168402   \n",
       "\n",
       "   Avg expected loss 2  Expected loss for Fold5 2  \n",
       "0             0.588241                   0.574136  \n",
       "1             0.574569                   0.571163  \n",
       "2             0.572488                   0.591230  \n",
       "3             0.533699                   0.535489  \n",
       "4             0.523296                   0.523969  \n",
       "5             0.526343                   0.532516  "
      ]
     },
     "execution_count": 92,
     "metadata": {},
     "output_type": "execute_result"
    }
   ],
   "source": [
    "summary_with_lossfnc.to_csv(output +'\\\\tablenew.csv')\n",
    "summary_with_lossfnc"
   ]
  },
  {
   "cell_type": "code",
   "execution_count": 93,
   "id": "16ec2a33-484c-4d79-9e52-44b2214b1889",
   "metadata": {},
   "outputs": [
    {
     "data": {
      "image/png": "[encoded data removed]",
      "text/plain": [
       "<Figure size 640x480 with 1 Axes>"
      ]
     },
     "metadata": {},
     "output_type": "display_data"
    },
    {
     "data": {
      "text/plain": [
       "<ggplot: (133150839065)>"
      ]
     },
     "execution_count": 93,
     "metadata": {},
     "output_type": "execute_result"
    }
   ],
   "source": [
    "model_to_plot = \"M4\"  # select model to plot\n",
    "loss= create_loss_plot(\n",
    "    fold5_all_coords[model_to_plot],\n",
    "    fold5_threshold[model_to_plot],\n",
    "    fold5_expected_loss[model_to_plot],\n",
    ")\n",
    "ggsave(loss, filename=output +'\\\\loss_new.png', dpi=1000)\n",
    "loss"
   ]
  },
  {
   "cell_type": "code",
   "execution_count": 94,
   "id": "b371cb90-cfef-4adf-bfde-6b5cb0934b6f",
   "metadata": {},
   "outputs": [
    {
     "data": {
      "image/png": "[encoded data removed]",
      "text/plain": [
       "<Figure size 640x480 with 1 Axes>"
      ]
     },
     "metadata": {},
     "output_type": "display_data"
    },
    {
     "data": {
      "text/plain": [
       "<ggplot: (133150412042)>"
      ]
     },
     "execution_count": 94,
     "metadata": {},
     "output_type": "execute_result"
    }
   ],
   "source": [
    "roc_cur=create_roc_plot_with_optimal(\n",
    "    fold5_all_coords[model_to_plot], fold5_threshold[model_to_plot]\n",
    ")\n",
    "ggsave(roc_cur, filename=output +'\\\\roc_cur_new.png', dpi=1000)\n",
    "roc_cur"
   ]
  },
  {
   "cell_type": "code",
   "execution_count": 95,
   "id": "3c67af31-3b6f-4261-ada8-98f2e7d8fb17",
   "metadata": {},
   "outputs": [
    {
     "data": {
      "text/plain": [
       "0.538"
      ]
     },
     "execution_count": 95,
     "metadata": {},
     "output_type": "execute_result"
    }
   ],
   "source": [
    "best_logit_optimal_treshold = best_thresholds_cv[\"M4\"]\n",
    "\n",
    "# Get expected loss on holdout\n",
    "holdout_treshold = np.where(\n",
    "    data_holdout[\"best_logit_pred_proba\"] < best_logit_optimal_treshold, 0, 1\n",
    ")\n",
    "tn, fp, fn, tp = confusion_matrix(\n",
    "    data_holdout[\"High_growth\"], holdout_treshold, labels=[0, 1]\n",
    ").ravel()\n",
    "expected_loss_holdout = (fp * FP + fn * FN) / len(data_holdout[\"High_growth\"])\n",
    "round(expected_loss_holdout, 3)"
   ]
  },
  {
   "cell_type": "code",
   "execution_count": 96,
   "id": "6c68859d-8a0d-4982-a11c-9ecc0330d4df",
   "metadata": {},
   "outputs": [
    {
     "data": {
      "text/html": [
       "<div>\n",
       "<style scoped>\n",
       "    .dataframe tbody tr th:only-of-type {\n",
       "        vertical-align: middle;\n",
       "    }\n",
       "\n",
       "    .dataframe tbody tr th {\n",
       "        vertical-align: top;\n",
       "    }\n",
       "\n",
       "    .dataframe thead th {\n",
       "        text-align: right;\n",
       "    }\n",
       "</style>\n",
       "<table border=\"1\" class=\"dataframe\">\n",
       "  <thead>\n",
       "    <tr style=\"text-align: right;\">\n",
       "      <th></th>\n",
       "      <th>Predicted no High_growth</th>\n",
       "      <th>Predicted High_growth</th>\n",
       "    </tr>\n",
       "  </thead>\n",
       "  <tbody>\n",
       "    <tr>\n",
       "      <th>Actul no High_growth</th>\n",
       "      <td>2233</td>\n",
       "      <td>674</td>\n",
       "    </tr>\n",
       "    <tr>\n",
       "      <th>Actual High_growth</th>\n",
       "      <td>227</td>\n",
       "      <td>231</td>\n",
       "    </tr>\n",
       "  </tbody>\n",
       "</table>\n",
       "</div>"
      ],
      "text/plain": [
       "                      Predicted no High_growth  Predicted High_growth\n",
       "Actul no High_growth                      2233                    674\n",
       "Actual High_growth                         227                    231"
      ]
     },
     "execution_count": 96,
     "metadata": {},
     "output_type": "execute_result"
    }
   ],
   "source": [
    "cm_object3 = confusion_matrix(data_holdout[\"High_growth\"], holdout_treshold, labels=[0, 1])\n",
    "cm3 = pd.DataFrame(\n",
    "    cm_object3,\n",
    "    index=[\"Actul no High_growth\", \"Actual High_growth\"],\n",
    "    columns=[\"Predicted no High_growth\", \"Predicted High_growth\"],\n",
    ")\n",
    "cm3.to_csv(output +'\\\\model_new.csv')\n",
    "cm3"
   ]
  },
  {
   "cell_type": "code",
   "execution_count": null,
   "id": "3f569192-89f6-4e96-b75c-69b4f1011ed1",
   "metadata": {},
   "outputs": [],
   "source": []
  }
 ],
 "metadata": {
  "kernelspec": {
   "display_name": "Python 3 (ipykernel)",
   "language": "python",
   "name": "python3"
  },
  "language_info": {
   "codemirror_mode": {
    "name": "ipython",
    "version": 3
   },
   "file_extension": ".py",
   "mimetype": "text/x-python",
   "name": "python",
   "nbconvert_exporter": "python",
   "pygments_lexer": "ipython3",
   "version": "3.9.13"
  }
 },
 "nbformat": 4,
 "nbformat_minor": 5
}
